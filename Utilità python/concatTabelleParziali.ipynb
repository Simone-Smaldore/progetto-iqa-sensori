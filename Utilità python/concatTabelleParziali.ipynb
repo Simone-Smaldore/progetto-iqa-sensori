{
 "cells": [
  {
   "cell_type": "code",
   "execution_count": 1,
   "id": "0717ba08-ed80-4874-b8cd-b8fbc2dc7a01",
   "metadata": {},
   "outputs": [],
   "source": [
    "import pandas as pd"
   ]
  },
  {
   "cell_type": "code",
   "execution_count": 3,
   "id": "74d57f8d-90e7-4b96-b110-110a11f4eef9",
   "metadata": {},
   "outputs": [],
   "source": [
    "testScore = pd.DataFrame()\n",
    "\n",
    "for i in range(204):\n",
    "    df_tmp = pd.read_csv(f'./tabelleParziali/{i + 1}/tabellaScore.csv')\n",
    "    testScore = pd.concat([testScore, df_tmp])"
   ]
  },
  {
   "cell_type": "code",
   "execution_count": 5,
   "id": "a82f41b4-0de6-4456-b858-154243423c75",
   "metadata": {},
   "outputs": [],
   "source": [
    "testScore.to_csv('./scoreCsv.csv', index=False)"
   ]
  }
 ],
 "metadata": {
  "kernelspec": {
   "display_name": "Python 3 (ipykernel)",
   "language": "python",
   "name": "python3"
  },
  "language_info": {
   "codemirror_mode": {
    "name": "ipython",
    "version": 3
   },
   "file_extension": ".py",
   "mimetype": "text/x-python",
   "name": "python",
   "nbconvert_exporter": "python",
   "pygments_lexer": "ipython3",
   "version": "3.9.12"
  }
 },
 "nbformat": 4,
 "nbformat_minor": 5
}
