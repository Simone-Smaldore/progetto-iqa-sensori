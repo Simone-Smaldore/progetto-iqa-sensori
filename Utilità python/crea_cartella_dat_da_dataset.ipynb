{
 "cells": [
  {
   "cell_type": "code",
   "execution_count": 21,
   "id": "1bf53258-1623-4ec4-9453-f553e9aebaad",
   "metadata": {},
   "outputs": [],
   "source": [
    "import pandas as pd\n",
    "import os\n",
    "from pathlib import Path\n",
    "import shutil"
   ]
  },
  {
   "cell_type": "code",
   "execution_count": 22,
   "id": "9d6b4069-2666-45c6-85c3-3c25fd1edd1f",
   "metadata": {},
   "outputs": [],
   "source": [
    "def get_sotto_cartelle(path):\n",
    "    return [x[1] for x in os.walk(path)][0]"
   ]
  },
  {
   "cell_type": "code",
   "execution_count": 23,
   "id": "0b84358c-0d3c-43f9-b5a8-b04798567edc",
   "metadata": {},
   "outputs": [],
   "source": [
    "PATH_CARTELLA_DAT = './Nuovi Dati/Dat3D/dat'\n",
    "PATH_DATASET_CSV = './Nuovi Dati/TemplateGenerati'"
   ]
  },
  {
   "cell_type": "code",
   "execution_count": 24,
   "id": "e1f37c49-0ed4-4030-bf0b-a605cdf51717",
   "metadata": {},
   "outputs": [],
   "source": [
    "Path(PATH_CARTELLA_DAT).mkdir(parents=True, exist_ok=True)\n",
    "\n",
    "folder_csv = get_sotto_cartelle(PATH_DATASET_CSV)\n",
    "for folder in folder_csv:\n",
    "    path_folder = f'{PATH_DATASET_CSV}/{folder}/Template'\n",
    "    for file in os.listdir(path_folder):\n",
    "        if file.endswith('.dat') and not file.startswith('TEMPLATE'):\n",
    "            path_file = f'{path_folder}/{file}'\n",
    "            path_destinazione = f'{PATH_CARTELLA_DAT}/{file}'\n",
    "            shutil.copyfile(path_file, path_destinazione)\n",
    "            "
   ]
  }
 ],
 "metadata": {
  "kernelspec": {
   "display_name": "Python 3 (ipykernel)",
   "language": "python",
   "name": "python3"
  },
  "language_info": {
   "codemirror_mode": {
    "name": "ipython",
    "version": 3
   },
   "file_extension": ".py",
   "mimetype": "text/x-python",
   "name": "python",
   "nbconvert_exporter": "python",
   "pygments_lexer": "ipython3",
   "version": "3.9.12"
  }
 },
 "nbformat": 4,
 "nbformat_minor": 5
}
