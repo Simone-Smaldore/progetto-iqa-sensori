{
 "cells": [
  {
   "cell_type": "code",
   "execution_count": 1,
   "id": "fb4714fa-7b9f-47f2-9bff-be4a245b3c09",
   "metadata": {},
   "outputs": [],
   "source": [
    "import os\n",
    "import shutil\n",
    "from pathlib import Path"
   ]
  },
  {
   "cell_type": "code",
   "execution_count": null,
   "id": "dfc13e9b-54c6-4267-a51c-a30bead119b4",
   "metadata": {},
   "outputs": [],
   "source": [
    "TEMPLATE_PATH = './templateGenerati'"
   ]
  },
  {
   "cell_type": "markdown",
   "id": "72356568-1dcd-4a7d-b782-e4ee9c4f5a42",
   "metadata": {},
   "source": [
    "### Definizione delle cartelle acquisizioni"
   ]
  },
  {
   "cell_type": "code",
   "execution_count": 4,
   "id": "dbb74122-e7b3-4ed9-92da-983f9ba30069",
   "metadata": {},
   "outputs": [],
   "source": [
    "def get_sotto_cartelle(path):\n",
    "    return [x[1] for x in os.walk(path)][0]"
   ]
  },
  {
   "cell_type": "code",
   "execution_count": null,
   "id": "64ba8c02-0c8f-4686-8efe-56f22d0ad19a",
   "metadata": {},
   "outputs": [],
   "source": [
    "folder_soggetti = get_sotto_cartelle(TEMPLATE_PATH)\n",
    "folder_acquisizioni = []\n",
    "\n",
    "for folder_soggetto in folder_soggetti:\n",
    "    path_folder = f'{TEMPLATE_PATH}/{folder_soggetto}'\n",
    "    folder_acquisizioni_soggetto = get_sotto_cartelle(path_folder)\n",
    "    for acquisizione in folder_acquisizioni_soggetto:\n",
    "        folder_acquisizioni.append(f'{path_folder}/{acquisizione}')"
   ]
  },
  {
   "cell_type": "markdown",
   "id": "810d02fc-a060-4495-a812-36da6a529a13",
   "metadata": {},
   "source": [
    "### Creazione template secondo la forma prevista per la previsione"
   ]
  },
  {
   "cell_type": "code",
   "execution_count": null,
   "id": "b2aa4355-8c2e-424f-8a7e-996684dd081b",
   "metadata": {},
   "outputs": [
    {
     "name": "stdout",
     "output_type": "stream",
     "text": [
      "file ./TemplateVerifica/datiAcquisizioniMatComplete/0.2.dat creato correttamente\n",
      "file ./TemplateVerifica/datiAcquisizioniMatComplete/0.1.dat creato correttamente\n",
      "file ./TemplateVerifica/datiAcquisizioniMatComplete/20.2.dat creato correttamente\n",
      "file ./TemplateVerifica/datiAcquisizioniMatComplete/20.3.dat creato correttamente\n",
      "file ./TemplateVerifica/datiAcquisizioniMatComplete/20.1.dat creato correttamente\n",
      "file ./TemplateVerifica/datiAcquisizioniMatComplete/4.2.dat creato correttamente\n",
      "file ./TemplateVerifica/datiAcquisizioniMatComplete/4.1.dat creato correttamente\n",
      "file ./TemplateVerifica/datiAcquisizioniMatComplete/16.3.dat creato correttamente\n",
      "file ./TemplateVerifica/datiAcquisizioniMatComplete/16.1.dat creato correttamente\n",
      "file ./TemplateVerifica/datiAcquisizioniMatComplete/17.1.dat creato correttamente\n",
      "file ./TemplateVerifica/datiAcquisizioniMatComplete/17.3.dat creato correttamente\n",
      "file ./TemplateVerifica/datiAcquisizioniMatComplete/17.2.dat creato correttamente\n",
      "file ./TemplateVerifica/datiAcquisizioniMatComplete/19.1.dat creato correttamente\n",
      "file ./TemplateVerifica/datiAcquisizioniMatComplete/19.2.dat creato correttamente\n",
      "file ./TemplateVerifica/datiAcquisizioniMatComplete/19.3.dat creato correttamente\n",
      "file ./TemplateVerifica/datiAcquisizioniMatComplete/21.1.dat creato correttamente\n",
      "file ./TemplateVerifica/datiAcquisizioniMatComplete/21.2.dat creato correttamente\n",
      "file ./TemplateVerifica/datiAcquisizioniMatComplete/21.3.dat creato correttamente\n",
      "file ./TemplateVerifica/datiAcquisizioniMatComplete/24.3.dat creato correttamente\n",
      "file ./TemplateVerifica/datiAcquisizioniMatComplete/24.2.dat creato correttamente\n",
      "file ./TemplateVerifica/datiAcquisizioniMatComplete/24.1.dat creato correttamente\n",
      "file ./TemplateVerifica/datiAcquisizioniMatComplete/15.3.dat creato correttamente\n",
      "file ./TemplateVerifica/datiAcquisizioniMatComplete/15.2.dat creato correttamente\n",
      "file ./TemplateVerifica/datiAcquisizioniMatComplete/15.1.dat creato correttamente\n",
      "file ./TemplateVerifica/datiAcquisizioniMatComplete/8.1.dat creato correttamente\n",
      "file ./TemplateVerifica/datiAcquisizioniMatComplete/13.3.dat creato correttamente\n",
      "file ./TemplateVerifica/datiAcquisizioniMatComplete/14.1.dat creato correttamente\n",
      "file ./TemplateVerifica/datiAcquisizioniMatComplete/14.3.dat creato correttamente\n",
      "file ./TemplateVerifica/datiAcquisizioniMatComplete/14.2.dat creato correttamente\n",
      "file ./TemplateVerifica/datiAcquisizioniMatComplete/22.2.dat creato correttamente\n"
     ]
    }
   ],
   "source": [
    "FOLDER_DESTINAZIONE = './TemplateVerifica/datiAcquisizioni'\n",
    "Path(FOLDER_DESTINAZIONE).mkdir(parents=True, exist_ok=True)\n",
    "\n",
    "for folder_acquisizione in folder_acquisizioni:\n",
    "    for file in os.listdir(folder_acquisizione):\n",
    "        if file.endswith('.dat'):\n",
    "            nome_template = folder_acquisizione.split('/')[-1]\n",
    "            percorso_src = f'{folder_acquisizione}/{file}'\n",
    "            percorso_dst = f'{FOLDER_DESTINAZIONE}/{nome_template}.dat'        \n",
    "            shutil.copyfile(percorso_src, percorso_dst)\n",
    "            print(f'file {percorso_dst} creato correttamente')\n",
    "            "
   ]
  },
  {
   "cell_type": "markdown",
   "id": "c4c111e3-13da-440c-8610-bc71dc542d31",
   "metadata": {},
   "source": [
    "### Caso template 3D"
   ]
  },
  {
   "cell_type": "code",
   "execution_count": 26,
   "id": "af72eb6f-4376-443b-a5c7-9e8bef0d4a67",
   "metadata": {},
   "outputs": [],
   "source": [
    "TEMPLATE_PATH_3D = './Template3DMatCompleti'"
   ]
  },
  {
   "cell_type": "code",
   "execution_count": 27,
   "id": "b1a1d4eb-dc04-475a-b4fa-c861ac663fcd",
   "metadata": {},
   "outputs": [],
   "source": [
    "folder_istanti_3D = get_sotto_cartelle(TEMPLATE_PATH_3D)\n",
    "folder_acquisizioni_3D = []\n",
    "\n",
    "for folder_istante in folder_istanti_3D:\n",
    "    path_folder = f'{TEMPLATE_PATH_3D}/{folder_istante}'\n",
    "    folder_acquisizioni_3D.append(path_folder)\n",
    "        "
   ]
  },
  {
   "cell_type": "code",
   "execution_count": 28,
   "id": "6ba3e126-7c9b-46d0-bb38-5d7425bf0bef",
   "metadata": {},
   "outputs": [
    {
     "data": {
      "text/plain": [
       "['./Template3DMatCompleti/istante007',\n",
       " './Template3DMatCompleti/istante000',\n",
       " './Template3DMatCompleti/istante009',\n",
       " './Template3DMatCompleti/istante008',\n",
       " './Template3DMatCompleti/istante001',\n",
       " './Template3DMatCompleti/istante006',\n",
       " './Template3DMatCompleti/istante003',\n",
       " './Template3DMatCompleti/istante004',\n",
       " './Template3DMatCompleti/istante005',\n",
       " './Template3DMatCompleti/istante002']"
      ]
     },
     "execution_count": 28,
     "metadata": {},
     "output_type": "execute_result"
    }
   ],
   "source": [
    "folder_acquisizioni_3D"
   ]
  },
  {
   "cell_type": "code",
   "execution_count": 29,
   "id": "b99e84c0-6241-4e0c-8d48-d7b8136ba6eb",
   "metadata": {},
   "outputs": [
    {
     "name": "stdout",
     "output_type": "stream",
     "text": [
      "file ./TemplateVerifica3D/datiAcquisizioni/20.1.dat creato correttamente\n",
      "file ./TemplateVerifica3D/datiAcquisizioni/24.1.dat creato correttamente\n",
      "file ./TemplateVerifica3D/datiAcquisizioni/19.1.dat creato correttamente\n",
      "file ./TemplateVerifica3D/datiAcquisizioni/0.1.dat creato correttamente\n",
      "file ./TemplateVerifica3D/datiAcquisizioni/21.1.dat creato correttamente\n",
      "file ./TemplateVerifica3D/datiAcquisizioni/4.1.dat creato correttamente\n",
      "file ./TemplateVerifica3D/datiAcquisizioni/16.1.dat creato correttamente\n",
      "file ./TemplateVerifica3D/datiAcquisizioni/8.1.dat creato correttamente\n",
      "file ./TemplateVerifica3D/datiAcquisizioni/14.1.dat creato correttamente\n",
      "file ./TemplateVerifica3D/datiAcquisizioni/15.1.dat creato correttamente\n",
      "file ./TemplateVerifica3D/datiAcquisizioni/17.1.dat creato correttamente\n",
      "file ./TemplateVerifica3D/datiAcquisizioni/20.3.dat creato correttamente\n",
      "file ./TemplateVerifica3D/datiAcquisizioni/19.3.dat creato correttamente\n",
      "file ./TemplateVerifica3D/datiAcquisizioni/24.3.dat creato correttamente\n",
      "file ./TemplateVerifica3D/datiAcquisizioni/21.3.dat creato correttamente\n",
      "file ./TemplateVerifica3D/datiAcquisizioni/14.3.dat creato correttamente\n",
      "file ./TemplateVerifica3D/datiAcquisizioni/16.3.dat creato correttamente\n",
      "file ./TemplateVerifica3D/datiAcquisizioni/17.3.dat creato correttamente\n",
      "file ./TemplateVerifica3D/datiAcquisizioni/15.3.dat creato correttamente\n",
      "file ./TemplateVerifica3D/datiAcquisizioni/13.3.dat creato correttamente\n",
      "file ./TemplateVerifica3D/datiAcquisizioni/22.2.dat creato correttamente\n",
      "file ./TemplateVerifica3D/datiAcquisizioni/20.2.dat creato correttamente\n",
      "file ./TemplateVerifica3D/datiAcquisizioni/24.2.dat creato correttamente\n",
      "file ./TemplateVerifica3D/datiAcquisizioni/19.2.dat creato correttamente\n",
      "file ./TemplateVerifica3D/datiAcquisizioni/21.2.dat creato correttamente\n",
      "file ./TemplateVerifica3D/datiAcquisizioni/0.2.dat creato correttamente\n",
      "file ./TemplateVerifica3D/datiAcquisizioni/4.2.dat creato correttamente\n",
      "file ./TemplateVerifica3D/datiAcquisizioni/14.2.dat creato correttamente\n",
      "file ./TemplateVerifica3D/datiAcquisizioni/17.2.dat creato correttamente\n",
      "file ./TemplateVerifica3D/datiAcquisizioni/15.2.dat creato correttamente\n"
     ]
    }
   ],
   "source": [
    "FOLDER_DESTINAZIONE_3D = './TemplateVerifica3D/datiAcquisizioni'\n",
    "Path(FOLDER_DESTINAZIONE_3D).mkdir(parents=True, exist_ok=True)\n",
    "\n",
    "for folder_3D in folder_acquisizioni_3D:\n",
    "    for file in os.listdir(folder_3D):\n",
    "        if file.endswith('.dat'):\n",
    "            percorso_src = f'{folder_3D}/{file}'\n",
    "            percorso_dst = f'{FOLDER_DESTINAZIONE_3D}/{file}'        \n",
    "            shutil.copyfile(percorso_src, percorso_dst)\n",
    "            print(f'file {percorso_dst} creato correttamente')"
   ]
  },
  {
   "cell_type": "code",
   "execution_count": null,
   "id": "aa7f0738-b4d2-416d-9061-a87c57a31aae",
   "metadata": {},
   "outputs": [],
   "source": []
  }
 ],
 "metadata": {
  "kernelspec": {
   "display_name": "Python 3 (ipykernel)",
   "language": "python",
   "name": "python3"
  },
  "language_info": {
   "codemirror_mode": {
    "name": "ipython",
    "version": 3
   },
   "file_extension": ".py",
   "mimetype": "text/x-python",
   "name": "python",
   "nbconvert_exporter": "python",
   "pygments_lexer": "ipython3",
   "version": "3.9.12"
  }
 },
 "nbformat": 4,
 "nbformat_minor": 5
}
