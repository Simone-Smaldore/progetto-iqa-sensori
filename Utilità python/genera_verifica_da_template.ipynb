{
 "cells": [
  {
   "cell_type": "code",
   "execution_count": 1,
   "id": "fb4714fa-7b9f-47f2-9bff-be4a245b3c09",
   "metadata": {},
   "outputs": [],
   "source": [
    "import os\n",
    "import shutil\n",
    "from pathlib import Path"
   ]
  },
  {
   "cell_type": "code",
   "execution_count": 2,
   "id": "dfc13e9b-54c6-4267-a51c-a30bead119b4",
   "metadata": {},
   "outputs": [],
   "source": [
    "TEMPLATE_PATH = './templateGenerati'"
   ]
  },
  {
   "cell_type": "markdown",
   "id": "72356568-1dcd-4a7d-b782-e4ee9c4f5a42",
   "metadata": {},
   "source": [
    "### Definizione delle cartelle acquisizioni"
   ]
  },
  {
   "cell_type": "code",
   "execution_count": 3,
   "id": "dbb74122-e7b3-4ed9-92da-983f9ba30069",
   "metadata": {},
   "outputs": [],
   "source": [
    "def get_sotto_cartelle(path):\n",
    "    return [x[1] for x in os.walk(path)][0]"
   ]
  },
  {
   "cell_type": "code",
   "execution_count": 4,
   "id": "64ba8c02-0c8f-4686-8efe-56f22d0ad19a",
   "metadata": {},
   "outputs": [],
   "source": [
    "folder_soggetti = get_sotto_cartelle(TEMPLATE_PATH)\n",
    "folder_acquisizioni = []\n",
    "\n",
    "for folder_soggetto in folder_soggetti:\n",
    "    path_folder = f'{TEMPLATE_PATH}/{folder_soggetto}'\n",
    "    folder_acquisizioni_soggetto = get_sotto_cartelle(path_folder)\n",
    "    for acquisizione in folder_acquisizioni_soggetto:\n",
    "        folder_acquisizioni.append(f'{path_folder}/{acquisizione}')"
   ]
  },
  {
   "cell_type": "markdown",
   "id": "810d02fc-a060-4495-a812-36da6a529a13",
   "metadata": {},
   "source": [
    "### Creazione template secondo la forma prevista per la previsione"
   ]
  },
  {
   "cell_type": "code",
   "execution_count": 5,
   "id": "b2aa4355-8c2e-424f-8a7e-996684dd081b",
   "metadata": {},
   "outputs": [
    {
     "name": "stdout",
     "output_type": "stream",
     "text": [
      "file ./TemplateVerifica/datiAcquisizioni/3_M_3.dat creato correttamente\n",
      "file ./TemplateVerifica/datiAcquisizioni/3_M_2.dat creato correttamente\n",
      "file ./TemplateVerifica/datiAcquisizioni/3_M_1.dat creato correttamente\n",
      "file ./TemplateVerifica/datiAcquisizioni/16_M_1.dat creato correttamente\n",
      "file ./TemplateVerifica/datiAcquisizioni/16_M_2.dat creato correttamente\n",
      "file ./TemplateVerifica/datiAcquisizioni/16_M_3.dat creato correttamente\n",
      "file ./TemplateVerifica/datiAcquisizioni/7_M_5.dat creato correttamente\n",
      "file ./TemplateVerifica/datiAcquisizioni/7_M_2.dat creato correttamente\n",
      "file ./TemplateVerifica/datiAcquisizioni/7_M_3.dat creato correttamente\n",
      "file ./TemplateVerifica/datiAcquisizioni/7_M_4.dat creato correttamente\n",
      "file ./TemplateVerifica/datiAcquisizioni/7_M_1.dat creato correttamente\n",
      "file ./TemplateVerifica/datiAcquisizioni/12_M_1.dat creato correttamente\n",
      "file ./TemplateVerifica/datiAcquisizioni/12_M_3.dat creato correttamente\n",
      "file ./TemplateVerifica/datiAcquisizioni/12_M_4.dat creato correttamente\n",
      "file ./TemplateVerifica/datiAcquisizioni/12_M_5.dat creato correttamente\n",
      "file ./TemplateVerifica/datiAcquisizioni/12_M_2.dat creato correttamente\n",
      "file ./TemplateVerifica/datiAcquisizioni/18_M_2.dat creato correttamente\n",
      "file ./TemplateVerifica/datiAcquisizioni/18_M_3.dat creato correttamente\n",
      "file ./TemplateVerifica/datiAcquisizioni/18_M_1.dat creato correttamente\n",
      "file ./TemplateVerifica/datiAcquisizioni/15_M_1.dat creato correttamente\n",
      "file ./TemplateVerifica/datiAcquisizioni/15_M_4.dat creato correttamente\n",
      "file ./TemplateVerifica/datiAcquisizioni/15_M_3.dat creato correttamente\n",
      "file ./TemplateVerifica/datiAcquisizioni/15_M_2.dat creato correttamente\n",
      "file ./TemplateVerifica/datiAcquisizioni/15_M_5.dat creato correttamente\n",
      "file ./TemplateVerifica/datiAcquisizioni/4_M_3.dat creato correttamente\n",
      "file ./TemplateVerifica/datiAcquisizioni/4_M_2.dat creato correttamente\n",
      "file ./TemplateVerifica/datiAcquisizioni/4_M_1.dat creato correttamente\n",
      "file ./TemplateVerifica/datiAcquisizioni/11_M_1.dat creato correttamente\n",
      "file ./TemplateVerifica/datiAcquisizioni/11_M_2.dat creato correttamente\n",
      "file ./TemplateVerifica/datiAcquisizioni/11_M_3.dat creato correttamente\n",
      "file ./TemplateVerifica/datiAcquisizioni/20_M_4.dat creato correttamente\n",
      "file ./TemplateVerifica/datiAcquisizioni/20_M_3.dat creato correttamente\n",
      "file ./TemplateVerifica/datiAcquisizioni/20_M_2.dat creato correttamente\n",
      "file ./TemplateVerifica/datiAcquisizioni/20_M_1.dat creato correttamente\n",
      "file ./TemplateVerifica/datiAcquisizioni/14_M_1.dat creato correttamente\n",
      "file ./TemplateVerifica/datiAcquisizioni/14_M_3.dat creato correttamente\n",
      "file ./TemplateVerifica/datiAcquisizioni/14_M_4.dat creato correttamente\n",
      "file ./TemplateVerifica/datiAcquisizioni/14_M_2.dat creato correttamente\n",
      "file ./TemplateVerifica/datiAcquisizioni/1_M_14.dat creato correttamente\n",
      "file ./TemplateVerifica/datiAcquisizioni/1_M_13.dat creato correttamente\n",
      "file ./TemplateVerifica/datiAcquisizioni/1_M_12.dat creato correttamente\n",
      "file ./TemplateVerifica/datiAcquisizioni/1_M_15.dat creato correttamente\n",
      "file ./TemplateVerifica/datiAcquisizioni/1_M_5.dat creato correttamente\n",
      "file ./TemplateVerifica/datiAcquisizioni/1_M_2.dat creato correttamente\n",
      "file ./TemplateVerifica/datiAcquisizioni/1_M_3.dat creato correttamente\n",
      "file ./TemplateVerifica/datiAcquisizioni/1_M_4.dat creato correttamente\n",
      "file ./TemplateVerifica/datiAcquisizioni/1_M_10.dat creato correttamente\n",
      "file ./TemplateVerifica/datiAcquisizioni/1_M_11.dat creato correttamente\n",
      "file ./TemplateVerifica/datiAcquisizioni/1_M_1.dat creato correttamente\n",
      "file ./TemplateVerifica/datiAcquisizioni/1_M_6.dat creato correttamente\n",
      "file ./TemplateVerifica/datiAcquisizioni/1_M_8.dat creato correttamente\n",
      "file ./TemplateVerifica/datiAcquisizioni/1_M_9.dat creato correttamente\n",
      "file ./TemplateVerifica/datiAcquisizioni/1_M_7.dat creato correttamente\n",
      "file ./TemplateVerifica/datiAcquisizioni/10_M_1.dat creato correttamente\n",
      "file ./TemplateVerifica/datiAcquisizioni/10_M_2.dat creato correttamente\n",
      "file ./TemplateVerifica/datiAcquisizioni/10_M_3.dat creato correttamente\n",
      "file ./TemplateVerifica/datiAcquisizioni/5_M_3.dat creato correttamente\n",
      "file ./TemplateVerifica/datiAcquisizioni/5_M_2.dat creato correttamente\n",
      "file ./TemplateVerifica/datiAcquisizioni/5_M_1.dat creato correttamente\n",
      "file ./TemplateVerifica/datiAcquisizioni/17_M_1.dat creato correttamente\n",
      "file ./TemplateVerifica/datiAcquisizioni/17_M_2.dat creato correttamente\n",
      "file ./TemplateVerifica/datiAcquisizioni/17_M_3.dat creato correttamente\n",
      "file ./TemplateVerifica/datiAcquisizioni/2_M_3.dat creato correttamente\n",
      "file ./TemplateVerifica/datiAcquisizioni/2_M_2.dat creato correttamente\n",
      "file ./TemplateVerifica/datiAcquisizioni/2_M_1.dat creato correttamente\n",
      "file ./TemplateVerifica/datiAcquisizioni/8_M_1.dat creato correttamente\n",
      "file ./TemplateVerifica/datiAcquisizioni/8_M_5.dat creato correttamente\n",
      "file ./TemplateVerifica/datiAcquisizioni/8_M_2.dat creato correttamente\n",
      "file ./TemplateVerifica/datiAcquisizioni/8_M_3.dat creato correttamente\n",
      "file ./TemplateVerifica/datiAcquisizioni/8_M_4.dat creato correttamente\n",
      "file ./TemplateVerifica/datiAcquisizioni/19_M_2.dat creato correttamente\n",
      "file ./TemplateVerifica/datiAcquisizioni/19_M_5.dat creato correttamente\n",
      "file ./TemplateVerifica/datiAcquisizioni/19_M_4.dat creato correttamente\n",
      "file ./TemplateVerifica/datiAcquisizioni/19_M_3.dat creato correttamente\n",
      "file ./TemplateVerifica/datiAcquisizioni/19_M_1.dat creato correttamente\n",
      "file ./TemplateVerifica/datiAcquisizioni/13_M_6.dat creato correttamente\n",
      "file ./TemplateVerifica/datiAcquisizioni/13_M_1.dat creato correttamente\n",
      "file ./TemplateVerifica/datiAcquisizioni/13_M_4.dat creato correttamente\n",
      "file ./TemplateVerifica/datiAcquisizioni/13_M_3.dat creato correttamente\n",
      "file ./TemplateVerifica/datiAcquisizioni/13_M_2.dat creato correttamente\n",
      "file ./TemplateVerifica/datiAcquisizioni/13_M_5.dat creato correttamente\n",
      "file ./TemplateVerifica/datiAcquisizioni/6_M_2.dat creato correttamente\n",
      "file ./TemplateVerifica/datiAcquisizioni/6_M_3.dat creato correttamente\n",
      "file ./TemplateVerifica/datiAcquisizioni/6_M_1.dat creato correttamente\n"
     ]
    }
   ],
   "source": [
    "FOLDER_DESTINAZIONE = './TemplateVerifica/datiAcquisizioni'\n",
    "Path(FOLDER_DESTINAZIONE).mkdir(parents=True, exist_ok=True)\n",
    "\n",
    "for folder_acquisizione in folder_acquisizioni:\n",
    "    for file in os.listdir(folder_acquisizione):\n",
    "        if file.endswith('.dat'):\n",
    "            nome_template = folder_acquisizione.split('/')[-1]\n",
    "            percorso_src = f'{folder_acquisizione}/{file}'\n",
    "            percorso_dst = f'{FOLDER_DESTINAZIONE}/{nome_template}.dat'        \n",
    "            shutil.copyfile(percorso_src, percorso_dst)\n",
    "            print(f'file {percorso_dst} creato correttamente')\n",
    "            "
   ]
  }
 ],
 "metadata": {
  "kernelspec": {
   "display_name": "Python 3 (ipykernel)",
   "language": "python",
   "name": "python3"
  },
  "language_info": {
   "codemirror_mode": {
    "name": "ipython",
    "version": 3
   },
   "file_extension": ".py",
   "mimetype": "text/x-python",
   "name": "python",
   "nbconvert_exporter": "python",
   "pygments_lexer": "ipython3",
   "version": "3.9.12"
  }
 },
 "nbformat": 4,
 "nbformat_minor": 5
}
