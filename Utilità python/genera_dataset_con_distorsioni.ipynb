{
 "cells": [
  {
   "cell_type": "code",
   "execution_count": null,
   "id": "effa1e30-83e1-4410-9feb-011d2eccbb91",
   "metadata": {},
   "outputs": [],
   "source": [
    "import os\n",
    "import cv2\n",
    "import math\n",
    "import random\n",
    "import numpy as np\n",
    "from skimage.util import random_noise\n",
    "from PIL import Image, ImageDraw"
   ]
  },
  {
   "cell_type": "markdown",
   "id": "8a54b457-acc3-4d2a-b1eb-7922da5c439e",
   "metadata": {
    "tags": []
   },
   "source": [
    "## Costanti"
   ]
  },
  {
   "cell_type": "code",
   "execution_count": null,
   "id": "427683e5-df85-47a1-ab12-aedcb2d497f5",
   "metadata": {},
   "outputs": [],
   "source": [
    "PATH_DATASET_LAVORATO = './Dati Sensori/Dataset Sensori Lavorato'\n",
    "PATH_DATASET_NOISE = './Dati Sensori/Dataset Sensori Noise'\n",
    "PATH_DATASET_ART_RIF = './Dati Sensori/Dataset Sensori Artefatti Riflessione'\n",
    "PATH_DATASET_SPECKLE = './Dati Sensori/Dataset Sensori Speckle'\n",
    "PATH_DATASET_BLUR = './Dati Sensori/Dataset Sensori Motion Blur'\n",
    "PATH_DATASET_LINEE = './Dati Sensori/Dataset Sensori Linee'"
   ]
  },
  {
   "cell_type": "markdown",
   "id": "c57111bd-cadd-4031-b023-4e0ba6c0b087",
   "metadata": {
    "tags": []
   },
   "source": [
    "## Configurazione"
   ]
  },
  {
   "cell_type": "code",
   "execution_count": null,
   "id": "ff5b07fb",
   "metadata": {},
   "outputs": [],
   "source": [
    "def genera_immagini_distorte(dir_img_orig, dir_img_dist, callback_distorsione, **kwargs):\n",
    "    for root, dirs, files in os.walk(dir_img_orig):\n",
    "        for file in files:\n",
    "            if not file.endswith(\".jpg\"): continue\n",
    "            path_img_orig = os.path.join(root, file)\n",
    "            path_img_dist = path_img_orig.replace(dir_img_orig, dir_img_dist)\n",
    "            callback_distorsione(path_img_orig, path_img_dist, **kwargs)\n",
    "            "
   ]
  },
  {
   "cell_type": "markdown",
   "id": "82bd1f3d-f59a-4aa6-afd2-ab796ef5d8f7",
   "metadata": {
    "jp-MarkdownHeadingCollapsed": true,
    "tags": []
   },
   "source": [
    "## Rumore gaussiano"
   ]
  },
  {
   "cell_type": "raw",
   "id": "9365baca-3663-417f-895d-3bf604e773ff",
   "metadata": {},
   "source": [
    "def applica_rumore_gaussiano(path_img_orig, path_img_dist, varianza):\n",
    "    print(f\"Applico il rumore gaussiano a {path_img_orig} ...\")\n",
    "    img = cv2.imread(path_img_orig)\n",
    "    img_distorta = random_noise(img, mode='gaussian', var=varianza)\n",
    "    img_distorta = (255 * img_distorta).astype('uint8')\n",
    "    os.makedirs(os.path.dirname(path_img_dist), exist_ok=True)\n",
    "    cv2.imwrite(path_img_dist, img_distorta)"
   ]
  },
  {
   "cell_type": "raw",
   "id": "8f8912eb-f915-49a0-a2f5-a740e42d46b0",
   "metadata": {
    "tags": []
   },
   "source": [
    "%%time\n",
    "for root, dirs, files in os.walk(PATH_DATASET_LAVORATO):\n",
    "    for file in files:\n",
    "        if file.endswith(\".jpg\"):\n",
    "            path_img_orig = os.path.join(root, file)\n",
    "            path_img_dist = path_img_orig.replace(PATH_DATASET_LAVORATO, PATH_DATASET_NOISE)\n",
    "            path_img_dist = path_img_dist.replace('.jpg', '_noise.jpg')            \n",
    "            applica_rumore_gaussiano(path_img_orig, path_img_dist, VAR_RUMORE_GAUSSIANO)"
   ]
  },
  {
   "cell_type": "markdown",
   "id": "77433329-d8c2-4a22-a13f-be8bf013dee3",
   "metadata": {
    "jp-MarkdownHeadingCollapsed": true,
    "tags": []
   },
   "source": [
    "## Artefatti di riflessione\n",
    "Vengono modificati i valori dei pixel per riflettere l'immagine rispetto all'asse di simmetria.\n",
    "L'immagine riflessa viene sovrapposta all'immagine originale per ottenere un effetto di fusione tra le due immagini.  \n",
    "vd. https://onlinelibrary.wiley.com/doi/abs/10.7863/jum.1986.5.4.227"
   ]
  },
  {
   "cell_type": "code",
   "execution_count": null,
   "id": "4a43b625-6f88-4596-b089-c6172ba566b4",
   "metadata": {},
   "outputs": [],
   "source": [
    "def applica_artefatti_riflessione(path_img_orig, path_img_dist, peso_img_rifl=0.5):\n",
    "        print(f\"** Applico riflessione: P{peso_img_rifl} a {path_img_orig} ...\")\n",
    "        img = cv2.imread(path_img_orig)\n",
    "        img_riflessa = img.copy()\n",
    "        h, w, _ = img.shape\n",
    "        centro_x = int(w/2)\n",
    "        for y in range(h):\n",
    "            for x in range(centro_x, w):\n",
    "                x_rifl = w - x - 1  # Posizione x del pixel riflesso\n",
    "                img_riflessa[y, x] = img[y, x_rifl]\n",
    "        blended_img = cv2.addWeighted(img, 1-peso_img_rifl, img_riflessa, peso_img_rifl, 0)\n",
    "        os.makedirs(os.path.dirname(path_img_dist), exist_ok=True)\n",
    "        cv2.imwrite(path_img_dist, blended_img)"
   ]
  },
  {
   "cell_type": "code",
   "execution_count": null,
   "id": "0ff9c826-b4d8-4cbf-ac71-7077aa9bc054",
   "metadata": {
    "scrolled": true,
    "tags": []
   },
   "outputs": [],
   "source": [
    "%%time\n",
    "nPesi = 7\n",
    "pesi_img_riflessa = [round(0.1 * i, 2) for i in range(nPesi)]\n",
    "\n",
    "for i, peso_rifl in enumerate(pesi_img_riflessa):\n",
    "    dir_img_dist = f\"{PATH_DATASET_ART_RIF}-{i}\"\n",
    "    genera_immagini_distorte(PATH_DATASET_LAVORATO, f\"{PATH_DATASET_ART_RIF}-{i}\", applica_artefatti_riflessione, peso_img_rifl=peso_rifl)"
   ]
  },
  {
   "cell_type": "markdown",
   "id": "310f3951-08c6-4d12-b304-347dc366aaba",
   "metadata": {
    "jp-MarkdownHeadingCollapsed": true,
    "tags": []
   },
   "source": [
    "## Speckle"
   ]
  },
  {
   "cell_type": "code",
   "execution_count": null,
   "id": "ee24066b-f5b9-4798-8b5c-982e11586c6a",
   "metadata": {},
   "outputs": [],
   "source": [
    "def applica_speckle(path_img_orig, path_img_dist, speckle_mean=0, speckle_std=0.1):\n",
    "    print(f\"** Applico speckle: M{speckle_mean}-S{speckle_std} a {path_img_orig} ...\")\n",
    "    img = cv2.imread(path_img_orig, 0)\n",
    "    speckle_noise = np.random.normal(speckle_mean, speckle_std, img.shape)\n",
    "    img_rumore = img + img * speckle_noise\n",
    "    img_rumore = cv2.normalize(img_rumore, None, 0, 255, cv2.NORM_MINMAX, dtype=cv2.CV_8U)\n",
    "    os.makedirs(os.path.dirname(path_img_dist), exist_ok=True)\n",
    "    cv2.imwrite(path_img_dist, img_rumore)"
   ]
  },
  {
   "cell_type": "code",
   "execution_count": null,
   "id": "8653d675-aef5-4280-8a75-d4b79dde47c9",
   "metadata": {
    "scrolled": true,
    "tags": []
   },
   "outputs": [],
   "source": [
    "%%time\n",
    "nStd = 5\n",
    "nMean = 3\n",
    "\n",
    "speckle_mean_list = [round(0.1 * i, 2) for i in range(nMean)]  \n",
    "speckle_std_list = [round(0.1 * i, 2) for i in range(nStd)]\n",
    "\n",
    "for i, speckle_mean in enumerate(speckle_mean_list):\n",
    "    for j, speckle_std in enumerate(speckle_std_list):\n",
    "        dir_img_dist = f\"{PATH_DATASET_SPECKLE}-m{i}-s{j}\"\n",
    "        genera_immagini_distorte(PATH_DATASET_LAVORATO, dir_img_dist, applica_speckle, speckle_mean=speckle_mean, speckle_std=speckle_std)"
   ]
  },
  {
   "cell_type": "markdown",
   "id": "11b6de78-4b59-40a7-99b9-51871ebd0e7c",
   "metadata": {
    "tags": []
   },
   "source": [
    "## Motion Blur"
   ]
  },
  {
   "cell_type": "code",
   "execution_count": null,
   "id": "43a82a74-4b59-4aba-9c02-88d10dccc7a7",
   "metadata": {},
   "outputs": [],
   "source": [
    "def applica_motion_blur(path_img_orig, path_img_dist, size=0):\n",
    "    print(f\"** Applico Motion Blur: S{size} a {path_img_orig} ...\")    \n",
    "    img = cv2.imread(path_img_orig, 0)\n",
    "\n",
    "    kernel_motion_blur = np.zeros((size, size))\n",
    "    kernel_motion_blur[int((size-1)/2), :] = np.ones(size)\n",
    "    kernel_motion_blur = kernel_motion_blur / size\n",
    "\n",
    "    img_blurred = cv2.filter2D(img, -1, kernel_motion_blur)\n",
    "    \n",
    "    img_blurred = cv2.normalize(img_blurred, None, 0, 255, cv2.NORM_MINMAX, dtype=cv2.CV_8U)\n",
    "    os.makedirs(os.path.dirname(path_img_dist), exist_ok=True)\n",
    "    cv2.imwrite(path_img_dist, img_blurred)"
   ]
  },
  {
   "cell_type": "code",
   "execution_count": null,
   "id": "79491d2d-4a92-43ea-8579-85e8d745c869",
   "metadata": {},
   "outputs": [],
   "source": [
    "%%time\n",
    "n_fattori = 4\n",
    "\n",
    "size_list = [3*((2*i)+1) for i in range(n_fattori)]\n",
    "\n",
    "for i, size in enumerate(size_list):\n",
    "        dir_img_dist = f\"{PATH_DATASET_BLUR}-s{i+1}\"\n",
    "        genera_immagini_distorte(PATH_DATASET_LAVORATO, dir_img_dist, applica_motion_blur, size=size)"
   ]
  },
  {
   "cell_type": "markdown",
   "id": "5bdd713d-f9c1-4c13-8680-619c858593a5",
   "metadata": {},
   "source": [
    "## Linee Orizzontali"
   ]
  },
  {
   "cell_type": "code",
   "execution_count": null,
   "id": "2580271c-4ef6-434f-aa66-500ea01a57bd",
   "metadata": {},
   "outputs": [],
   "source": [
    "def applica_linee(path_img_orig, path_img_dist, line_y_positions, sizes):\n",
    "    print(f\"** Applico Linee Orizzontali a {path_img_orig} ...\")    \n",
    "    img = Image.open(path_img_orig)\n",
    "\n",
    "    draw = ImageDraw.Draw(img)\n",
    "    \n",
    "    for y in line_y_positions:\n",
    "        start_point = (0, y)\n",
    "        end_point = (img.width, y)\n",
    "        draw.line([start_point, end_point], width=sizes[i])\n",
    "        \n",
    "    os.makedirs(os.path.dirname(path_img_dist), exist_ok=True)\n",
    "    img.save(path_img_dist)"
   ]
  },
  {
   "cell_type": "code",
   "execution_count": null,
   "id": "9452768a-7ede-4008-afd9-b01452a1e94a",
   "metadata": {},
   "outputs": [],
   "source": [
    "%%time\n",
    "n_iterazioni = 3\n",
    "\n",
    "linee = []\n",
    "dim_linee = []\n",
    "for i in range(n_iterazioni):\n",
    "    n_linee = random.randrange(1, n_max_linee + 1)\n",
    "    linea = [0 for i in range(n_linee)]\n",
    "    size = [0 for i in range(n_linee)]\n",
    "    for j in range(n_linee):\n",
    "        linea[j] = random.randrange(1, 500)\n",
    "        size[j] = random.randrange(1, 4)\n",
    "    linee.append(linea)\n",
    "    dim_linee.append(size)\n",
    "    \n",
    "\n",
    "for i, linea in enumerate(linee):\n",
    "        dir_img_dist = f\"{PATH_DATASET_LINEE}-y{i}\"\n",
    "        genera_immagini_distorte(PATH_DATASET_LAVORATO, dir_img_dist, applica_linee, line_y_positions=linee[i], sizes=dim_linee[i])"
   ]
  }
 ],
 "metadata": {
  "kernelspec": {
   "display_name": "Python 3 (ipykernel)",
   "language": "python",
   "name": "python3"
  },
  "language_info": {
   "codemirror_mode": {
    "name": "ipython",
    "version": 3
   },
   "file_extension": ".py",
   "mimetype": "text/x-python",
   "name": "python",
   "nbconvert_exporter": "python",
   "pygments_lexer": "ipython3",
   "version": "3.9.7"
  }
 },
 "nbformat": 4,
 "nbformat_minor": 5
}
