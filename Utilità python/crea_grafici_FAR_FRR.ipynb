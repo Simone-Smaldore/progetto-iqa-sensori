{
 "cells": [
  {
   "cell_type": "code",
   "execution_count": 6,
   "id": "e10369be-2aca-45ce-8f67-81522ef90612",
   "metadata": {},
   "outputs": [],
   "source": [
    "import pandas as pd\n",
    "from tqdm import tqdm\n",
    "from matplotlib import pyplot as plt\n",
    "import numpy as np"
   ]
  },
  {
   "cell_type": "code",
   "execution_count": 7,
   "id": "4a6f32c4-98b2-4300-a510-c0de3d5d2f9c",
   "metadata": {},
   "outputs": [],
   "source": [
    "# PATH_FILE_SCORE = './scoreFiltratiFinaliCsv.csv'\n",
    "PATH_FILE_SCORE = './scoreFiltratiFinaliCsvSuperFiltraggio.csv'\n",
    "# PATH_FILE_SCORE = './scoreCsvDatasetFinale.csv'\n",
    "\n",
    "scores = pd.read_csv(PATH_FILE_SCORE)"
   ]
  },
  {
   "cell_type": "code",
   "execution_count": 8,
   "id": "0167be0b-a02d-415b-b07f-338e0bddc6b5",
   "metadata": {},
   "outputs": [],
   "source": [
    "def calcola_id_soggetto_da_utente(u):\n",
    "    return u.split(\"_\")[0]\n",
    "\n",
    "def calcola_num_acquisizione_da_utente(u):\n",
    "    return int(u.split(\"_\")[1])"
   ]
  },
  {
   "cell_type": "code",
   "execution_count": 9,
   "id": "41d2f945-01f7-4755-b397-0bc400fd239d",
   "metadata": {},
   "outputs": [],
   "source": [
    "scores['Primo soggetto'] = scores['Utente1'].apply(lambda u: calcola_id_soggetto_da_utente(u))\n",
    "scores['Secondo soggetto'] = scores['Utente2'].apply(lambda u: calcola_id_soggetto_da_utente(u))"
   ]
  },
  {
   "cell_type": "code",
   "execution_count": 20,
   "id": "79d29b1b-863e-4ac1-87c9-5f007f18b7df",
   "metadata": {},
   "outputs": [],
   "source": [
    "a = scores[scores['Primo soggetto'] == scores['Secondo soggetto']]"
   ]
  },
  {
   "cell_type": "code",
   "execution_count": 26,
   "id": "a6aa7105-e7b3-4f95-bce5-4736d5305345",
   "metadata": {},
   "outputs": [
    {
     "data": {
      "text/html": [
       "<div>\n",
       "<style scoped>\n",
       "    .dataframe tbody tr th:only-of-type {\n",
       "        vertical-align: middle;\n",
       "    }\n",
       "\n",
       "    .dataframe tbody tr th {\n",
       "        vertical-align: top;\n",
       "    }\n",
       "\n",
       "    .dataframe thead th {\n",
       "        text-align: right;\n",
       "    }\n",
       "</style>\n",
       "<table border=\"1\" class=\"dataframe\">\n",
       "  <thead>\n",
       "    <tr style=\"text-align: right;\">\n",
       "      <th></th>\n",
       "      <th>Utente1</th>\n",
       "      <th>Utente2</th>\n",
       "      <th>ScoreML</th>\n",
       "      <th>Primo soggetto</th>\n",
       "      <th>Secondo soggetto</th>\n",
       "      <th>ScoreNormalizzato</th>\n",
       "    </tr>\n",
       "  </thead>\n",
       "  <tbody>\n",
       "    <tr>\n",
       "      <th>59609</th>\n",
       "      <td>LopreteAntonio_003</td>\n",
       "      <td>LopreteAntonio_008</td>\n",
       "      <td>0.158992</td>\n",
       "      <td>LopreteAntonio</td>\n",
       "      <td>LopreteAntonio</td>\n",
       "      <td>0.15</td>\n",
       "    </tr>\n",
       "    <tr>\n",
       "      <th>59844</th>\n",
       "      <td>LopreteAntonio_004</td>\n",
       "      <td>LopreteAntonio_008</td>\n",
       "      <td>0.159165</td>\n",
       "      <td>LopreteAntonio</td>\n",
       "      <td>LopreteAntonio</td>\n",
       "      <td>0.15</td>\n",
       "    </tr>\n",
       "    <tr>\n",
       "      <th>59608</th>\n",
       "      <td>LopreteAntonio_003</td>\n",
       "      <td>LopreteAntonio_007</td>\n",
       "      <td>0.159294</td>\n",
       "      <td>LopreteAntonio</td>\n",
       "      <td>LopreteAntonio</td>\n",
       "      <td>0.15</td>\n",
       "    </tr>\n",
       "    <tr>\n",
       "      <th>39056</th>\n",
       "      <td>DiStefanoMichele_001</td>\n",
       "      <td>DiStefanoMichele_003</td>\n",
       "      <td>0.161466</td>\n",
       "      <td>DiStefanoMichele</td>\n",
       "      <td>DiStefanoMichele</td>\n",
       "      <td>0.16</td>\n",
       "    </tr>\n",
       "    <tr>\n",
       "      <th>59843</th>\n",
       "      <td>LopreteAntonio_004</td>\n",
       "      <td>LopreteAntonio_007</td>\n",
       "      <td>0.162563</td>\n",
       "      <td>LopreteAntonio</td>\n",
       "      <td>LopreteAntonio</td>\n",
       "      <td>0.16</td>\n",
       "    </tr>\n",
       "    <tr>\n",
       "      <th>...</th>\n",
       "      <td>...</td>\n",
       "      <td>...</td>\n",
       "      <td>...</td>\n",
       "      <td>...</td>\n",
       "      <td>...</td>\n",
       "      <td>...</td>\n",
       "    </tr>\n",
       "    <tr>\n",
       "      <th>67270</th>\n",
       "      <td>NardielloDonatella_001</td>\n",
       "      <td>NardielloDonatella_002</td>\n",
       "      <td>0.736842</td>\n",
       "      <td>NardielloDonatella</td>\n",
       "      <td>NardielloDonatella</td>\n",
       "      <td>0.73</td>\n",
       "    </tr>\n",
       "    <tr>\n",
       "      <th>7371</th>\n",
       "      <td>AnastasioMarco_000</td>\n",
       "      <td>AnastasioMarco_001</td>\n",
       "      <td>0.742540</td>\n",
       "      <td>AnastasioMarco</td>\n",
       "      <td>AnastasioMarco</td>\n",
       "      <td>0.74</td>\n",
       "    </tr>\n",
       "    <tr>\n",
       "      <th>82818</th>\n",
       "      <td>SalernoAntonio_013</td>\n",
       "      <td>SalernoAntonio_014</td>\n",
       "      <td>0.744999</td>\n",
       "      <td>SalernoAntonio</td>\n",
       "      <td>SalernoAntonio</td>\n",
       "      <td>0.74</td>\n",
       "    </tr>\n",
       "    <tr>\n",
       "      <th>85918</th>\n",
       "      <td>TelescaAntonello_003</td>\n",
       "      <td>TelescaAntonello_004</td>\n",
       "      <td>0.747910</td>\n",
       "      <td>TelescaAntonello</td>\n",
       "      <td>TelescaAntonello</td>\n",
       "      <td>0.74</td>\n",
       "    </tr>\n",
       "    <tr>\n",
       "      <th>53641</th>\n",
       "      <td>GruossoMonica_004</td>\n",
       "      <td>GruossoMonica_005</td>\n",
       "      <td>0.750399</td>\n",
       "      <td>GruossoMonica</td>\n",
       "      <td>GruossoMonica</td>\n",
       "      <td>0.75</td>\n",
       "    </tr>\n",
       "  </tbody>\n",
       "</table>\n",
       "<p>1394 rows × 6 columns</p>\n",
       "</div>"
      ],
      "text/plain": [
       "                      Utente1                 Utente2   ScoreML  \\\n",
       "59609      LopreteAntonio_003      LopreteAntonio_008  0.158992   \n",
       "59844      LopreteAntonio_004      LopreteAntonio_008  0.159165   \n",
       "59608      LopreteAntonio_003      LopreteAntonio_007  0.159294   \n",
       "39056    DiStefanoMichele_001    DiStefanoMichele_003  0.161466   \n",
       "59843      LopreteAntonio_004      LopreteAntonio_007  0.162563   \n",
       "...                       ...                     ...       ...   \n",
       "67270  NardielloDonatella_001  NardielloDonatella_002  0.736842   \n",
       "7371       AnastasioMarco_000      AnastasioMarco_001  0.742540   \n",
       "82818      SalernoAntonio_013      SalernoAntonio_014  0.744999   \n",
       "85918    TelescaAntonello_003    TelescaAntonello_004  0.747910   \n",
       "53641       GruossoMonica_004       GruossoMonica_005  0.750399   \n",
       "\n",
       "           Primo soggetto    Secondo soggetto  ScoreNormalizzato  \n",
       "59609      LopreteAntonio      LopreteAntonio               0.15  \n",
       "59844      LopreteAntonio      LopreteAntonio               0.15  \n",
       "59608      LopreteAntonio      LopreteAntonio               0.15  \n",
       "39056    DiStefanoMichele    DiStefanoMichele               0.16  \n",
       "59843      LopreteAntonio      LopreteAntonio               0.16  \n",
       "...                   ...                 ...                ...  \n",
       "67270  NardielloDonatella  NardielloDonatella               0.73  \n",
       "7371       AnastasioMarco      AnastasioMarco               0.74  \n",
       "82818      SalernoAntonio      SalernoAntonio               0.74  \n",
       "85918    TelescaAntonello    TelescaAntonello               0.74  \n",
       "53641       GruossoMonica       GruossoMonica               0.75  \n",
       "\n",
       "[1394 rows x 6 columns]"
      ]
     },
     "execution_count": 26,
     "metadata": {},
     "output_type": "execute_result"
    }
   ],
   "source": [
    "b = a.sort_values(by='ScoreML')\n",
    "b"
   ]
  },
  {
   "cell_type": "code",
   "execution_count": 12,
   "id": "b398a417-13de-43d6-8bc4-b6d4add5fd1d",
   "metadata": {},
   "outputs": [],
   "source": [
    "# b[30:40]"
   ]
  },
  {
   "cell_type": "code",
   "execution_count": 13,
   "id": "a953a247-86b7-44b5-911a-f76b074e7032",
   "metadata": {},
   "outputs": [
    {
     "data": {
      "text/html": [
       "<div>\n",
       "<style scoped>\n",
       "    .dataframe tbody tr th:only-of-type {\n",
       "        vertical-align: middle;\n",
       "    }\n",
       "\n",
       "    .dataframe tbody tr th {\n",
       "        vertical-align: top;\n",
       "    }\n",
       "\n",
       "    .dataframe thead th {\n",
       "        text-align: right;\n",
       "    }\n",
       "</style>\n",
       "<table border=\"1\" class=\"dataframe\">\n",
       "  <thead>\n",
       "    <tr style=\"text-align: right;\">\n",
       "      <th></th>\n",
       "      <th>Utente1</th>\n",
       "      <th>Utente2</th>\n",
       "      <th>ScoreML</th>\n",
       "      <th>Primo soggetto</th>\n",
       "      <th>Secondo soggetto</th>\n",
       "    </tr>\n",
       "  </thead>\n",
       "  <tbody>\n",
       "    <tr>\n",
       "      <th>0</th>\n",
       "      <td>AgatielloRoberto_000</td>\n",
       "      <td>AgatielloRoberto_001</td>\n",
       "      <td>0.526569</td>\n",
       "      <td>AgatielloRoberto</td>\n",
       "      <td>AgatielloRoberto</td>\n",
       "    </tr>\n",
       "    <tr>\n",
       "      <th>1</th>\n",
       "      <td>AgatielloRoberto_000</td>\n",
       "      <td>AgatielloRoberto_002</td>\n",
       "      <td>0.491637</td>\n",
       "      <td>AgatielloRoberto</td>\n",
       "      <td>AgatielloRoberto</td>\n",
       "    </tr>\n",
       "    <tr>\n",
       "      <th>2</th>\n",
       "      <td>AgatielloRoberto_000</td>\n",
       "      <td>AgatielloRoberto_003</td>\n",
       "      <td>0.525314</td>\n",
       "      <td>AgatielloRoberto</td>\n",
       "      <td>AgatielloRoberto</td>\n",
       "    </tr>\n",
       "    <tr>\n",
       "      <th>3</th>\n",
       "      <td>AgatielloRoberto_000</td>\n",
       "      <td>AgatielloRoberto_004</td>\n",
       "      <td>0.516008</td>\n",
       "      <td>AgatielloRoberto</td>\n",
       "      <td>AgatielloRoberto</td>\n",
       "    </tr>\n",
       "    <tr>\n",
       "      <th>4</th>\n",
       "      <td>AgatielloRoberto_000</td>\n",
       "      <td>AgatielloRoberto_005</td>\n",
       "      <td>0.567200</td>\n",
       "      <td>AgatielloRoberto</td>\n",
       "      <td>AgatielloRoberto</td>\n",
       "    </tr>\n",
       "  </tbody>\n",
       "</table>\n",
       "</div>"
      ],
      "text/plain": [
       "                Utente1               Utente2   ScoreML    Primo soggetto  \\\n",
       "0  AgatielloRoberto_000  AgatielloRoberto_001  0.526569  AgatielloRoberto   \n",
       "1  AgatielloRoberto_000  AgatielloRoberto_002  0.491637  AgatielloRoberto   \n",
       "2  AgatielloRoberto_000  AgatielloRoberto_003  0.525314  AgatielloRoberto   \n",
       "3  AgatielloRoberto_000  AgatielloRoberto_004  0.516008  AgatielloRoberto   \n",
       "4  AgatielloRoberto_000  AgatielloRoberto_005  0.567200  AgatielloRoberto   \n",
       "\n",
       "   Secondo soggetto  \n",
       "0  AgatielloRoberto  \n",
       "1  AgatielloRoberto  \n",
       "2  AgatielloRoberto  \n",
       "3  AgatielloRoberto  \n",
       "4  AgatielloRoberto  "
      ]
     },
     "execution_count": 13,
     "metadata": {},
     "output_type": "execute_result"
    }
   ],
   "source": [
    "scores.head()"
   ]
  },
  {
   "cell_type": "markdown",
   "id": "282c1781-5502-44d3-a5bc-c5308902b2eb",
   "metadata": {},
   "source": [
    "### Calcolo FAR"
   ]
  },
  {
   "cell_type": "code",
   "execution_count": 14,
   "id": "2d4273d0-b799-4ad7-b5e8-e2c14fa3942b",
   "metadata": {},
   "outputs": [
    {
     "name": "stderr",
     "output_type": "stream",
     "text": [
      "100%|██████████| 100/100 [02:12<00:00,  1.32s/it]\n"
     ]
    }
   ],
   "source": [
    "threshold_far = []\n",
    "threshold_frr = []\n",
    "for threshold in tqdm(range(1, 101)):\n",
    "    cont_far = 0\n",
    "    cont_frr = 0\n",
    "    for i, row in scores.iterrows():\n",
    "        primo_soggetto = row['Primo soggetto']\n",
    "        secondo_soggetto = row['Secondo soggetto']\n",
    "        scoreMl = row['ScoreML'] * 100\n",
    "        if(primo_soggetto != secondo_soggetto and scoreMl > threshold):\n",
    "            cont_far += 1\n",
    "        if(primo_soggetto == secondo_soggetto and scoreMl < threshold):\n",
    "            cont_frr += 1\n",
    "    threshold_far.append(cont_far)\n",
    "    threshold_frr.append(cont_frr)"
   ]
  },
  {
   "cell_type": "code",
   "execution_count": 15,
   "id": "29c43c4f-46f3-4463-bb15-0ba15ed7fc96",
   "metadata": {},
   "outputs": [],
   "source": [
    "max_far = len(scores[scores['Primo soggetto'] != scores['Secondo soggetto']])\n",
    "max_frr = len(scores[scores['Primo soggetto'] == scores['Secondo soggetto']])"
   ]
  },
  {
   "cell_type": "code",
   "execution_count": 16,
   "id": "8a3c4a83-ff5b-4b10-899a-225cd4c78d58",
   "metadata": {},
   "outputs": [],
   "source": [
    "threshold_far_norm = [i / max_far for i in threshold_far]\n",
    "threshold_frr_norm = [i / max_frr for i in threshold_frr]"
   ]
  },
  {
   "cell_type": "code",
   "execution_count": 17,
   "id": "88e01e1e-1ad4-4fee-8df4-c7eab19c51aa",
   "metadata": {},
   "outputs": [
    {
     "data": {
      "image/png": "[encoded data removed]",
      "text/plain": [
       "<Figure size 1008x720 with 1 Axes>"
      ]
     },
     "metadata": {
      "needs_background": "light"
     },
     "output_type": "display_data"
    }
   ],
   "source": [
    "y_values = [i/100 for i in range(1, 101)]\n",
    "\n",
    "plt.figure(figsize=(14,10))\n",
    "plt.plot(y_values, threshold_far_norm, label='FAR')\n",
    "plt.plot(y_values, threshold_frr_norm, label='FRR')\n",
    "plt.grid()\n",
    "plt.xlabel(\"Threshold\")\n",
    "plt.ylabel(\"Probability\")\n",
    "plt.legend()\n",
    "\n",
    "\n",
    "idx = np.argwhere(np.diff(np.sign(np.array(threshold_far_norm) - np.array(threshold_frr_norm)))).flatten()\n",
    "plt.plot(np.array(y_values)[idx], np.array(threshold_frr_norm)[idx], 'ro')\n",
    "\n",
    "index_eer = int(idx)\n",
    "EER_perc = round((threshold_far_norm[index_eer] * 100)* 100)/ 100\n",
    "\n",
    "plt.text(index_eer/100, EER_perc/100 + 0.1, f'EER: {EER_perc}%\\nThreshold: {index_eer/100}')\n",
    "\n",
    "plt.show()"
   ]
  },
  {
   "cell_type": "markdown",
   "id": "8db9739f-c8ae-4d74-a8b5-2df9e5bed291",
   "metadata": {},
   "source": [
    "### Calcolo seconda tipologia di grafico"
   ]
  },
  {
   "cell_type": "code",
   "execution_count": 18,
   "id": "44bfd9bc-db68-403f-8de7-8c35dd0af305",
   "metadata": {},
   "outputs": [],
   "source": [
    "scores['ScoreNormalizzato'] = scores['ScoreML'].apply(lambda x: int(x * 100)/100)"
   ]
  },
  {
   "cell_type": "code",
   "execution_count": 27,
   "id": "9170a09c-33d6-44d8-8146-dd37f1723870",
   "metadata": {},
   "outputs": [
    {
     "name": "stderr",
     "output_type": "stream",
     "text": [
      "100%|██████████| 101/101 [02:15<00:00,  1.34s/it]\n"
     ]
    }
   ],
   "source": [
    "list_scores = [i/100 for i in range(101)]\n",
    "impostori = []\n",
    "genuini = []\n",
    "for score in tqdm(list_scores):\n",
    "    cont_impostori = 0\n",
    "    cont_genuini = 0\n",
    "    for i, row in scores.iterrows():\n",
    "        primo_soggetto = row['Primo soggetto']\n",
    "        secondo_soggetto = row['Secondo soggetto']\n",
    "        score_normalizzato = row['ScoreNormalizzato']\n",
    "        if(primo_soggetto != secondo_soggetto and score_normalizzato == score):\n",
    "            cont_impostori += 1\n",
    "        if(primo_soggetto == secondo_soggetto and score_normalizzato == score):\n",
    "            cont_genuini += 1\n",
    "    impostori.append(cont_impostori)\n",
    "    genuini.append(cont_genuini)"
   ]
  },
  {
   "cell_type": "code",
   "execution_count": 28,
   "id": "ff228161-51e5-48fc-99a8-46f8ede49316",
   "metadata": {},
   "outputs": [],
   "source": [
    "max_genuini = max(genuini)\n",
    "max_impostori = max(impostori)"
   ]
  },
  {
   "cell_type": "code",
   "execution_count": 29,
   "id": "1fef2b2c-7d59-4791-8fe6-a5085f916a0b",
   "metadata": {},
   "outputs": [],
   "source": [
    "genuini_norm = [i / max_genuini for i in genuini]\n",
    "impostori_norm = [i / max_impostori for i in impostori]"
   ]
  },
  {
   "cell_type": "code",
   "execution_count": 30,
   "id": "4d7efe17-f05f-48d1-8024-dfe6f98043ae",
   "metadata": {},
   "outputs": [
    {
     "data": {
      "image/png": "[encoded data removed]",
      "text/plain": [
       "<Figure size 1008x720 with 1 Axes>"
      ]
     },
     "metadata": {
      "needs_background": "light"
     },
     "output_type": "display_data"
    }
   ],
   "source": [
    "y_values = list_scores\n",
    "\n",
    "plt.figure(figsize=(14,10))\n",
    "plt.plot(y_values, genuini_norm, label='Genuini')\n",
    "plt.plot(y_values, impostori_norm, label='Impostori')\n",
    "plt.grid()\n",
    "plt.xlabel(\"Score\")\n",
    "plt.ylabel(\"Normalized Frequency\")\n",
    "plt.legend()\n",
    "\n",
    "\n",
    "# idx = np.argwhere(np.diff(np.sign(np.array(genuini_norm) - np.array(impostori_norm)))).flatten()\n",
    "# plt.plot(np.array(y_values)[idx[1]], np.array(impostori_norm)[idx[1]], 'ro')\n",
    "\n",
    "# index_eer = int(idx[1])\n",
    "# EER_perc = round((impostori_norm[index_eer] * 100)* 100)/ 100\n",
    "\n",
    "# plt.text(index_eer/100, EER_perc/100 + 0.1, f'EER: {EER_perc}%\\nThreshold: {index_eer/100}')\n",
    "\n",
    "plt.show()"
   ]
  },
  {
   "cell_type": "code",
   "execution_count": null,
   "id": "fdcf5478-3eed-4fd2-81ee-d90598d7f3e6",
   "metadata": {},
   "outputs": [],
   "source": []
  }
 ],
 "metadata": {
  "kernelspec": {
   "display_name": "Python 3 (ipykernel)",
   "language": "python",
   "name": "python3"
  },
  "language_info": {
   "codemirror_mode": {
    "name": "ipython",
    "version": 3
   },
   "file_extension": ".py",
   "mimetype": "text/x-python",
   "name": "python",
   "nbconvert_exporter": "python",
   "pygments_lexer": "ipython3",
   "version": "3.9.12"
  }
 },
 "nbformat": 4,
 "nbformat_minor": 5
}
