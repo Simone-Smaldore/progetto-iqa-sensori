{
 "cells": [
  {
   "cell_type": "code",
   "execution_count": 1,
   "id": "e10369be-2aca-45ce-8f67-81522ef90612",
   "metadata": {},
   "outputs": [],
   "source": [
    "import pandas as pd\n",
    "from tqdm import tqdm\n",
    "from matplotlib import pyplot as plt\n",
    "import numpy as np"
   ]
  },
  {
   "cell_type": "code",
   "execution_count": 5,
   "id": "4a6f32c4-98b2-4300-a510-c0de3d5d2f9c",
   "metadata": {},
   "outputs": [],
   "source": [
    "#PATH_FILE_SCORE = './scoreFiltratiCsv.csv'\n",
    "PATH_FILE_SCORE = './scoreCsv.csv'\n",
    "\n",
    "scores = pd.read_csv(PATH_FILE_SCORE)"
   ]
  },
  {
   "cell_type": "code",
   "execution_count": 6,
   "id": "0167be0b-a02d-415b-b07f-338e0bddc6b5",
   "metadata": {},
   "outputs": [],
   "source": [
    "def calcola_id_soggetto_da_utente(u):\n",
    "    return f'{u.split(\"_\")[0]}{u.split(\"_\")[1]}'\n",
    "\n",
    "def calcola_num_acquisizione_da_utente(u):\n",
    "    return u.split('_')[-1]"
   ]
  },
  {
   "cell_type": "code",
   "execution_count": 4,
   "id": "41d2f945-01f7-4755-b397-0bc400fd239d",
   "metadata": {},
   "outputs": [],
   "source": [
    "scores['Primo soggetto'] = scores['Utente1'].apply(lambda u: calcola_id_soggetto_da_utente(u))\n",
    "scores['Secondo soggetto'] = scores['Utente2'].apply(lambda u: calcola_id_soggetto_da_utente(u))"
   ]
  },
  {
   "cell_type": "code",
   "execution_count": 5,
   "id": "a953a247-86b7-44b5-911a-f76b074e7032",
   "metadata": {},
   "outputs": [
    {
     "data": {
      "text/html": [
       "<div>\n",
       "<style scoped>\n",
       "    .dataframe tbody tr th:only-of-type {\n",
       "        vertical-align: middle;\n",
       "    }\n",
       "\n",
       "    .dataframe tbody tr th {\n",
       "        vertical-align: top;\n",
       "    }\n",
       "\n",
       "    .dataframe thead th {\n",
       "        text-align: right;\n",
       "    }\n",
       "</style>\n",
       "<table border=\"1\" class=\"dataframe\">\n",
       "  <thead>\n",
       "    <tr style=\"text-align: right;\">\n",
       "      <th></th>\n",
       "      <th>Utente1</th>\n",
       "      <th>Utente2</th>\n",
       "      <th>ScoreML</th>\n",
       "      <th>Primo soggetto</th>\n",
       "      <th>Secondo soggetto</th>\n",
       "    </tr>\n",
       "  </thead>\n",
       "  <tbody>\n",
       "    <tr>\n",
       "      <th>0</th>\n",
       "      <td>1_M_1</td>\n",
       "      <td>1_M_10</td>\n",
       "      <td>0.595889</td>\n",
       "      <td>1M</td>\n",
       "      <td>1M</td>\n",
       "    </tr>\n",
       "    <tr>\n",
       "      <th>1</th>\n",
       "      <td>1_M_1</td>\n",
       "      <td>1_M_11</td>\n",
       "      <td>0.567831</td>\n",
       "      <td>1M</td>\n",
       "      <td>1M</td>\n",
       "    </tr>\n",
       "    <tr>\n",
       "      <th>2</th>\n",
       "      <td>1_M_1</td>\n",
       "      <td>1_M_12</td>\n",
       "      <td>0.550778</td>\n",
       "      <td>1M</td>\n",
       "      <td>1M</td>\n",
       "    </tr>\n",
       "    <tr>\n",
       "      <th>3</th>\n",
       "      <td>1_M_1</td>\n",
       "      <td>1_M_13</td>\n",
       "      <td>0.497624</td>\n",
       "      <td>1M</td>\n",
       "      <td>1M</td>\n",
       "    </tr>\n",
       "    <tr>\n",
       "      <th>4</th>\n",
       "      <td>1_M_1</td>\n",
       "      <td>1_M_14</td>\n",
       "      <td>0.539765</td>\n",
       "      <td>1M</td>\n",
       "      <td>1M</td>\n",
       "    </tr>\n",
       "    <tr>\n",
       "      <th>5</th>\n",
       "      <td>1_M_1</td>\n",
       "      <td>1_M_15</td>\n",
       "      <td>0.570848</td>\n",
       "      <td>1M</td>\n",
       "      <td>1M</td>\n",
       "    </tr>\n",
       "    <tr>\n",
       "      <th>6</th>\n",
       "      <td>1_M_1</td>\n",
       "      <td>1_M_2</td>\n",
       "      <td>0.559740</td>\n",
       "      <td>1M</td>\n",
       "      <td>1M</td>\n",
       "    </tr>\n",
       "    <tr>\n",
       "      <th>7</th>\n",
       "      <td>1_M_1</td>\n",
       "      <td>1_M_3</td>\n",
       "      <td>0.562043</td>\n",
       "      <td>1M</td>\n",
       "      <td>1M</td>\n",
       "    </tr>\n",
       "    <tr>\n",
       "      <th>8</th>\n",
       "      <td>1_M_1</td>\n",
       "      <td>1_M_4</td>\n",
       "      <td>0.590155</td>\n",
       "      <td>1M</td>\n",
       "      <td>1M</td>\n",
       "    </tr>\n",
       "    <tr>\n",
       "      <th>9</th>\n",
       "      <td>1_M_1</td>\n",
       "      <td>1_M_5</td>\n",
       "      <td>0.554073</td>\n",
       "      <td>1M</td>\n",
       "      <td>1M</td>\n",
       "    </tr>\n",
       "  </tbody>\n",
       "</table>\n",
       "</div>"
      ],
      "text/plain": [
       "  Utente1 Utente2   ScoreML Primo soggetto Secondo soggetto\n",
       "0   1_M_1  1_M_10  0.595889             1M               1M\n",
       "1   1_M_1  1_M_11  0.567831             1M               1M\n",
       "2   1_M_1  1_M_12  0.550778             1M               1M\n",
       "3   1_M_1  1_M_13  0.497624             1M               1M\n",
       "4   1_M_1  1_M_14  0.539765             1M               1M\n",
       "5   1_M_1  1_M_15  0.570848             1M               1M\n",
       "6   1_M_1   1_M_2  0.559740             1M               1M\n",
       "7   1_M_1   1_M_3  0.562043             1M               1M\n",
       "8   1_M_1   1_M_4  0.590155             1M               1M\n",
       "9   1_M_1   1_M_5  0.554073             1M               1M"
      ]
     },
     "execution_count": 5,
     "metadata": {},
     "output_type": "execute_result"
    }
   ],
   "source": [
    "scores.head(10)"
   ]
  },
  {
   "cell_type": "markdown",
   "id": "282c1781-5502-44d3-a5bc-c5308902b2eb",
   "metadata": {},
   "source": [
    "### Calcolo FAR"
   ]
  },
  {
   "cell_type": "code",
   "execution_count": 6,
   "id": "2d4273d0-b799-4ad7-b5e8-e2c14fa3942b",
   "metadata": {},
   "outputs": [
    {
     "name": "stderr",
     "output_type": "stream",
     "text": [
      "100%|██████████| 100/100 [00:30<00:00,  3.27it/s]\n"
     ]
    }
   ],
   "source": [
    "threshold_far = []\n",
    "threshold_frr = []\n",
    "for threshold in tqdm(range(1, 101)):\n",
    "    cont_far = 0\n",
    "    cont_frr = 0\n",
    "    for i, row in scores.iterrows():\n",
    "        primo_soggetto = row['Primo soggetto']\n",
    "        secondo_soggetto = row['Secondo soggetto']\n",
    "        scoreMl = row['ScoreML'] * 100\n",
    "        if(primo_soggetto != secondo_soggetto and scoreMl > threshold):\n",
    "            cont_far += 1\n",
    "        if(primo_soggetto == secondo_soggetto and scoreMl < threshold):\n",
    "            cont_frr += 1\n",
    "    threshold_far.append(cont_far)\n",
    "    threshold_frr.append(cont_frr)"
   ]
  },
  {
   "cell_type": "code",
   "execution_count": 7,
   "id": "29c43c4f-46f3-4463-bb15-0ba15ed7fc96",
   "metadata": {},
   "outputs": [],
   "source": [
    "max_far = len(scores[scores['Primo soggetto'] != scores['Secondo soggetto']])\n",
    "max_frr = len(scores[scores['Primo soggetto'] == scores['Secondo soggetto']])"
   ]
  },
  {
   "cell_type": "code",
   "execution_count": 8,
   "id": "8a3c4a83-ff5b-4b10-899a-225cd4c78d58",
   "metadata": {},
   "outputs": [],
   "source": [
    "threshold_far_norm = [i / max_far for i in threshold_far]\n",
    "threshold_frr_norm = [i / max_frr for i in threshold_frr]"
   ]
  },
  {
   "cell_type": "code",
   "execution_count": 9,
   "id": "88e01e1e-1ad4-4fee-8df4-c7eab19c51aa",
   "metadata": {},
   "outputs": [
    {
     "data": {
      "image/png": "[encoded data removed]",
      "text/plain": [
       "<Figure size 1008x720 with 1 Axes>"
      ]
     },
     "metadata": {
      "needs_background": "light"
     },
     "output_type": "display_data"
    }
   ],
   "source": [
    "y_values = [i/100 for i in range(1, 101)]\n",
    "\n",
    "plt.figure(figsize=(14,10))\n",
    "plt.plot(y_values, threshold_far_norm, label='FAR')\n",
    "plt.plot(y_values, threshold_frr_norm, label='FRR')\n",
    "plt.grid()\n",
    "plt.xlabel(\"Threshold\")\n",
    "plt.ylabel(\"Probability\")\n",
    "plt.legend()\n",
    "\n",
    "\n",
    "idx = np.argwhere(np.diff(np.sign(np.array(threshold_far_norm) - np.array(threshold_frr_norm)))).flatten()\n",
    "plt.plot(np.array(y_values)[idx], np.array(threshold_frr_norm)[idx], 'ro')\n",
    "\n",
    "index_eer = int(idx)\n",
    "EER_perc = round((threshold_far_norm[index_eer] * 100)* 100)/ 100\n",
    "\n",
    "plt.text(index_eer/100, EER_perc/100 + 0.1, f'EER: {EER_perc}%\\nThreshold: {index_eer/100}')\n",
    "\n",
    "plt.show()"
   ]
  }
 ],
 "metadata": {
  "kernelspec": {
   "display_name": "Python 3 (ipykernel)",
   "language": "python",
   "name": "python3"
  },
  "language_info": {
   "codemirror_mode": {
    "name": "ipython",
    "version": 3
   },
   "file_extension": ".py",
   "mimetype": "text/x-python",
   "name": "python",
   "nbconvert_exporter": "python",
   "pygments_lexer": "ipython3",
   "version": "3.9.12"
  }
 },
 "nbformat": 4,
 "nbformat_minor": 5
}
