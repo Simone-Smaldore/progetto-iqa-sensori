{
 "cells": [
  {
   "cell_type": "code",
   "execution_count": 1,
   "id": "8cc44104-a787-4b96-ab6d-277bbdf49339",
   "metadata": {},
   "outputs": [],
   "source": [
    "import os \n",
    "import pandas as pd\n",
    "from PIL import Image\n",
    "import numpy as np\n",
    "import tensorflow as tf\n",
    "from tensorflow import keras\n",
    "from tensorflow.keras import layers"
   ]
  },
  {
   "cell_type": "code",
   "execution_count": 36,
   "id": "e141ced8-5fa6-40a5-b040-a47378d7cd28",
   "metadata": {},
   "outputs": [],
   "source": [
    "PATH_CSV_LABELS = 'tabellaPseudoLabelsDatasetCompleto.csv'\n",
    "PATH_DATASET_LAVORATO = '../Nuovi Dati/TemplateGeneratiClean'\n",
    "\n",
    "PATH_MODELLO_SPECKLE = '../Modelli-v2/modello_finale_riaddestrato_speckle'\n",
    "PATH_MODELLO_GAUSSIAN_BLUR = '../Modelli-v2/modello_finale_riaddestrato_gaussian_blur'\n",
    "PATH_MODELLO_BLACK_STAINS = '../Modelli-v2/modello_finale_riaddestrato_black_stains'\n",
    "# PATH_MODELLO_BLACK_STAINS = '../Modelli-v2/modello_pesi_inizializzati_black_stains'\n",
    "\n",
    "N_IMG = 1\n",
    "FORMATO_IMG = 'jpg'\n",
    "CHANNELS = 1\n",
    "HEIGHT = 512\n",
    "WIDTH = 512\n",
    "TARGET_SIZE = (WIDTH, HEIGHT)"
   ]
  },
  {
   "cell_type": "code",
   "execution_count": 3,
   "id": "f7b23520-437c-48cf-afab-9e646c223393",
   "metadata": {},
   "outputs": [
    {
     "data": {
      "text/html": [
       "<div>\n",
       "<style scoped>\n",
       "    .dataframe tbody tr th:only-of-type {\n",
       "        vertical-align: middle;\n",
       "    }\n",
       "\n",
       "    .dataframe tbody tr th {\n",
       "        vertical-align: top;\n",
       "    }\n",
       "\n",
       "    .dataframe thead th {\n",
       "        text-align: right;\n",
       "    }\n",
       "</style>\n",
       "<table border=\"1\" class=\"dataframe\">\n",
       "  <thead>\n",
       "    <tr style=\"text-align: right;\">\n",
       "      <th></th>\n",
       "      <th>Acquisizione</th>\n",
       "      <th>Label</th>\n",
       "      <th>Label_norm</th>\n",
       "    </tr>\n",
       "  </thead>\n",
       "  <tbody>\n",
       "    <tr>\n",
       "      <th>0</th>\n",
       "      <td>AgatielloRoberto_000</td>\n",
       "      <td>0.648876</td>\n",
       "      <td>50.428711</td>\n",
       "    </tr>\n",
       "    <tr>\n",
       "      <th>1</th>\n",
       "      <td>AgatielloRoberto_001</td>\n",
       "      <td>0.759503</td>\n",
       "      <td>61.300294</td>\n",
       "    </tr>\n",
       "    <tr>\n",
       "      <th>2</th>\n",
       "      <td>AgatielloRoberto_002</td>\n",
       "      <td>0.747500</td>\n",
       "      <td>60.120716</td>\n",
       "    </tr>\n",
       "    <tr>\n",
       "      <th>3</th>\n",
       "      <td>AgatielloRoberto_003</td>\n",
       "      <td>0.818899</td>\n",
       "      <td>67.137182</td>\n",
       "    </tr>\n",
       "    <tr>\n",
       "      <th>4</th>\n",
       "      <td>AgatielloRoberto_004</td>\n",
       "      <td>0.825895</td>\n",
       "      <td>67.824714</td>\n",
       "    </tr>\n",
       "  </tbody>\n",
       "</table>\n",
       "</div>"
      ],
      "text/plain": [
       "           Acquisizione     Label  Label_norm\n",
       "0  AgatielloRoberto_000  0.648876   50.428711\n",
       "1  AgatielloRoberto_001  0.759503   61.300294\n",
       "2  AgatielloRoberto_002  0.747500   60.120716\n",
       "3  AgatielloRoberto_003  0.818899   67.137182\n",
       "4  AgatielloRoberto_004  0.825895   67.824714"
      ]
     },
     "execution_count": 3,
     "metadata": {},
     "output_type": "execute_result"
    }
   ],
   "source": [
    "df_labels = pd.read_csv(PATH_CSV_LABELS)\n",
    "df_labels.head(5)"
   ]
  },
  {
   "cell_type": "code",
   "execution_count": 45,
   "id": "85b4ee0d-566c-4a7d-bfbf-8960f844d28c",
   "metadata": {},
   "outputs": [],
   "source": [
    "X = []\n",
    "y = []\n",
    "\n",
    "for id_acquisizione in df_labels.Acquisizione:\n",
    "    path_img = os.path.join(PATH_DATASET_LAVORATO, id_acquisizione, 'Immagini', 'immagine1.jpg')\n",
    "    # print(path_img)\n",
    "    # path_img = os.path.join('../Nuovi Dati/DatasetDistorti/DatasetBlackStains-t3', id_acquisizione, 'Immagini', 'immagine1.jpg')\n",
    "    image = Image.open(path_img)\n",
    "    resized_image = image.resize(TARGET_SIZE)\n",
    "    image_array = np.array(resized_image)\n",
    "    normalized_image_array = image_array / 255.0\n",
    "    \n",
    "    pseudo_label = df_labels[df_labels.Acquisizione == id_acquisizione].Label_norm\n",
    "    \n",
    "    X.append(normalized_image_array)\n",
    "    y.append(pseudo_label)\n",
    "    \n",
    "X = np.array(X)\n",
    "y = np.array(y)"
   ]
  },
  {
   "cell_type": "code",
   "execution_count": 42,
   "id": "c7650b57-4ccc-45fc-99ab-adffef96f3cf",
   "metadata": {},
   "outputs": [],
   "source": [
    "# test_set = df_labels.Acquisizione.apply(lambda x:  x.startswith('TozziVito'))\n",
    "# test_set = df_labels[test_set]"
   ]
  },
  {
   "cell_type": "code",
   "execution_count": 43,
   "id": "6bc97e76-3b80-458d-8ac3-150e3792fb83",
   "metadata": {},
   "outputs": [
    {
     "name": "stdout",
     "output_type": "stream",
     "text": [
      "../Nuovi Dati/TemplateGeneratiClean/VenafraSara_014/Immagini/immagine1.jpg\n",
      "../Nuovi Dati/TemplateGeneratiClean/TozziVito_000/Immagini/immagine1.jpg\n",
      "../Nuovi Dati/TemplateGeneratiClean/TozziVito_001/Immagini/immagine1.jpg\n",
      "../Nuovi Dati/TemplateGeneratiClean/TozziVito_002/Immagini/immagine1.jpg\n",
      "../Nuovi Dati/TemplateGeneratiClean/TozziVito_003/Immagini/immagine1.jpg\n"
     ]
    }
   ],
   "source": [
    "# X = []\n",
    "# y = []\n",
    "\n",
    "# for id_acquisizione in test_set.Acquisizione.unique():\n",
    "#     print(path_img)\n",
    "#     path_img = os.path.join(PATH_DATASET_LAVORATO, id_acquisizione, 'Immagini', 'immagine1.jpg')\n",
    "#     image = Image.open(path_img)\n",
    "#     resized_image = image.resize(TARGET_SIZE)\n",
    "#     image_array = np.array(resized_image)\n",
    "#     normalized_image_array = image_array / 255.0\n",
    "    \n",
    "#     pseudo_label = df_labels[df_labels.Acquisizione == id_acquisizione].Label_norm\n",
    "    \n",
    "#     X.append(normalized_image_array)\n",
    "#     y.append(pseudo_label)\n",
    "    \n",
    "# X = np.array(X)\n",
    "# y = np.array(y)"
   ]
  },
  {
   "cell_type": "code",
   "execution_count": 37,
   "id": "31d8afe8-b27d-4c7a-b774-7ef351526eb6",
   "metadata": {},
   "outputs": [],
   "source": [
    "model_speckle = tf.keras.models.load_model(PATH_MODELLO_SPECKLE)\n",
    "model_gaussian_blur = tf.keras.models.load_model(PATH_MODELLO_GAUSSIAN_BLUR)\n",
    "model_black_stains = tf.keras.models.load_model(PATH_MODELLO_BLACK_STAINS)\n",
    "\n",
    "classificatore_blur = tf.keras.models.load_model('/Users/simone/Documents/Universita/Sensori/IQA-PROGETTO-GIT/Utilità python/classificatori/modelli_classificatori/classificatore_blur')\n",
    "classificatore_black_stains = tf.keras.models.load_model('/Users/simone/Documents/Universita/Sensori/IQA-PROGETTO-GIT/Utilità python/classificatori/modelli_classificatori/classificatore_black_stains')\n",
    "classificatore_polvere = tf.keras.models.load_model('/Users/simone/Documents/Universita/Sensori/IQA-PROGETTO-GIT/Utilità python/classificatori/modelli_classificatori/classificatore_polvere')"
   ]
  },
  {
   "cell_type": "code",
   "execution_count": 7,
   "id": "fac545b6-7037-41bf-9440-dd13aade39c4",
   "metadata": {},
   "outputs": [
    {
     "name": "stderr",
     "output_type": "stream",
     "text": [
      "2023-07-26 15:52:11.349949: W tensorflow/core/platform/profile_utils/cpu_utils.cc:128] Failed to get CPU frequency: 0 Hz\n",
      "2023-07-26 15:52:11.407859: I tensorflow/core/grappler/optimizers/custom_graph_optimizer_registry.cc:113] Plugin optimizer for device_type GPU is enabled.\n"
     ]
    },
    {
     "name": "stdout",
     "output_type": "stream",
     "text": [
      "23/23 [==============================] - 3s 142ms/step\n",
      " 1/23 [>.............................] - ETA: 2s"
     ]
    },
    {
     "name": "stderr",
     "output_type": "stream",
     "text": [
      "2023-07-26 15:52:15.709059: I tensorflow/core/grappler/optimizers/custom_graph_optimizer_registry.cc:113] Plugin optimizer for device_type GPU is enabled.\n"
     ]
    },
    {
     "name": "stdout",
     "output_type": "stream",
     "text": [
      "23/23 [==============================] - 4s 192ms/step\n",
      " 1/23 [>.............................] - ETA: 1s"
     ]
    },
    {
     "name": "stderr",
     "output_type": "stream",
     "text": [
      "2023-07-26 15:52:20.956941: I tensorflow/core/grappler/optimizers/custom_graph_optimizer_registry.cc:113] Plugin optimizer for device_type GPU is enabled.\n"
     ]
    },
    {
     "name": "stdout",
     "output_type": "stream",
     "text": [
      "23/23 [==============================] - 4s 192ms/step\n"
     ]
    }
   ],
   "source": [
    "previsioni_nuovo_modello_speckle = model_speckle.predict(X)\n",
    "previsioni_nuovo_modello_gaussian_blur = model_gaussian_blur.predict(X)\n",
    "previsioni_nuovo_modello_black_stains = model_black_stains.predict(X)"
   ]
  },
  {
   "cell_type": "code",
   "execution_count": 26,
   "id": "53d390dc-d670-4fa6-9c20-8a18a342bbd9",
   "metadata": {},
   "outputs": [
    {
     "name": "stdout",
     "output_type": "stream",
     "text": [
      "23/23 [==============================] - 6s 269ms/step\n",
      " 1/23 [>.............................] - ETA: 3s"
     ]
    },
    {
     "name": "stderr",
     "output_type": "stream",
     "text": [
      "2023-07-26 16:02:10.560225: I tensorflow/core/grappler/optimizers/custom_graph_optimizer_registry.cc:113] Plugin optimizer for device_type GPU is enabled.\n"
     ]
    },
    {
     "name": "stdout",
     "output_type": "stream",
     "text": [
      "23/23 [==============================] - 7s 293ms/step\n",
      " 1/23 [>.............................] - ETA: 2s"
     ]
    },
    {
     "name": "stderr",
     "output_type": "stream",
     "text": [
      "2023-07-26 16:02:17.489724: I tensorflow/core/grappler/optimizers/custom_graph_optimizer_registry.cc:113] Plugin optimizer for device_type GPU is enabled.\n"
     ]
    },
    {
     "name": "stdout",
     "output_type": "stream",
     "text": [
      "23/23 [==============================] - 7s 309ms/step\n"
     ]
    }
   ],
   "source": [
    "previsioni_classificatore_gaussian_blur = classificatore_blur.predict(X)\n",
    "previsioni_classificatore_polvere = classificatore_polvere.predict(X)\n",
    "previsioni_classificatore_black_stains = classificatore_black_stains.predict(X)"
   ]
  },
  {
   "cell_type": "code",
   "execution_count": 35,
   "id": "6ef1d8cd-8b2a-4a64-aaee-a5f1b5a70be8",
   "metadata": {},
   "outputs": [
    {
     "data": {
      "text/plain": [
       "718"
      ]
     },
     "execution_count": 35,
     "metadata": {},
     "output_type": "execute_result"
    }
   ],
   "source": [
    "len(previsioni_classificatore_gaussian_blur)"
   ]
  },
  {
   "cell_type": "code",
   "execution_count": 30,
   "id": "57186861-ee54-49c6-bb8f-ac51979bb82a",
   "metadata": {},
   "outputs": [
    {
     "data": {
      "text/plain": [
       "218"
      ]
     },
     "execution_count": 30,
     "metadata": {},
     "output_type": "execute_result"
    }
   ],
   "source": [
    "previsioni_list_blur = [i[0] for i in previsioni_classificatore_gaussian_blur]\n",
    "a = sum([0 if i < 0.99 else 1 for i in previsioni_list_blur])\n",
    "bool_val_blur = [False if i < 0.99 else True for i in previsioni_list_blur]\n",
    "a"
   ]
  },
  {
   "cell_type": "code",
   "execution_count": 27,
   "id": "e1525ffb-8325-437f-b442-a08ec88aa416",
   "metadata": {},
   "outputs": [
    {
     "data": {
      "text/plain": [
       "572"
      ]
     },
     "execution_count": 27,
     "metadata": {},
     "output_type": "execute_result"
    }
   ],
   "source": [
    "# previsioni_list_blur = [i[0] for i in previsioni_classificatore_polvere]\n",
    "# a = sum([0 if i < 0.99 else 1 for i in previsioni_list_blur])\n",
    "# a"
   ]
  },
  {
   "cell_type": "code",
   "execution_count": 32,
   "id": "cc2c638e-51b8-4a5d-9d17-6daf3ee66109",
   "metadata": {},
   "outputs": [
    {
     "data": {
      "text/plain": [
       "161"
      ]
     },
     "execution_count": 32,
     "metadata": {},
     "output_type": "execute_result"
    }
   ],
   "source": [
    "previsioni_list_black_stains = [i[0] for i in previsioni_classificatore_black_stains]\n",
    "a = sum([0 if i < 0.99 else 1 for i in previsioni_list_black_stains])\n",
    "bool_val_black_stains = [False if i < 0.99 else True for i in previsioni_list_black_stains]\n",
    "a"
   ]
  },
  {
   "cell_type": "code",
   "execution_count": 110,
   "id": "2b7b11b1-cfdc-4efc-9b7f-f9805ffe838e",
   "metadata": {},
   "outputs": [
    {
     "data": {
      "text/plain": [
       "array([[29.0905992 ],\n",
       "       [13.11175912],\n",
       "       [ 7.7756871 ],\n",
       "       [16.64850159],\n",
       "       [16.21545199]])"
      ]
     },
     "execution_count": 110,
     "metadata": {},
     "output_type": "execute_result"
    }
   ],
   "source": [
    "y"
   ]
  },
  {
   "cell_type": "code",
   "execution_count": 112,
   "id": "cf2d7f13-0865-4092-9fe5-f07b15c56aa0",
   "metadata": {},
   "outputs": [
    {
     "data": {
      "text/plain": [
       "[array([96.51858], dtype=float32),\n",
       " array([102.70201], dtype=float32),\n",
       " array([-0.00116403], dtype=float32),\n",
       " array([24.030027], dtype=float32),\n",
       " array([27.18772], dtype=float32)]"
      ]
     },
     "execution_count": 112,
     "metadata": {},
     "output_type": "execute_result"
    }
   ],
   "source": [
    "list(previsioni_nuovo_modello)"
   ]
  },
  {
   "cell_type": "code",
   "execution_count": null,
   "id": "3633b0e6-6d77-40e8-ba29-712b0672a03c",
   "metadata": {},
   "outputs": [],
   "source": []
  },
  {
   "cell_type": "code",
   "execution_count": 57,
   "id": "47bd735a-6638-41cb-995b-20f6bb5888dc",
   "metadata": {},
   "outputs": [],
   "source": [
    "bool_nn_black_speckle = [True if i < 20 else False for i in previsioni_nuovo_modello_speckle]\n",
    "bool_nn_black_blur = [True if i < 20 else False for i in previsioni_nuovo_modello_gaussian_blur]\n",
    "bool_nn_black_stains = [True if i < 20 else False for i in previsioni_nuovo_modello_black_stains]"
   ]
  },
  {
   "cell_type": "code",
   "execution_count": 58,
   "id": "91259f4a-da3e-4801-bc6c-dc581830d1e8",
   "metadata": {},
   "outputs": [
    {
     "data": {
      "text/html": [
       "<div>\n",
       "<style scoped>\n",
       "    .dataframe tbody tr th:only-of-type {\n",
       "        vertical-align: middle;\n",
       "    }\n",
       "\n",
       "    .dataframe tbody tr th {\n",
       "        vertical-align: top;\n",
       "    }\n",
       "\n",
       "    .dataframe thead th {\n",
       "        text-align: right;\n",
       "    }\n",
       "</style>\n",
       "<table border=\"1\" class=\"dataframe\">\n",
       "  <thead>\n",
       "    <tr style=\"text-align: right;\">\n",
       "      <th></th>\n",
       "      <th>Acquisizione</th>\n",
       "      <th>Label</th>\n",
       "      <th>Label_norm</th>\n",
       "      <th>class_back_stains</th>\n",
       "      <th>class_blur</th>\n",
       "      <th>bool_nn_black_speckle</th>\n",
       "      <th>bool_nn_black_blur</th>\n",
       "      <th>bool_nn_black_stains</th>\n",
       "    </tr>\n",
       "  </thead>\n",
       "  <tbody>\n",
       "    <tr>\n",
       "      <th>0</th>\n",
       "      <td>AgatielloRoberto_000</td>\n",
       "      <td>0.648876</td>\n",
       "      <td>50.428711</td>\n",
       "      <td>False</td>\n",
       "      <td>False</td>\n",
       "      <td>False</td>\n",
       "      <td>False</td>\n",
       "      <td>False</td>\n",
       "    </tr>\n",
       "    <tr>\n",
       "      <th>1</th>\n",
       "      <td>AgatielloRoberto_001</td>\n",
       "      <td>0.759503</td>\n",
       "      <td>61.300294</td>\n",
       "      <td>False</td>\n",
       "      <td>False</td>\n",
       "      <td>False</td>\n",
       "      <td>False</td>\n",
       "      <td>False</td>\n",
       "    </tr>\n",
       "    <tr>\n",
       "      <th>2</th>\n",
       "      <td>AgatielloRoberto_002</td>\n",
       "      <td>0.747500</td>\n",
       "      <td>60.120716</td>\n",
       "      <td>False</td>\n",
       "      <td>False</td>\n",
       "      <td>False</td>\n",
       "      <td>False</td>\n",
       "      <td>False</td>\n",
       "    </tr>\n",
       "    <tr>\n",
       "      <th>3</th>\n",
       "      <td>AgatielloRoberto_003</td>\n",
       "      <td>0.818899</td>\n",
       "      <td>67.137182</td>\n",
       "      <td>False</td>\n",
       "      <td>False</td>\n",
       "      <td>False</td>\n",
       "      <td>False</td>\n",
       "      <td>False</td>\n",
       "    </tr>\n",
       "    <tr>\n",
       "      <th>4</th>\n",
       "      <td>AgatielloRoberto_004</td>\n",
       "      <td>0.825895</td>\n",
       "      <td>67.824714</td>\n",
       "      <td>False</td>\n",
       "      <td>False</td>\n",
       "      <td>False</td>\n",
       "      <td>False</td>\n",
       "      <td>False</td>\n",
       "    </tr>\n",
       "    <tr>\n",
       "      <th>...</th>\n",
       "      <td>...</td>\n",
       "      <td>...</td>\n",
       "      <td>...</td>\n",
       "      <td>...</td>\n",
       "      <td>...</td>\n",
       "      <td>...</td>\n",
       "      <td>...</td>\n",
       "      <td>...</td>\n",
       "    </tr>\n",
       "    <tr>\n",
       "      <th>713</th>\n",
       "      <td>VenafraSara_010</td>\n",
       "      <td>0.638803</td>\n",
       "      <td>49.438784</td>\n",
       "      <td>False</td>\n",
       "      <td>False</td>\n",
       "      <td>False</td>\n",
       "      <td>False</td>\n",
       "      <td>False</td>\n",
       "    </tr>\n",
       "    <tr>\n",
       "      <th>714</th>\n",
       "      <td>VenafraSara_011</td>\n",
       "      <td>0.789886</td>\n",
       "      <td>64.286081</td>\n",
       "      <td>False</td>\n",
       "      <td>False</td>\n",
       "      <td>False</td>\n",
       "      <td>False</td>\n",
       "      <td>False</td>\n",
       "    </tr>\n",
       "    <tr>\n",
       "      <th>715</th>\n",
       "      <td>VenafraSara_012</td>\n",
       "      <td>0.789531</td>\n",
       "      <td>64.251135</td>\n",
       "      <td>False</td>\n",
       "      <td>False</td>\n",
       "      <td>False</td>\n",
       "      <td>False</td>\n",
       "      <td>False</td>\n",
       "    </tr>\n",
       "    <tr>\n",
       "      <th>716</th>\n",
       "      <td>VenafraSara_013</td>\n",
       "      <td>0.766965</td>\n",
       "      <td>62.033559</td>\n",
       "      <td>False</td>\n",
       "      <td>False</td>\n",
       "      <td>False</td>\n",
       "      <td>False</td>\n",
       "      <td>False</td>\n",
       "    </tr>\n",
       "    <tr>\n",
       "      <th>717</th>\n",
       "      <td>VenafraSara_014</td>\n",
       "      <td>0.815002</td>\n",
       "      <td>66.754219</td>\n",
       "      <td>False</td>\n",
       "      <td>False</td>\n",
       "      <td>False</td>\n",
       "      <td>False</td>\n",
       "      <td>False</td>\n",
       "    </tr>\n",
       "  </tbody>\n",
       "</table>\n",
       "<p>718 rows × 8 columns</p>\n",
       "</div>"
      ],
      "text/plain": [
       "             Acquisizione     Label  Label_norm  class_back_stains  \\\n",
       "0    AgatielloRoberto_000  0.648876   50.428711              False   \n",
       "1    AgatielloRoberto_001  0.759503   61.300294              False   \n",
       "2    AgatielloRoberto_002  0.747500   60.120716              False   \n",
       "3    AgatielloRoberto_003  0.818899   67.137182              False   \n",
       "4    AgatielloRoberto_004  0.825895   67.824714              False   \n",
       "..                    ...       ...         ...                ...   \n",
       "713       VenafraSara_010  0.638803   49.438784              False   \n",
       "714       VenafraSara_011  0.789886   64.286081              False   \n",
       "715       VenafraSara_012  0.789531   64.251135              False   \n",
       "716       VenafraSara_013  0.766965   62.033559              False   \n",
       "717       VenafraSara_014  0.815002   66.754219              False   \n",
       "\n",
       "     class_blur  bool_nn_black_speckle  bool_nn_black_blur  \\\n",
       "0         False                  False               False   \n",
       "1         False                  False               False   \n",
       "2         False                  False               False   \n",
       "3         False                  False               False   \n",
       "4         False                  False               False   \n",
       "..          ...                    ...                 ...   \n",
       "713       False                  False               False   \n",
       "714       False                  False               False   \n",
       "715       False                  False               False   \n",
       "716       False                  False               False   \n",
       "717       False                  False               False   \n",
       "\n",
       "     bool_nn_black_stains  \n",
       "0                   False  \n",
       "1                   False  \n",
       "2                   False  \n",
       "3                   False  \n",
       "4                   False  \n",
       "..                    ...  \n",
       "713                 False  \n",
       "714                 False  \n",
       "715                 False  \n",
       "716                 False  \n",
       "717                 False  \n",
       "\n",
       "[718 rows x 8 columns]"
      ]
     },
     "execution_count": 58,
     "metadata": {},
     "output_type": "execute_result"
    }
   ],
   "source": [
    "a = df_labels.copy()\n",
    "a['class_back_stains'] = bool_val_black_stains\n",
    "a['class_blur'] = bool_val_blur\n",
    "a['bool_nn_black_speckle'] = bool_nn_black_speckle\n",
    "a['bool_nn_black_blur'] = bool_nn_black_blur\n",
    "a['bool_nn_black_stains'] = bool_nn_black_stains\n",
    "a"
   ]
  },
  {
   "cell_type": "code",
   "execution_count": 63,
   "id": "13b163f5-8f84-45a0-9b8c-87a292fdea75",
   "metadata": {},
   "outputs": [],
   "source": [
    "acquisizioni_filtrate = a[(~a['class_back_stains']) & (~a['class_blur']) & (~a['bool_nn_black_speckle']) & (~a['bool_nn_black_blur']) & (~a['bool_nn_black_stains']) ]\n",
    "    "
   ]
  },
  {
   "cell_type": "code",
   "execution_count": 65,
   "id": "5f5472a5-eb87-4ee6-98cb-ebdf946709fa",
   "metadata": {},
   "outputs": [],
   "source": [
    "lista_acquisizioni_filtrate = acquisizioni_filtrate.Acquisizione.unique()"
   ]
  },
  {
   "cell_type": "code",
   "execution_count": 67,
   "id": "2c5cbedc-bc84-468c-bf5f-31b9ad60b014",
   "metadata": {},
   "outputs": [
    {
     "data": {
      "text/plain": [
       "418"
      ]
     },
     "execution_count": 68,
     "metadata": {},
     "output_type": "execute_result"
    }
   ],
   "source": [
    "len(lista_acquisizioni_filtrate"
   ]
  },
  {
   "cell_type": "code",
   "execution_count": 75,
   "id": "d0eaabea-d217-42cc-9f72-effc959fd1b6",
   "metadata": {},
   "outputs": [],
   "source": [
    "# lista_acquisizioni = list(df_labels[previsioni_nuovo_modello < 35].Acquisizione.unique())\n",
    "# PATH_FILE_SCORE = '../scoreCsvDatasetFinale.csv'\n",
    "# scores = pd.read_csv(PATH_FILE_SCORE)\n",
    "# scores = scores[~scores.Utente1.isin(lista_acquisizioni)]\n",
    "# scores = scores[~scores.Utente2.isin(lista_acquisizioni)]\n",
    "# scores"
   ]
  },
  {
   "cell_type": "code",
   "execution_count": 69,
   "id": "80818593-5a34-464a-9fad-3254148b7e84",
   "metadata": {},
   "outputs": [
    {
     "data": {
      "text/html": [
       "<div>\n",
       "<style scoped>\n",
       "    .dataframe tbody tr th:only-of-type {\n",
       "        vertical-align: middle;\n",
       "    }\n",
       "\n",
       "    .dataframe tbody tr th {\n",
       "        vertical-align: top;\n",
       "    }\n",
       "\n",
       "    .dataframe thead th {\n",
       "        text-align: right;\n",
       "    }\n",
       "</style>\n",
       "<table border=\"1\" class=\"dataframe\">\n",
       "  <thead>\n",
       "    <tr style=\"text-align: right;\">\n",
       "      <th></th>\n",
       "      <th>Utente1</th>\n",
       "      <th>Utente2</th>\n",
       "      <th>ScoreML</th>\n",
       "    </tr>\n",
       "  </thead>\n",
       "  <tbody>\n",
       "    <tr>\n",
       "      <th>0</th>\n",
       "      <td>AgatielloRoberto_000</td>\n",
       "      <td>AgatielloRoberto_001</td>\n",
       "      <td>0.526569</td>\n",
       "    </tr>\n",
       "    <tr>\n",
       "      <th>1</th>\n",
       "      <td>AgatielloRoberto_000</td>\n",
       "      <td>AgatielloRoberto_002</td>\n",
       "      <td>0.491637</td>\n",
       "    </tr>\n",
       "    <tr>\n",
       "      <th>2</th>\n",
       "      <td>AgatielloRoberto_000</td>\n",
       "      <td>AgatielloRoberto_003</td>\n",
       "      <td>0.525314</td>\n",
       "    </tr>\n",
       "    <tr>\n",
       "      <th>3</th>\n",
       "      <td>AgatielloRoberto_000</td>\n",
       "      <td>AgatielloRoberto_004</td>\n",
       "      <td>0.516008</td>\n",
       "    </tr>\n",
       "    <tr>\n",
       "      <th>4</th>\n",
       "      <td>AgatielloRoberto_000</td>\n",
       "      <td>AgatielloRoberto_005</td>\n",
       "      <td>0.567200</td>\n",
       "    </tr>\n",
       "    <tr>\n",
       "      <th>...</th>\n",
       "      <td>...</td>\n",
       "      <td>...</td>\n",
       "      <td>...</td>\n",
       "    </tr>\n",
       "    <tr>\n",
       "      <th>258116</th>\n",
       "      <td>VenafraSara_012</td>\n",
       "      <td>VenafraSara_014</td>\n",
       "      <td>0.593949</td>\n",
       "    </tr>\n",
       "    <tr>\n",
       "      <th>258117</th>\n",
       "      <td>VenafraSara_012</td>\n",
       "      <td>VenturaAlessio_000</td>\n",
       "      <td>0.121388</td>\n",
       "    </tr>\n",
       "    <tr>\n",
       "      <th>258118</th>\n",
       "      <td>VenafraSara_013</td>\n",
       "      <td>VenafraSara_014</td>\n",
       "      <td>0.599829</td>\n",
       "    </tr>\n",
       "    <tr>\n",
       "      <th>258119</th>\n",
       "      <td>VenafraSara_013</td>\n",
       "      <td>VenturaAlessio_000</td>\n",
       "      <td>0.121099</td>\n",
       "    </tr>\n",
       "    <tr>\n",
       "      <th>258120</th>\n",
       "      <td>VenafraSara_014</td>\n",
       "      <td>VenturaAlessio_000</td>\n",
       "      <td>0.113802</td>\n",
       "    </tr>\n",
       "  </tbody>\n",
       "</table>\n",
       "<p>87571 rows × 3 columns</p>\n",
       "</div>"
      ],
      "text/plain": [
       "                     Utente1               Utente2   ScoreML\n",
       "0       AgatielloRoberto_000  AgatielloRoberto_001  0.526569\n",
       "1       AgatielloRoberto_000  AgatielloRoberto_002  0.491637\n",
       "2       AgatielloRoberto_000  AgatielloRoberto_003  0.525314\n",
       "3       AgatielloRoberto_000  AgatielloRoberto_004  0.516008\n",
       "4       AgatielloRoberto_000  AgatielloRoberto_005  0.567200\n",
       "...                      ...                   ...       ...\n",
       "258116       VenafraSara_012       VenafraSara_014  0.593949\n",
       "258117       VenafraSara_012    VenturaAlessio_000  0.121388\n",
       "258118       VenafraSara_013       VenafraSara_014  0.599829\n",
       "258119       VenafraSara_013    VenturaAlessio_000  0.121099\n",
       "258120       VenafraSara_014    VenturaAlessio_000  0.113802\n",
       "\n",
       "[87571 rows x 3 columns]"
      ]
     },
     "execution_count": 69,
     "metadata": {},
     "output_type": "execute_result"
    }
   ],
   "source": [
    "lista_acquisizioni = list(set(df_labels.Acquisizione.unique()) - set(lista_acquisizioni_filtrate))\n",
    "\n",
    "PATH_FILE_SCORE = '../scoreCsvDatasetFinale.csv'\n",
    "scores = pd.read_csv(PATH_FILE_SCORE)\n",
    "scores = scores[~scores.Utente1.isin(lista_acquisizioni)]\n",
    "scores = scores[~scores.Utente2.isin(lista_acquisizioni)]\n",
    "scores"
   ]
  },
  {
   "cell_type": "code",
   "execution_count": 70,
   "id": "252dd1dc-7f0d-47bf-9c36-6ae47f3b1a7d",
   "metadata": {},
   "outputs": [],
   "source": [
    "# scores.to_csv('../scoreFiltratiFinaliCsv.csv' ,index=False)\n",
    "scores.to_csv('../scoreFiltratiFinaliCsvSuperFiltraggio.csv' ,index=False)"
   ]
  },
  {
   "cell_type": "code",
   "execution_count": null,
   "id": "182f84a4-6caa-4bbb-b927-509252c7c931",
   "metadata": {},
   "outputs": [],
   "source": []
  }
 ],
 "metadata": {
  "kernelspec": {
   "display_name": "Python 3 (ipykernel)",
   "language": "python",
   "name": "python3"
  },
  "language_info": {
   "codemirror_mode": {
    "name": "ipython",
    "version": 3
   },
   "file_extension": ".py",
   "mimetype": "text/x-python",
   "name": "python",
   "nbconvert_exporter": "python",
   "pygments_lexer": "ipython3",
   "version": "3.9.12"
  }
 },
 "nbformat": 4,
 "nbformat_minor": 5
}
