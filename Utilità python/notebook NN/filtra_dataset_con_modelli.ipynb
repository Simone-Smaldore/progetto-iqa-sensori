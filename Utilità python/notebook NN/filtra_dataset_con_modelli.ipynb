{
 "cells": [
  {
   "cell_type": "code",
   "execution_count": 18,
   "id": "8cc44104-a787-4b96-ab6d-277bbdf49339",
   "metadata": {},
   "outputs": [],
   "source": [
    "import os \n",
    "import pandas as pd\n",
    "from PIL import Image\n",
    "import numpy as np\n",
    "import tensorflow as tf\n",
    "from tensorflow import keras\n",
    "from tensorflow.keras import layers"
   ]
  },
  {
   "cell_type": "code",
   "execution_count": 16,
   "id": "e141ced8-5fa6-40a5-b040-a47378d7cd28",
   "metadata": {},
   "outputs": [],
   "source": [
    "PATH_CSV_LABELS = 'tabellaPseudoLabelsDatasetCompleto.csv'\n",
    "PATH_DATASET_LAVORATO = '../Nuovi Dati/TemplateGeneratiClean'\n",
    "\n",
    "PATH_MODELLO_SPECKLE = '../Modelli-v2/modello_finale_riaddestrato_speckle'\n",
    "\n",
    "N_IMG = 1\n",
    "FORMATO_IMG = 'jpg'\n",
    "CHANNELS = 1\n",
    "HEIGHT = 512\n",
    "WIDTH = 512\n",
    "TARGET_SIZE = (WIDTH, HEIGHT)"
   ]
  },
  {
   "cell_type": "code",
   "execution_count": 14,
   "id": "f7b23520-437c-48cf-afab-9e646c223393",
   "metadata": {},
   "outputs": [
    {
     "data": {
      "text/html": [
       "<div>\n",
       "<style scoped>\n",
       "    .dataframe tbody tr th:only-of-type {\n",
       "        vertical-align: middle;\n",
       "    }\n",
       "\n",
       "    .dataframe tbody tr th {\n",
       "        vertical-align: top;\n",
       "    }\n",
       "\n",
       "    .dataframe thead th {\n",
       "        text-align: right;\n",
       "    }\n",
       "</style>\n",
       "<table border=\"1\" class=\"dataframe\">\n",
       "  <thead>\n",
       "    <tr style=\"text-align: right;\">\n",
       "      <th></th>\n",
       "      <th>Acquisizione</th>\n",
       "      <th>Label</th>\n",
       "      <th>Label_norm</th>\n",
       "    </tr>\n",
       "  </thead>\n",
       "  <tbody>\n",
       "    <tr>\n",
       "      <th>0</th>\n",
       "      <td>AgatielloRoberto_000</td>\n",
       "      <td>0.648876</td>\n",
       "      <td>50.428711</td>\n",
       "    </tr>\n",
       "    <tr>\n",
       "      <th>1</th>\n",
       "      <td>AgatielloRoberto_001</td>\n",
       "      <td>0.759503</td>\n",
       "      <td>61.300294</td>\n",
       "    </tr>\n",
       "    <tr>\n",
       "      <th>2</th>\n",
       "      <td>AgatielloRoberto_002</td>\n",
       "      <td>0.747500</td>\n",
       "      <td>60.120716</td>\n",
       "    </tr>\n",
       "    <tr>\n",
       "      <th>3</th>\n",
       "      <td>AgatielloRoberto_003</td>\n",
       "      <td>0.818899</td>\n",
       "      <td>67.137182</td>\n",
       "    </tr>\n",
       "    <tr>\n",
       "      <th>4</th>\n",
       "      <td>AgatielloRoberto_004</td>\n",
       "      <td>0.825895</td>\n",
       "      <td>67.824714</td>\n",
       "    </tr>\n",
       "  </tbody>\n",
       "</table>\n",
       "</div>"
      ],
      "text/plain": [
       "           Acquisizione     Label  Label_norm\n",
       "0  AgatielloRoberto_000  0.648876   50.428711\n",
       "1  AgatielloRoberto_001  0.759503   61.300294\n",
       "2  AgatielloRoberto_002  0.747500   60.120716\n",
       "3  AgatielloRoberto_003  0.818899   67.137182\n",
       "4  AgatielloRoberto_004  0.825895   67.824714"
      ]
     },
     "execution_count": 14,
     "metadata": {},
     "output_type": "execute_result"
    }
   ],
   "source": [
    "df_labels = pd.read_csv(PATH_CSV_LABELS)\n",
    "df_labels.head(5)"
   ]
  },
  {
   "cell_type": "code",
   "execution_count": 15,
   "id": "85b4ee0d-566c-4a7d-bfbf-8960f844d28c",
   "metadata": {},
   "outputs": [],
   "source": [
    "X = []\n",
    "y = []\n",
    "\n",
    "for id_acquisizione in df_labels.Acquisizione:\n",
    "    path_img = os.path.join(PATH_DATASET_LAVORATO, id_acquisizione, 'Immagini', 'immagine1.jpg')\n",
    "    image = Image.open(path_img)\n",
    "    resized_image = image.resize(TARGET_SIZE)\n",
    "    image_array = np.array(resized_image)\n",
    "    normalized_image_array = image_array / 255.0\n",
    "    \n",
    "    pseudo_label = df_labels[df_labels.Acquisizione == id_acquisizione].Label_norm\n",
    "    \n",
    "    X.append(normalized_image_array)\n",
    "    y.append(pseudo_label)\n",
    "    \n",
    "X = np.array(X)\n",
    "y = np.array(y)"
   ]
  },
  {
   "cell_type": "code",
   "execution_count": 21,
   "id": "31d8afe8-b27d-4c7a-b774-7ef351526eb6",
   "metadata": {},
   "outputs": [],
   "source": [
    "model_speckle = tf.keras.models.load_model(PATH_MODELLO_SPECKLE)"
   ]
  },
  {
   "cell_type": "code",
   "execution_count": null,
   "id": "fac545b6-7037-41bf-9440-dd13aade39c4",
   "metadata": {},
   "outputs": [],
   "source": [
    "previsioni_nuovo_modello = model_speckle.predict(X)"
   ]
  },
  {
   "cell_type": "code",
   "execution_count": null,
   "id": "d0eaabea-d217-42cc-9f72-effc959fd1b6",
   "metadata": {},
   "outputs": [],
   "source": [
    "lista_acquisizioni = list(df_labels[previsioni_nuovo_modello < 31].Acquisizione.unique())"
   ]
  },
  {
   "cell_type": "code",
   "execution_count": null,
   "id": "80818593-5a34-464a-9fad-3254148b7e84",
   "metadata": {},
   "outputs": [],
   "source": [
    "PATH_FILE_SCORE = '../scoreCsvDatasetFinale.csv'\n",
    "scores = pd.read_csv(PATH_FILE_SCORE)\n",
    "scores = scores[~scores.Utente1.isin(lista_acquisizioni)]\n",
    "scores = scores[~scores.Utente2.isin(lista_acquisizioni)]\n",
    "scores"
   ]
  },
  {
   "cell_type": "code",
   "execution_count": null,
   "id": "252dd1dc-7f0d-47bf-9c36-6ae47f3b1a7d",
   "metadata": {},
   "outputs": [],
   "source": [
    "scores.to_csv('../scoreFiltratiFinaliCsv.csv' ,index=False)"
   ]
  }
 ],
 "metadata": {
  "kernelspec": {
   "display_name": "Python 3 (ipykernel)",
   "language": "python",
   "name": "python3"
  },
  "language_info": {
   "codemirror_mode": {
    "name": "ipython",
    "version": 3
   },
   "file_extension": ".py",
   "mimetype": "text/x-python",
   "name": "python",
   "nbconvert_exporter": "python",
   "pygments_lexer": "ipython3",
   "version": "3.9.12"
  }
 },
 "nbformat": 4,
 "nbformat_minor": 5
}
