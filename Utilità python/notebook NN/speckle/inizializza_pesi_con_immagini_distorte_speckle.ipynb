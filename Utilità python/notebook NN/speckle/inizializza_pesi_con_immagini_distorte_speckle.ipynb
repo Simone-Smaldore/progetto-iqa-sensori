{
 "cells": [
  {
   "cell_type": "code",
   "execution_count": 1,
   "id": "94a7e2c6-c6e3-4d46-840b-dd7b87df1b6d",
   "metadata": {},
   "outputs": [],
   "source": [
    "import pandas as pd\n",
    "from PIL import Image\n",
    "import os\n",
    "import numpy as np\n",
    "import tensorflow as tf\n",
    "from tensorflow.keras import layers\n",
    "from tqdm import tqdm\n",
    "from sklearn.model_selection import train_test_split"
   ]
  },
  {
   "cell_type": "markdown",
   "id": "c6fa54c0-4c53-4458-ac8c-dd63b6b8317d",
   "metadata": {},
   "source": [
    "### Caricamento delle immagini in input in formato array numpy"
   ]
  },
  {
   "cell_type": "code",
   "execution_count": 2,
   "id": "f9d02f45-0edd-4297-a262-8994a930fa1e",
   "metadata": {},
   "outputs": [],
   "source": [
    "# IMAGE_PATH_FOLDER = './Dati Sensori/Dataset Sensori Lavorato/1_M/1_M_1'\n",
    "IMAGE_PATH_FOLDER = '../../Nuovi Dati/DatasetDistorti'\n",
    "\n",
    "# Specificare solamente una tipologia di speckle\n",
    "DISTORSIONI = ['DatasetSpeckle-m2-s']\n",
    "GRADI_DISTORSIONE = 5\n",
    "\n",
    "HEIGHT = 512\n",
    "WIDTH = 512\n",
    "\n",
    "TARGET_SIZE = (WIDTH, HEIGHT)\n",
    "CHANNELS = 1 # Scala di grigi"
   ]
  },
  {
   "cell_type": "code",
   "execution_count": 3,
   "id": "5a8ea90d-12d4-44f8-81cf-509c8c8997ec",
   "metadata": {},
   "outputs": [],
   "source": [
    "def get_sotto_cartelle(path):\n",
    "    return [x[1] for x in os.walk(path)][0]\n",
    "\n",
    "def get_immagini_cartella(path_cartella):\n",
    "    immagini_cartella = []\n",
    "    cartelle_soggetti = get_sotto_cartelle(path_cartella)\n",
    "    for soggetto in tqdm(cartelle_soggetti):\n",
    "        path_soggetto = f'{path_cartella}/{soggetto}'\n",
    "        cartelle_acquisizioni = get_sotto_cartelle(path_soggetto)\n",
    "        for acquisizione in cartelle_acquisizioni:\n",
    "            path_acquisizione = f'{path_soggetto}/{acquisizione}'\n",
    "            for filename in os.listdir(path_acquisizione):\n",
    "                if (filename.endswith(\".jpg\")):    \n",
    "                    path_file = f'{path_acquisizione}/{filename}'\n",
    "                    immagine = get_immagine_da_path(path_file)\n",
    "                    immagini_cartella.append(immagine)\n",
    "    return immagini_cartella\n",
    "                    \n",
    "def get_immagine_da_path(path_file):\n",
    "    image = Image.open(path_file).convert('L')\n",
    "    resized_image = image.resize(TARGET_SIZE)\n",
    "    image_array = np.array(resized_image)\n",
    "    normalized_image_array = image_array / 255.0\n",
    "    return normalized_image_array\n"
   ]
  },
  {
   "cell_type": "code",
   "execution_count": 4,
   "id": "051017d7-98e9-4513-a85e-e03d8b78a736",
   "metadata": {},
   "outputs": [
    {
     "name": "stderr",
     "output_type": "stream",
     "text": [
      "100%|██████████| 719/719 [00:03<00:00, 197.95it/s]\n",
      "100%|██████████| 719/719 [00:04<00:00, 169.24it/s]\n",
      "100%|██████████| 719/719 [00:04<00:00, 168.97it/s]\n",
      "100%|██████████| 719/719 [00:04<00:00, 166.87it/s]\n",
      "100%|██████████| 719/719 [00:04<00:00, 162.56it/s]\n"
     ]
    }
   ],
   "source": [
    "image_list = []\n",
    "label_list = []\n",
    "\n",
    "for distorsione in DISTORSIONI:\n",
    "    path_distorsione = f'{IMAGE_PATH_FOLDER}/{distorsione}'\n",
    "    for grado_distorsione in range(GRADI_DISTORSIONE):\n",
    "        label = 100 - float(25 * (grado_distorsione))\n",
    "        path_cartella_grado = f'{path_distorsione}{grado_distorsione}'\n",
    "        immagini_grado = get_immagini_cartella(path_cartella_grado)\n",
    "        image_list.extend(immagini_grado)\n",
    "        label_to_append = [label for x in range(len(immagini_grado))] \n",
    "        label_list.extend(label_to_append)\n",
    "        "
   ]
  },
  {
   "cell_type": "code",
   "execution_count": 5,
   "id": "da019711-7c98-4447-8ffe-fee4224941d6",
   "metadata": {},
   "outputs": [],
   "source": [
    "train_images = np.array(image_list)\n",
    "train_weights = np.array(label_list)"
   ]
  },
  {
   "cell_type": "code",
   "execution_count": 6,
   "id": "397624e4-a422-4267-a1e2-464e3ac96447",
   "metadata": {},
   "outputs": [],
   "source": [
    "X = train_images\n",
    "y = train_weights"
   ]
  },
  {
   "cell_type": "code",
   "execution_count": 7,
   "id": "242a1cd5-0b87-4492-9787-5046bcafc62e",
   "metadata": {},
   "outputs": [],
   "source": [
    "X_train, X_test, y_train, y_test = train_test_split(X, y, test_size=0.2, random_state=42)"
   ]
  },
  {
   "cell_type": "code",
   "execution_count": 8,
   "id": "5ccfb58e-1668-443b-b646-756ab35ceaab",
   "metadata": {},
   "outputs": [
    {
     "name": "stdout",
     "output_type": "stream",
     "text": [
      "Metal device set to: Apple M1 Pro\n"
     ]
    },
    {
     "name": "stderr",
     "output_type": "stream",
     "text": [
      "2023-07-24 15:39:54.305431: I tensorflow/core/common_runtime/pluggable_device/pluggable_device_factory.cc:305] Could not identify NUMA node of platform GPU ID 0, defaulting to 0. Your kernel may not have been built with NUMA support.\n",
      "2023-07-24 15:39:54.307823: I tensorflow/core/common_runtime/pluggable_device/pluggable_device_factory.cc:271] Created TensorFlow device (/job:localhost/replica:0/task:0/device:GPU:0 with 0 MB memory) -> physical PluggableDevice (device: 0, name: METAL, pci bus id: <undefined>)\n"
     ]
    }
   ],
   "source": [
    "model = tf.keras.Sequential([\n",
    "    layers.Conv2D(32, (3, 3), activation='relu', input_shape=(HEIGHT, WIDTH, CHANNELS)),\n",
    "    layers.MaxPooling2D((2, 2)),\n",
    "    layers.Flatten(),\n",
    "    layers.Dense(64, activation='relu'),\n",
    "    layers.Dense(1)  \n",
    "])"
   ]
  },
  {
   "cell_type": "code",
   "execution_count": 9,
   "id": "923e71a8-396a-4892-b0f4-c3d46106f99b",
   "metadata": {},
   "outputs": [],
   "source": [
    "model.compile(optimizer='adam', loss='mae', metrics = ['mae'])"
   ]
  },
  {
   "cell_type": "code",
   "execution_count": 10,
   "id": "1551ac73-dc4d-4f1f-98ef-849be8b51acc",
   "metadata": {},
   "outputs": [
    {
     "name": "stdout",
     "output_type": "stream",
     "text": [
      "Epoch 1/20\n"
     ]
    },
    {
     "name": "stderr",
     "output_type": "stream",
     "text": [
      "2023-07-24 15:40:22.472028: W tensorflow/core/platform/profile_utils/cpu_utils.cc:128] Failed to get CPU frequency: 0 Hz\n",
      "2023-07-24 15:40:23.065824: I tensorflow/core/grappler/optimizers/custom_graph_optimizer_registry.cc:113] Plugin optimizer for device_type GPU is enabled.\n"
     ]
    },
    {
     "name": "stdout",
     "output_type": "stream",
     "text": [
      "2876/2876 [==============================] - 313s 107ms/step - loss: 15.8752 - mae: 15.8752\n",
      "Epoch 2/20\n",
      "2876/2876 [==============================] - 303s 105ms/step - loss: 9.8497 - mae: 9.8497\n",
      "Epoch 3/20\n",
      "2876/2876 [==============================] - 303s 105ms/step - loss: 8.2946 - mae: 8.2946\n",
      "Epoch 4/20\n",
      "2876/2876 [==============================] - 305s 106ms/step - loss: 7.4579 - mae: 7.4579\n",
      "Epoch 5/20\n",
      "2876/2876 [==============================] - 304s 106ms/step - loss: 6.6630 - mae: 6.6630\n",
      "Epoch 6/20\n",
      "2876/2876 [==============================] - 303s 105ms/step - loss: 6.4796 - mae: 6.4796\n",
      "Epoch 7/20\n",
      "2876/2876 [==============================] - 303s 105ms/step - loss: 6.2509 - mae: 6.2509\n",
      "Epoch 8/20\n",
      "2876/2876 [==============================] - 302s 105ms/step - loss: 5.7689 - mae: 5.7689\n",
      "Epoch 9/20\n",
      "2876/2876 [==============================] - 304s 106ms/step - loss: 5.7784 - mae: 5.7784\n",
      "Epoch 10/20\n",
      "2876/2876 [==============================] - 305s 106ms/step - loss: 5.6312 - mae: 5.6312\n",
      "Epoch 11/20\n",
      "2876/2876 [==============================] - 308s 107ms/step - loss: 5.4434 - mae: 5.4434\n",
      "Epoch 12/20\n",
      "2876/2876 [==============================] - 303s 105ms/step - loss: 5.1976 - mae: 5.1976\n",
      "Epoch 13/20\n",
      "2876/2876 [==============================] - 304s 106ms/step - loss: 4.9675 - mae: 4.9675\n",
      "Epoch 14/20\n",
      "2876/2876 [==============================] - 302s 105ms/step - loss: 4.8237 - mae: 4.8237\n",
      "Epoch 15/20\n",
      "2876/2876 [==============================] - 304s 106ms/step - loss: 4.7408 - mae: 4.7408\n",
      "Epoch 16/20\n",
      "2876/2876 [==============================] - 303s 105ms/step - loss: 4.6303 - mae: 4.6303\n",
      "Epoch 17/20\n",
      "2876/2876 [==============================] - 304s 106ms/step - loss: 4.5153 - mae: 4.5153\n",
      "Epoch 18/20\n",
      "2876/2876 [==============================] - 304s 106ms/step - loss: 4.2895 - mae: 4.2895\n",
      "Epoch 19/20\n",
      "2876/2876 [==============================] - 303s 105ms/step - loss: 4.3921 - mae: 4.3921\n",
      "Epoch 20/20\n",
      "2876/2876 [==============================] - 304s 106ms/step - loss: 4.2184 - mae: 4.2184\n"
     ]
    },
    {
     "data": {
      "text/plain": [
       "<keras.callbacks.History at 0x2bf20ebb0>"
      ]
     },
     "execution_count": 10,
     "metadata": {},
     "output_type": "execute_result"
    }
   ],
   "source": [
    "model.fit(x=X_train, y=y_train, batch_size=1, epochs=20)"
   ]
  },
  {
   "cell_type": "code",
   "execution_count": 11,
   "id": "3e9071f6-20f3-4c14-820e-779c0e2c0e15",
   "metadata": {},
   "outputs": [
    {
     "name": "stderr",
     "output_type": "stream",
     "text": [
      "2023-07-24 17:21:52.628600: I tensorflow/core/grappler/optimizers/custom_graph_optimizer_registry.cc:113] Plugin optimizer for device_type GPU is enabled.\n"
     ]
    },
    {
     "name": "stdout",
     "output_type": "stream",
     "text": [
      "23/23 [==============================] - 6s 249ms/step\n"
     ]
    }
   ],
   "source": [
    "predictions = model.predict(X_test)"
   ]
  },
  {
   "cell_type": "code",
   "execution_count": 12,
   "id": "fa461278-e8fa-43cb-85ef-b452d3d14e8d",
   "metadata": {},
   "outputs": [],
   "source": [
    "predictions_list = [i[0] for i in predictions] "
   ]
  },
  {
   "cell_type": "code",
   "execution_count": null,
   "id": "561b33c9-8488-42eb-a0aa-9d2ddfa88d14",
   "metadata": {},
   "outputs": [],
   "source": [
    "clamp_pred = [min(100,i) for i in predictions_list]\n",
    "clamp_pred = [max(0,i) for i in clamp_pred]"
   ]
  },
  {
   "cell_type": "code",
   "execution_count": 31,
   "id": "487290e7-05d3-4148-b8a2-5460e599c6bb",
   "metadata": {},
   "outputs": [
    {
     "data": {
      "text/plain": [
       "25.40894317626953"
      ]
     },
     "execution_count": 31,
     "metadata": {},
     "output_type": "execute_result"
    }
   ],
   "source": [
    "max(abs(clamp_pred  - y_test))"
   ]
  },
  {
   "cell_type": "code",
   "execution_count": 32,
   "id": "8047264e-1db6-49f4-b684-6d7711f8789b",
   "metadata": {},
   "outputs": [
    {
     "data": {
      "text/plain": [
       "4.947775322969832"
      ]
     },
     "execution_count": 32,
     "metadata": {},
     "output_type": "execute_result"
    }
   ],
   "source": [
    "def avg(lst):\n",
    "    return sum(lst) / len(lst)\n",
    "\n",
    "avg(abs(clamp_pred - y_test))"
   ]
  },
  {
   "cell_type": "code",
   "execution_count": 26,
   "id": "5fa63add-89b0-498a-a4f5-d0fc71966edd",
   "metadata": {},
   "outputs": [],
   "source": [
    "a = (clamp_pred - y_test)"
   ]
  },
  {
   "cell_type": "code",
   "execution_count": 43,
   "id": "056a6f12-4514-4466-a802-d4a6bcbaf4ce",
   "metadata": {},
   "outputs": [
    {
     "data": {
      "text/plain": [
       "[75.10758,\n",
       " 69.49355,\n",
       " 100,\n",
       " 19.621279,\n",
       " 26.603579,\n",
       " 84.98515,\n",
       " 78.70568,\n",
       " 44.255188,\n",
       " 88.8831,\n",
       " 1.7798048]"
      ]
     },
     "execution_count": 43,
     "metadata": {},
     "output_type": "execute_result"
    }
   ],
   "source": [
    "clamp_pred[310:320]"
   ]
  },
  {
   "cell_type": "code",
   "execution_count": 42,
   "id": "3e9f0f1c-6ae4-412f-831f-be4140ed552d",
   "metadata": {},
   "outputs": [
    {
     "data": {
      "text/plain": [
       "array([ 75.,  50., 100.,  25.,  25.,  75.,  75.,  50., 100.,   0.])"
      ]
     },
     "execution_count": 42,
     "metadata": {},
     "output_type": "execute_result"
    }
   ],
   "source": [
    "y_test[310:320]"
   ]
  },
  {
   "cell_type": "code",
   "execution_count": 44,
   "id": "b9bdb402-9f3c-43a4-89b0-ab2e6be50808",
   "metadata": {},
   "outputs": [],
   "source": [
    "# for i, el in enumerate(list(a)):\n",
    "#     print(f'{i}: {el}')"
   ]
  },
  {
   "cell_type": "code",
   "execution_count": 15,
   "id": "4bf774b8-6919-4531-acd3-1a9e92e15cf8",
   "metadata": {},
   "outputs": [
    {
     "name": "stderr",
     "output_type": "stream",
     "text": [
      "WARNING:absl:Found untraced functions such as _jit_compiled_convolution_op while saving (showing 1 of 1). These functions will not be directly callable after loading.\n"
     ]
    },
    {
     "name": "stdout",
     "output_type": "stream",
     "text": [
      "INFO:tensorflow:Assets written to: ../../Modelli-v2/modello_pesi_inizializzati_speckle/assets\n"
     ]
    },
    {
     "name": "stderr",
     "output_type": "stream",
     "text": [
      "INFO:tensorflow:Assets written to: ../../Modelli-v2/modello_pesi_inizializzati_speckle/assets\n"
     ]
    }
   ],
   "source": [
    "model.save('../../Modelli-v2/modello_pesi_inizializzati_speckle')"
   ]
  }
 ],
 "metadata": {
  "kernelspec": {
   "display_name": "Python 3 (ipykernel)",
   "language": "python",
   "name": "python3"
  },
  "language_info": {
   "codemirror_mode": {
    "name": "ipython",
    "version": 3
   },
   "file_extension": ".py",
   "mimetype": "text/x-python",
   "name": "python",
   "nbconvert_exporter": "python",
   "pygments_lexer": "ipython3",
   "version": "3.9.12"
  }
 },
 "nbformat": 4,
 "nbformat_minor": 5
}
