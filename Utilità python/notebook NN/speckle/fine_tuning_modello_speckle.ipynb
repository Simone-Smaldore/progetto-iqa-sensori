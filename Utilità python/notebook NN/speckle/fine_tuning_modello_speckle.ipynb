{
 "cells": [
  {
   "cell_type": "code",
   "execution_count": 33,
   "id": "9af4c3cc-95a0-4650-a43e-0823066843c4",
   "metadata": {},
   "outputs": [],
   "source": [
    "import os\n",
    "import pickle\n",
    "import numpy as np\n",
    "import pandas as pd\n",
    "import tensorflow as tf\n",
    "from tensorflow import keras\n",
    "from tensorflow.keras import layers\n",
    "from PIL import Image\n",
    "from sklearn.model_selection import train_test_split"
   ]
  },
  {
   "cell_type": "code",
   "execution_count": 28,
   "id": "445c1d7b-0037-4d83-8a93-ee8205f619fb",
   "metadata": {},
   "outputs": [],
   "source": [
    "PATH_CSV_LABELS = 'tabellaPseudoLabelsCompleta.csv'\n",
    "PATH_DATASET_LAVORATO = './Dati Sensori/Dataset Sensori Lavorato'\n",
    "PATH_MODELLO = '../../Modelli/modello_pesi_inizializzati_speckle'\n",
    "PATH_MODELLO_FINALE = '../../Modelli/modello_finale_speckle'\n",
    "PATH_MODELLO_FINALE_RIADDESTRATO = '../../Modelli/modello_finale_riaddestrato_speckle'\n",
    "\n",
    "N_IMG = 1\n",
    "FORMATO_IMG = 'jpg'\n",
    "CHANNELS = 1\n",
    "HEIGHT = 512\n",
    "WIDTH = 512\n",
    "TARGET_SIZE = (WIDTH, HEIGHT)\n",
    "\n",
    "HUBER_DELTA = 1.0"
   ]
  },
  {
   "cell_type": "code",
   "execution_count": 29,
   "id": "ba7566c8-4967-463c-963b-b240579144dd",
   "metadata": {},
   "outputs": [
    {
     "data": {
      "text/html": [
       "<div>\n",
       "<style scoped>\n",
       "    .dataframe tbody tr th:only-of-type {\n",
       "        vertical-align: middle;\n",
       "    }\n",
       "\n",
       "    .dataframe tbody tr th {\n",
       "        vertical-align: top;\n",
       "    }\n",
       "\n",
       "    .dataframe thead th {\n",
       "        text-align: right;\n",
       "    }\n",
       "</style>\n",
       "<table border=\"1\" class=\"dataframe\">\n",
       "  <thead>\n",
       "    <tr style=\"text-align: right;\">\n",
       "      <th></th>\n",
       "      <th>Acquisizione</th>\n",
       "      <th>Label</th>\n",
       "      <th>Label_norm</th>\n",
       "    </tr>\n",
       "  </thead>\n",
       "  <tbody>\n",
       "    <tr>\n",
       "      <th>0</th>\n",
       "      <td>1_M_1</td>\n",
       "      <td>0.823433</td>\n",
       "      <td>64.257481</td>\n",
       "    </tr>\n",
       "    <tr>\n",
       "      <th>1</th>\n",
       "      <td>1_M_10</td>\n",
       "      <td>0.901885</td>\n",
       "      <td>73.084762</td>\n",
       "    </tr>\n",
       "    <tr>\n",
       "      <th>2</th>\n",
       "      <td>1_M_11</td>\n",
       "      <td>0.893868</td>\n",
       "      <td>72.182680</td>\n",
       "    </tr>\n",
       "    <tr>\n",
       "      <th>3</th>\n",
       "      <td>1_M_12</td>\n",
       "      <td>0.909014</td>\n",
       "      <td>73.886902</td>\n",
       "    </tr>\n",
       "    <tr>\n",
       "      <th>4</th>\n",
       "      <td>1_M_13</td>\n",
       "      <td>0.861603</td>\n",
       "      <td>68.552254</td>\n",
       "    </tr>\n",
       "  </tbody>\n",
       "</table>\n",
       "</div>"
      ],
      "text/plain": [
       "  Acquisizione     Label  Label_norm\n",
       "0        1_M_1  0.823433   64.257481\n",
       "1       1_M_10  0.901885   73.084762\n",
       "2       1_M_11  0.893868   72.182680\n",
       "3       1_M_12  0.909014   73.886902\n",
       "4       1_M_13  0.861603   68.552254"
      ]
     },
     "execution_count": 29,
     "metadata": {},
     "output_type": "execute_result"
    }
   ],
   "source": [
    "df_labels = pd.read_csv(PATH_CSV_LABELS)\n",
    "df_labels.head(5)"
   ]
  },
  {
   "cell_type": "code",
   "execution_count": 30,
   "id": "1ed55b97-be10-4e92-97c3-452f5a30e834",
   "metadata": {},
   "outputs": [],
   "source": [
    "def get_id_soggetto(id_acquisizione):\n",
    "    id_acquisizione = id_acquisizione.split('_')\n",
    "    n_soggetto = id_acquisizione[0]\n",
    "    sesso_soggetto = id_acquisizione[1]\n",
    "    return f\"{n_soggetto}_{sesso_soggetto}\""
   ]
  },
  {
   "cell_type": "code",
   "execution_count": 31,
   "id": "e5f632a9-53d2-424b-8d26-5c3518c73c0a",
   "metadata": {},
   "outputs": [],
   "source": [
    "X = []\n",
    "y = []\n",
    "\n",
    "for id_acquisizione in df_labels.Acquisizione:\n",
    "    nome_file = f\"{id_acquisizione}_img_{N_IMG}.{FORMATO_IMG}\"\n",
    "    path_img = os.path.join(PATH_DATASET_LAVORATO, get_id_soggetto(id_acquisizione), id_acquisizione, nome_file)\n",
    "    image = Image.open(path_img)\n",
    "    resized_image = image.resize(TARGET_SIZE)\n",
    "    image_array = np.array(resized_image)\n",
    "    normalized_image_array = image_array / 255.0\n",
    "    \n",
    "    pseudo_label = df_labels[df_labels.Acquisizione == id_acquisizione].Label_norm\n",
    "    \n",
    "    X.append(normalized_image_array)\n",
    "    y.append(pseudo_label)\n",
    "    \n",
    "X = np.array(X)\n",
    "y = np.array(y)"
   ]
  },
  {
   "cell_type": "code",
   "execution_count": 43,
   "id": "c9482741-a2ae-4807-9efa-5c3659d80c04",
   "metadata": {},
   "outputs": [],
   "source": [
    "X_train, X_tcv, y_train, y_tcv = train_test_split(X, y, test_size=0.60, random_state=42)\n",
    "X_test, X_cv, y_test, y_cv = train_test_split(X_tcv, y_tcv, test_size=0.2, random_state=42)"
   ]
  },
  {
   "cell_type": "code",
   "execution_count": 46,
   "id": "1388e1a1-c8ca-4703-8ccd-4e1028f667d3",
   "metadata": {},
   "outputs": [
    {
     "name": "stdout",
     "output_type": "stream",
     "text": [
      "Model: \"sequential_1\"\n",
      "_________________________________________________________________\n",
      " Layer (type)                Output Shape              Param #   \n",
      "=================================================================\n",
      " conv2d_1 (Conv2D)           (None, 510, 510, 32)      320       \n",
      "                                                                 \n",
      " max_pooling2d_1 (MaxPooling  (None, 255, 255, 32)     0         \n",
      " 2D)                                                             \n",
      "                                                                 \n",
      " flatten_1 (Flatten)         (None, 2080800)           0         \n",
      "                                                                 \n",
      " dense_2 (Dense)             (None, 64)                133171264 \n",
      "                                                                 \n",
      " dense_3 (Dense)             (None, 1)                 65        \n",
      "                                                                 \n",
      "=================================================================\n",
      "Total params: 133,171,649\n",
      "Trainable params: 133,171,649\n",
      "Non-trainable params: 0\n",
      "_________________________________________________________________\n"
     ]
    }
   ],
   "source": [
    "model = keras.models.load_model(PATH_MODELLO)\n",
    "model.summary()"
   ]
  },
  {
   "cell_type": "code",
   "execution_count": 47,
   "id": "f8f298d0-33dd-494e-9f85-22aa4d7601b5",
   "metadata": {},
   "outputs": [
    {
     "name": "stdout",
     "output_type": "stream",
     "text": [
      "Epoch 1/20\n",
      " 1/82 [..............................] - ETA: 25s - loss: 14.1789 - mae: 14.1789"
     ]
    },
    {
     "name": "stderr",
     "output_type": "stream",
     "text": [
      "2023-07-13 11:02:50.236930: I tensorflow/core/grappler/optimizers/custom_graph_optimizer_registry.cc:113] Plugin optimizer for device_type GPU is enabled.\n"
     ]
    },
    {
     "name": "stdout",
     "output_type": "stream",
     "text": [
      "82/82 [==============================] - ETA: 0s - loss: 14.0062 - mae: 14.0062"
     ]
    },
    {
     "name": "stderr",
     "output_type": "stream",
     "text": [
      "2023-07-13 11:02:59.503395: I tensorflow/core/grappler/optimizers/custom_graph_optimizer_registry.cc:113] Plugin optimizer for device_type GPU is enabled.\n"
     ]
    },
    {
     "name": "stdout",
     "output_type": "stream",
     "text": [
      "82/82 [==============================] - 10s 122ms/step - loss: 14.0062 - mae: 14.0062 - val_loss: 9.2761 - val_mae: 9.2761\n",
      "Epoch 2/20\n",
      "82/82 [==============================] - 10s 121ms/step - loss: 11.5482 - mae: 11.5482 - val_loss: 8.3443 - val_mae: 8.3443\n",
      "Epoch 3/20\n",
      "82/82 [==============================] - 10s 122ms/step - loss: 9.6412 - mae: 9.6412 - val_loss: 7.1408 - val_mae: 7.1408\n",
      "Epoch 4/20\n",
      "82/82 [==============================] - 10s 121ms/step - loss: 7.9488 - mae: 7.9488 - val_loss: 9.6278 - val_mae: 9.6278\n",
      "Epoch 5/20\n",
      "82/82 [==============================] - 10s 122ms/step - loss: 6.7134 - mae: 6.7134 - val_loss: 5.5463 - val_mae: 5.5463\n",
      "Epoch 6/20\n",
      "82/82 [==============================] - 10s 125ms/step - loss: 5.6523 - mae: 5.6523 - val_loss: 5.9850 - val_mae: 5.9850\n",
      "Epoch 7/20\n",
      "82/82 [==============================] - 10s 126ms/step - loss: 5.4261 - mae: 5.4261 - val_loss: 5.5936 - val_mae: 5.5936\n",
      "Epoch 8/20\n",
      "82/82 [==============================] - 10s 125ms/step - loss: 4.2667 - mae: 4.2667 - val_loss: 5.1447 - val_mae: 5.1447\n",
      "Epoch 9/20\n",
      "82/82 [==============================] - 10s 122ms/step - loss: 3.8288 - mae: 3.8288 - val_loss: 6.1194 - val_mae: 6.1194\n",
      "Epoch 10/20\n",
      "82/82 [==============================] - 10s 122ms/step - loss: 3.4641 - mae: 3.4641 - val_loss: 6.8891 - val_mae: 6.8891\n",
      "Epoch 11/20\n",
      "82/82 [==============================] - 10s 122ms/step - loss: 3.6275 - mae: 3.6275 - val_loss: 7.2664 - val_mae: 7.2664\n",
      "Epoch 12/20\n",
      "82/82 [==============================] - 10s 122ms/step - loss: 3.1763 - mae: 3.1763 - val_loss: 5.1510 - val_mae: 5.1510\n",
      "Epoch 13/20\n",
      "82/82 [==============================] - 10s 122ms/step - loss: 3.1528 - mae: 3.1528 - val_loss: 6.6609 - val_mae: 6.6609\n",
      "Epoch 14/20\n",
      "82/82 [==============================] - 10s 122ms/step - loss: 2.3784 - mae: 2.3784 - val_loss: 5.1822 - val_mae: 5.1822\n",
      "Epoch 15/20\n",
      "82/82 [==============================] - 10s 122ms/step - loss: 3.5655 - mae: 3.5655 - val_loss: 6.0808 - val_mae: 6.0808\n",
      "Epoch 16/20\n",
      "82/82 [==============================] - 10s 121ms/step - loss: 2.8331 - mae: 2.8331 - val_loss: 5.2473 - val_mae: 5.2473\n",
      "Epoch 17/20\n",
      "82/82 [==============================] - 10s 123ms/step - loss: 2.4585 - mae: 2.4585 - val_loss: 5.4269 - val_mae: 5.4269\n",
      "Epoch 18/20\n",
      "82/82 [==============================] - 10s 121ms/step - loss: 2.4668 - mae: 2.4668 - val_loss: 5.2935 - val_mae: 5.2935\n",
      "Epoch 19/20\n",
      "82/82 [==============================] - 10s 121ms/step - loss: 2.4137 - mae: 2.4137 - val_loss: 6.4242 - val_mae: 6.4242\n",
      "Epoch 20/20\n",
      "82/82 [==============================] - 10s 121ms/step - loss: 2.0808 - mae: 2.0808 - val_loss: 5.8443 - val_mae: 5.8443\n"
     ]
    },
    {
     "data": {
      "text/plain": [
       "<keras.callbacks.History at 0x1664626a0>"
      ]
     },
     "execution_count": 47,
     "metadata": {},
     "output_type": "execute_result"
    }
   ],
   "source": [
    "model.fit(x=X_train, y=y_train, batch_size=1, epochs=20, validation_data=(X_cv, y_cv))"
   ]
  },
  {
   "cell_type": "code",
   "execution_count": 9,
   "id": "31a6516a-696d-4d28-a9c2-3ebf7b74c5cf",
   "metadata": {},
   "outputs": [],
   "source": [
    "#model.predict(X)"
   ]
  },
  {
   "cell_type": "code",
   "execution_count": 8,
   "id": "0bead794-7dc3-4fc8-afe2-1b43e34ff791",
   "metadata": {},
   "outputs": [],
   "source": [
    "#y"
   ]
  },
  {
   "cell_type": "code",
   "execution_count": 48,
   "id": "c29a54fb-9895-41e2-b6af-a9557d7f88c2",
   "metadata": {},
   "outputs": [
    {
     "name": "stderr",
     "output_type": "stream",
     "text": [
      "WARNING:absl:Found untraced functions such as _jit_compiled_convolution_op while saving (showing 1 of 1). These functions will not be directly callable after loading.\n"
     ]
    },
    {
     "name": "stdout",
     "output_type": "stream",
     "text": [
      "INFO:tensorflow:Assets written to: Modelli/modello_finale_v3/assets\n"
     ]
    },
    {
     "name": "stderr",
     "output_type": "stream",
     "text": [
      "INFO:tensorflow:Assets written to: Modelli/modello_finale_v3/assets\n"
     ]
    }
   ],
   "source": [
    "model.save(PATH_MODELLO_FINALE)"
   ]
  },
  {
   "cell_type": "markdown",
   "id": "f97435d4-7b12-4da5-9420-b943fab1d500",
   "metadata": {},
   "source": [
    "## Addestramento nuovo modello con Huber loss"
   ]
  },
  {
   "cell_type": "code",
   "execution_count": 49,
   "id": "4704e8a9-08fa-4b1a-b65b-e183a0eea772",
   "metadata": {},
   "outputs": [],
   "source": [
    "conv1_weights = model.layers[0].weights\n",
    "dense1_weights = model.layers[3].weights\n",
    "dense2_weights = model.layers[4].weights\n",
    "\n",
    "new_model = tf.keras.Sequential([\n",
    "    layers.Conv2D(32, (3, 3), activation='relu', input_shape=(HEIGHT, WIDTH, CHANNELS), weights=conv1_weights),\n",
    "    layers.MaxPooling2D((2, 2)),\n",
    "    layers.Flatten(),\n",
    "    layers.Dense(64, activation='relu', weights=dense1_weights),\n",
    "    layers.Dense(1, weights=dense2_weights)\n",
    "])"
   ]
  },
  {
   "cell_type": "code",
   "execution_count": 50,
   "id": "75607e0c-9bcf-4b7b-9dec-aead6a26ccbd",
   "metadata": {},
   "outputs": [],
   "source": [
    "new_model.compile(optimizer='adam', loss=tf.keras.losses.Huber(delta=HUBER_DELTA), metrics=['mae'])"
   ]
  },
  {
   "cell_type": "code",
   "execution_count": 51,
   "id": "8d673455-d95e-4640-8dfe-ac9c9df0eb8f",
   "metadata": {},
   "outputs": [
    {
     "name": "stdout",
     "output_type": "stream",
     "text": [
      "Epoch 1/20\n"
     ]
    },
    {
     "name": "stderr",
     "output_type": "stream",
     "text": [
      "2023-07-13 11:06:13.941014: I tensorflow/core/grappler/optimizers/custom_graph_optimizer_registry.cc:113] Plugin optimizer for device_type GPU is enabled.\n"
     ]
    },
    {
     "name": "stdout",
     "output_type": "stream",
     "text": [
      "82/82 [==============================] - ETA: 0s - loss: 1.4676 - mae: 1.9220"
     ]
    },
    {
     "name": "stderr",
     "output_type": "stream",
     "text": [
      "2023-07-13 11:06:23.738445: I tensorflow/core/grappler/optimizers/custom_graph_optimizer_registry.cc:113] Plugin optimizer for device_type GPU is enabled.\n"
     ]
    },
    {
     "name": "stdout",
     "output_type": "stream",
     "text": [
      "82/82 [==============================] - 11s 126ms/step - loss: 1.4676 - mae: 1.9220 - val_loss: 6.1297 - val_mae: 6.6131\n",
      "Epoch 2/20\n",
      "82/82 [==============================] - 10s 125ms/step - loss: 1.7435 - mae: 2.2057 - val_loss: 6.2099 - val_mae: 6.6919\n",
      "Epoch 3/20\n",
      "82/82 [==============================] - 10s 125ms/step - loss: 1.9298 - mae: 2.3911 - val_loss: 4.8327 - val_mae: 5.2992\n",
      "Epoch 4/20\n",
      "82/82 [==============================] - 10s 126ms/step - loss: 1.4335 - mae: 1.8897 - val_loss: 4.7747 - val_mae: 5.2512\n",
      "Epoch 5/20\n",
      "82/82 [==============================] - 10s 125ms/step - loss: 1.2686 - mae: 1.7053 - val_loss: 4.8329 - val_mae: 5.2861\n",
      "Epoch 6/20\n",
      "82/82 [==============================] - 10s 125ms/step - loss: 0.9311 - mae: 1.3724 - val_loss: 4.8566 - val_mae: 5.3362\n",
      "Epoch 7/20\n",
      "82/82 [==============================] - 10s 126ms/step - loss: 0.9863 - mae: 1.4045 - val_loss: 5.3334 - val_mae: 5.8272\n",
      "Epoch 8/20\n",
      "82/82 [==============================] - 10s 126ms/step - loss: 1.1927 - mae: 1.6118 - val_loss: 6.0834 - val_mae: 6.5514\n",
      "Epoch 9/20\n",
      "82/82 [==============================] - 10s 126ms/step - loss: 0.9603 - mae: 1.3526 - val_loss: 5.1418 - val_mae: 5.6289\n",
      "Epoch 10/20\n",
      "82/82 [==============================] - 10s 126ms/step - loss: 1.3458 - mae: 1.7894 - val_loss: 5.2767 - val_mae: 5.7570\n",
      "Epoch 11/20\n",
      "82/82 [==============================] - 10s 126ms/step - loss: 1.7767 - mae: 2.2249 - val_loss: 5.9681 - val_mae: 6.4681\n",
      "Epoch 12/20\n",
      "82/82 [==============================] - 10s 125ms/step - loss: 1.9241 - mae: 2.3884 - val_loss: 5.2730 - val_mae: 5.7554\n",
      "Epoch 13/20\n",
      "82/82 [==============================] - 10s 124ms/step - loss: 1.3604 - mae: 1.8056 - val_loss: 5.0735 - val_mae: 5.5515\n",
      "Epoch 14/20\n",
      "82/82 [==============================] - 10s 125ms/step - loss: 1.5777 - mae: 2.0254 - val_loss: 4.8885 - val_mae: 5.3610\n",
      "Epoch 15/20\n",
      "82/82 [==============================] - 10s 125ms/step - loss: 1.1209 - mae: 1.5460 - val_loss: 5.0454 - val_mae: 5.5423\n",
      "Epoch 16/20\n",
      "82/82 [==============================] - 10s 126ms/step - loss: 1.4622 - mae: 1.9093 - val_loss: 4.7451 - val_mae: 5.2252\n",
      "Epoch 17/20\n",
      "82/82 [==============================] - 10s 126ms/step - loss: 1.3701 - mae: 1.8321 - val_loss: 5.8949 - val_mae: 6.3949\n",
      "Epoch 18/20\n",
      "82/82 [==============================] - 10s 126ms/step - loss: 1.3364 - mae: 1.7833 - val_loss: 5.2380 - val_mae: 5.7264\n",
      "Epoch 19/20\n",
      "82/82 [==============================] - 10s 125ms/step - loss: 1.0036 - mae: 1.4153 - val_loss: 5.4703 - val_mae: 5.9703\n",
      "Epoch 20/20\n",
      "82/82 [==============================] - 10s 125ms/step - loss: 0.7590 - mae: 1.1794 - val_loss: 5.0459 - val_mae: 5.5438\n"
     ]
    },
    {
     "data": {
      "text/plain": [
       "<keras.callbacks.History at 0x1602a9e20>"
      ]
     },
     "execution_count": 51,
     "metadata": {},
     "output_type": "execute_result"
    }
   ],
   "source": [
    "new_model.fit(x=X_train, y=y_train, batch_size=1, epochs=20, validation_data=(X_cv, y_cv))"
   ]
  },
  {
   "cell_type": "code",
   "execution_count": 7,
   "id": "2c23710f-0d3a-409d-8a53-4ec22c82b6c1",
   "metadata": {},
   "outputs": [],
   "source": [
    "#new_model.predict(X)"
   ]
  },
  {
   "cell_type": "code",
   "execution_count": 6,
   "id": "aa8dc821-2c17-411d-8cc4-68bb32c7d43d",
   "metadata": {},
   "outputs": [],
   "source": [
    "#y"
   ]
  },
  {
   "cell_type": "code",
   "execution_count": 52,
   "id": "74c30b7a-74b8-43e2-9c7d-14a282e28ad1",
   "metadata": {},
   "outputs": [
    {
     "name": "stderr",
     "output_type": "stream",
     "text": [
      "WARNING:absl:Found untraced functions such as _jit_compiled_convolution_op while saving (showing 1 of 1). These functions will not be directly callable after loading.\n"
     ]
    },
    {
     "name": "stdout",
     "output_type": "stream",
     "text": [
      "INFO:tensorflow:Assets written to: Modelli/modello_finale_riaddestrato_v3/assets\n"
     ]
    },
    {
     "name": "stderr",
     "output_type": "stream",
     "text": [
      "INFO:tensorflow:Assets written to: Modelli/modello_finale_riaddestrato_v3/assets\n"
     ]
    }
   ],
   "source": [
    "new_model.save(PATH_MODELLO_FINALE_RIADDESTRATO)"
   ]
  },
  {
   "cell_type": "markdown",
   "id": "0fa89ff0-1e6d-420c-b047-f52fe21f92cd",
   "metadata": {},
   "source": [
    "### Import nuovo modello"
   ]
  },
  {
   "cell_type": "code",
   "execution_count": 4,
   "id": "9150d084-1519-4614-b278-14b2b8931047",
   "metadata": {},
   "outputs": [
    {
     "name": "stdout",
     "output_type": "stream",
     "text": [
      "Metal device set to: Apple M1 Pro\n"
     ]
    },
    {
     "name": "stderr",
     "output_type": "stream",
     "text": [
      "2023-07-13 10:26:56.552384: I tensorflow/core/common_runtime/pluggable_device/pluggable_device_factory.cc:305] Could not identify NUMA node of platform GPU ID 0, defaulting to 0. Your kernel may not have been built with NUMA support.\n",
      "2023-07-13 10:26:56.552752: I tensorflow/core/common_runtime/pluggable_device/pluggable_device_factory.cc:271] Created TensorFlow device (/job:localhost/replica:0/task:0/device:GPU:0 with 0 MB memory) -> physical PluggableDevice (device: 0, name: METAL, pci bus id: <undefined>)\n"
     ]
    }
   ],
   "source": [
    "new_model = tf.keras.models.load_model(PATH_MODELLO_FINALE_RIADDESTRATO)"
   ]
  },
  {
   "cell_type": "code",
   "execution_count": 60,
   "id": "7c94750b-95bd-4682-8166-65de8c820e6f",
   "metadata": {},
   "outputs": [],
   "source": [
    "def avg(lst):\n",
    "    return sum(lst) / len(lst)"
   ]
  },
  {
   "cell_type": "code",
   "execution_count": 61,
   "id": "a3ac2f9d-af2f-4ce5-be80-21af80c13171",
   "metadata": {},
   "outputs": [
    {
     "name": "stdout",
     "output_type": "stream",
     "text": [
      "4/4 [==============================] - 1s 355ms/step\n"
     ]
    },
    {
     "data": {
      "text/plain": [
       "array([6.51102037])"
      ]
     },
     "execution_count": 61,
     "metadata": {},
     "output_type": "execute_result"
    }
   ],
   "source": [
    "avg(abs(new_model.predict(X_test) - y_test))"
   ]
  },
  {
   "cell_type": "code",
   "execution_count": 62,
   "id": "47b70238-8776-4b97-a801-c8ff6a56f7f7",
   "metadata": {},
   "outputs": [
    {
     "name": "stdout",
     "output_type": "stream",
     "text": [
      "7/7 [==============================] - 1s 218ms/step\n"
     ]
    }
   ],
   "source": [
    "previsioni_nuovo_modello = new_model.predict(X)"
   ]
  },
  {
   "cell_type": "markdown",
   "id": "8e4468e3-e6a0-4110-a368-d6e8ac536f79",
   "metadata": {},
   "source": [
    "### Creazione del csv con i confronti filtrati (SPOSTARE IN ALTRO NOTEBOOK) "
   ]
  },
  {
   "cell_type": "code",
   "execution_count": 69,
   "id": "e5e23e39-a596-452e-a9ad-3aeb5c7635c1",
   "metadata": {},
   "outputs": [],
   "source": [
    "lista_acquisizioni = list(df_labels[previsioni_nuovo_modello < 25].Acquisizione.unique())"
   ]
  },
  {
   "cell_type": "code",
   "execution_count": 70,
   "id": "0707c13c-af20-4fa3-b9e1-134194be06e8",
   "metadata": {},
   "outputs": [
    {
     "data": {
      "text/html": [
       "<div>\n",
       "<style scoped>\n",
       "    .dataframe tbody tr th:only-of-type {\n",
       "        vertical-align: middle;\n",
       "    }\n",
       "\n",
       "    .dataframe tbody tr th {\n",
       "        vertical-align: top;\n",
       "    }\n",
       "\n",
       "    .dataframe thead th {\n",
       "        text-align: right;\n",
       "    }\n",
       "</style>\n",
       "<table border=\"1\" class=\"dataframe\">\n",
       "  <thead>\n",
       "    <tr style=\"text-align: right;\">\n",
       "      <th></th>\n",
       "      <th>Utente1</th>\n",
       "      <th>Utente2</th>\n",
       "      <th>ScoreML</th>\n",
       "    </tr>\n",
       "  </thead>\n",
       "  <tbody>\n",
       "    <tr>\n",
       "      <th>0</th>\n",
       "      <td>1_M_1</td>\n",
       "      <td>1_M_10</td>\n",
       "      <td>0.595889</td>\n",
       "    </tr>\n",
       "    <tr>\n",
       "      <th>1</th>\n",
       "      <td>1_M_1</td>\n",
       "      <td>1_M_11</td>\n",
       "      <td>0.567831</td>\n",
       "    </tr>\n",
       "    <tr>\n",
       "      <th>2</th>\n",
       "      <td>1_M_1</td>\n",
       "      <td>1_M_12</td>\n",
       "      <td>0.550778</td>\n",
       "    </tr>\n",
       "    <tr>\n",
       "      <th>3</th>\n",
       "      <td>1_M_1</td>\n",
       "      <td>1_M_13</td>\n",
       "      <td>0.497624</td>\n",
       "    </tr>\n",
       "    <tr>\n",
       "      <th>4</th>\n",
       "      <td>1_M_1</td>\n",
       "      <td>1_M_14</td>\n",
       "      <td>0.539765</td>\n",
       "    </tr>\n",
       "    <tr>\n",
       "      <th>...</th>\n",
       "      <td>...</td>\n",
       "      <td>...</td>\n",
       "      <td>...</td>\n",
       "    </tr>\n",
       "    <tr>\n",
       "      <th>20905</th>\n",
       "      <td>8_M_6</td>\n",
       "      <td>8_M_8</td>\n",
       "      <td>0.738794</td>\n",
       "    </tr>\n",
       "    <tr>\n",
       "      <th>20906</th>\n",
       "      <td>8_M_6</td>\n",
       "      <td>8_M_9</td>\n",
       "      <td>0.722479</td>\n",
       "    </tr>\n",
       "    <tr>\n",
       "      <th>20907</th>\n",
       "      <td>8_M_7</td>\n",
       "      <td>8_M_8</td>\n",
       "      <td>0.722351</td>\n",
       "    </tr>\n",
       "    <tr>\n",
       "      <th>20908</th>\n",
       "      <td>8_M_7</td>\n",
       "      <td>8_M_9</td>\n",
       "      <td>0.730458</td>\n",
       "    </tr>\n",
       "    <tr>\n",
       "      <th>20909</th>\n",
       "      <td>8_M_8</td>\n",
       "      <td>8_M_9</td>\n",
       "      <td>0.759262</td>\n",
       "    </tr>\n",
       "  </tbody>\n",
       "</table>\n",
       "<p>20301 rows × 3 columns</p>\n",
       "</div>"
      ],
      "text/plain": [
       "      Utente1 Utente2   ScoreML\n",
       "0       1_M_1  1_M_10  0.595889\n",
       "1       1_M_1  1_M_11  0.567831\n",
       "2       1_M_1  1_M_12  0.550778\n",
       "3       1_M_1  1_M_13  0.497624\n",
       "4       1_M_1  1_M_14  0.539765\n",
       "...       ...     ...       ...\n",
       "20905   8_M_6   8_M_8  0.738794\n",
       "20906   8_M_6   8_M_9  0.722479\n",
       "20907   8_M_7   8_M_8  0.722351\n",
       "20908   8_M_7   8_M_9  0.730458\n",
       "20909   8_M_8   8_M_9  0.759262\n",
       "\n",
       "[20301 rows x 3 columns]"
      ]
     },
     "execution_count": 70,
     "metadata": {},
     "output_type": "execute_result"
    }
   ],
   "source": [
    "PATH_FILE_SCORE = './scoreCsv.csv'\n",
    "scores = pd.read_csv(PATH_FILE_SCORE)\n",
    "scores = scores[~scores.Utente1.isin(lista_acquisizioni)]\n",
    "scores = scores[~scores.Utente2.isin(lista_acquisizioni)]\n",
    "scores"
   ]
  },
  {
   "cell_type": "code",
   "execution_count": 71,
   "id": "764881a4-7559-4f0f-aab3-cc9b40a06858",
   "metadata": {},
   "outputs": [],
   "source": [
    "scores.to_csv('./scoreFiltratiCsv.csv' ,index=False)"
   ]
  }
 ],
 "metadata": {
  "kernelspec": {
   "display_name": "Python 3 (ipykernel)",
   "language": "python",
   "name": "python3"
  },
  "language_info": {
   "codemirror_mode": {
    "name": "ipython",
    "version": 3
   },
   "file_extension": ".py",
   "mimetype": "text/x-python",
   "name": "python",
   "nbconvert_exporter": "python",
   "pygments_lexer": "ipython3",
   "version": "3.9.12"
  }
 },
 "nbformat": 4,
 "nbformat_minor": 5
}
