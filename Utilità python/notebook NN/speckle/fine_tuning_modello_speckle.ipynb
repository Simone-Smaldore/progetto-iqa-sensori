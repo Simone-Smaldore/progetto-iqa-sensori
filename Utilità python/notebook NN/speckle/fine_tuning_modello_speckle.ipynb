{
 "cells": [
  {
   "cell_type": "code",
   "execution_count": 47,
   "id": "9af4c3cc-95a0-4650-a43e-0823066843c4",
   "metadata": {},
   "outputs": [],
   "source": [
    "import os\n",
    "import pickle\n",
    "import numpy as np\n",
    "import pandas as pd\n",
    "import tensorflow as tf\n",
    "from tensorflow import keras\n",
    "from tensorflow.keras import layers\n",
    "from PIL import Image\n",
    "from sklearn.model_selection import train_test_split"
   ]
  },
  {
   "cell_type": "code",
   "execution_count": 48,
   "id": "445c1d7b-0037-4d83-8a93-ee8205f619fb",
   "metadata": {},
   "outputs": [],
   "source": [
    "PATH_CSV_LABELS = '../tabellaPseudoLabelsDatasetCompleto.csv'\n",
    "PATH_DATASET_LAVORATO = '../../Nuovi Dati/TemplateGeneratiClean'\n",
    "PATH_MODELLO = '../../Modelli-v2/modello_pesi_inizializzati_speckle'\n",
    "PATH_MODELLO_FINALE_RIADDESTRATO = '../../Modelli-v2/modello_finale_riaddestrato_speckle'\n",
    "\n",
    "N_IMG = 1\n",
    "FORMATO_IMG = 'jpg'\n",
    "CHANNELS = 1\n",
    "HEIGHT = 512\n",
    "WIDTH = 512\n",
    "TARGET_SIZE = (WIDTH, HEIGHT)\n",
    "\n",
    "HUBER_DELTA = 1.0"
   ]
  },
  {
   "cell_type": "code",
   "execution_count": 49,
   "id": "ba7566c8-4967-463c-963b-b240579144dd",
   "metadata": {},
   "outputs": [
    {
     "data": {
      "text/html": [
       "<div>\n",
       "<style scoped>\n",
       "    .dataframe tbody tr th:only-of-type {\n",
       "        vertical-align: middle;\n",
       "    }\n",
       "\n",
       "    .dataframe tbody tr th {\n",
       "        vertical-align: top;\n",
       "    }\n",
       "\n",
       "    .dataframe thead th {\n",
       "        text-align: right;\n",
       "    }\n",
       "</style>\n",
       "<table border=\"1\" class=\"dataframe\">\n",
       "  <thead>\n",
       "    <tr style=\"text-align: right;\">\n",
       "      <th></th>\n",
       "      <th>Acquisizione</th>\n",
       "      <th>Label</th>\n",
       "      <th>Label_norm</th>\n",
       "    </tr>\n",
       "  </thead>\n",
       "  <tbody>\n",
       "    <tr>\n",
       "      <th>0</th>\n",
       "      <td>AgatielloRoberto_000</td>\n",
       "      <td>0.648876</td>\n",
       "      <td>50.428711</td>\n",
       "    </tr>\n",
       "    <tr>\n",
       "      <th>1</th>\n",
       "      <td>AgatielloRoberto_001</td>\n",
       "      <td>0.759503</td>\n",
       "      <td>61.300294</td>\n",
       "    </tr>\n",
       "    <tr>\n",
       "      <th>2</th>\n",
       "      <td>AgatielloRoberto_002</td>\n",
       "      <td>0.747500</td>\n",
       "      <td>60.120716</td>\n",
       "    </tr>\n",
       "    <tr>\n",
       "      <th>3</th>\n",
       "      <td>AgatielloRoberto_003</td>\n",
       "      <td>0.818899</td>\n",
       "      <td>67.137182</td>\n",
       "    </tr>\n",
       "    <tr>\n",
       "      <th>4</th>\n",
       "      <td>AgatielloRoberto_004</td>\n",
       "      <td>0.825895</td>\n",
       "      <td>67.824714</td>\n",
       "    </tr>\n",
       "  </tbody>\n",
       "</table>\n",
       "</div>"
      ],
      "text/plain": [
       "           Acquisizione     Label  Label_norm\n",
       "0  AgatielloRoberto_000  0.648876   50.428711\n",
       "1  AgatielloRoberto_001  0.759503   61.300294\n",
       "2  AgatielloRoberto_002  0.747500   60.120716\n",
       "3  AgatielloRoberto_003  0.818899   67.137182\n",
       "4  AgatielloRoberto_004  0.825895   67.824714"
      ]
     },
     "execution_count": 49,
     "metadata": {},
     "output_type": "execute_result"
    }
   ],
   "source": [
    "df_labels = pd.read_csv(PATH_CSV_LABELS)\n",
    "df_labels.head(5)"
   ]
  },
  {
   "cell_type": "code",
   "execution_count": 50,
   "id": "e5f632a9-53d2-424b-8d26-5c3518c73c0a",
   "metadata": {},
   "outputs": [],
   "source": [
    "X = []\n",
    "y = []\n",
    "\n",
    "for id_acquisizione in df_labels.Acquisizione:\n",
    "    path_img = os.path.join(PATH_DATASET_LAVORATO, id_acquisizione, 'Immagini', 'immagine1.jpg')\n",
    "    image = Image.open(path_img)\n",
    "    resized_image = image.resize(TARGET_SIZE)\n",
    "    image_array = np.array(resized_image)\n",
    "    normalized_image_array = image_array / 255.0\n",
    "    \n",
    "    pseudo_label = df_labels[df_labels.Acquisizione == id_acquisizione].Label_norm\n",
    "    \n",
    "    X.append(normalized_image_array)\n",
    "    y.append(pseudo_label)\n",
    "    \n",
    "X = np.array(X)\n",
    "y = np.array(y)"
   ]
  },
  {
   "cell_type": "code",
   "execution_count": 51,
   "id": "c9482741-a2ae-4807-9efa-5c3659d80c04",
   "metadata": {},
   "outputs": [],
   "source": [
    "X_train, X_test, y_train, y_test = train_test_split(X, y, test_size=0.20, random_state=42)"
   ]
  },
  {
   "cell_type": "code",
   "execution_count": 52,
   "id": "085b74e6-a5ab-44d0-9c22-142d8145f9ad",
   "metadata": {},
   "outputs": [
    {
     "name": "stdout",
     "output_type": "stream",
     "text": [
      "X_train: 574\n",
      "X_test: 144\n"
     ]
    }
   ],
   "source": [
    "print(f'X_train: {len(X_train)}')\n",
    "print(f'X_test: {len(X_test)}')"
   ]
  },
  {
   "cell_type": "code",
   "execution_count": 53,
   "id": "1388e1a1-c8ca-4703-8ccd-4e1028f667d3",
   "metadata": {},
   "outputs": [
    {
     "name": "stdout",
     "output_type": "stream",
     "text": [
      "Model: \"sequential\"\n",
      "_________________________________________________________________\n",
      " Layer (type)                Output Shape              Param #   \n",
      "=================================================================\n",
      " conv2d (Conv2D)             (None, 510, 510, 32)      320       \n",
      "                                                                 \n",
      " max_pooling2d (MaxPooling2D  (None, 255, 255, 32)     0         \n",
      " )                                                               \n",
      "                                                                 \n",
      " flatten (Flatten)           (None, 2080800)           0         \n",
      "                                                                 \n",
      " dense (Dense)               (None, 64)                133171264 \n",
      "                                                                 \n",
      " dense_1 (Dense)             (None, 1)                 65        \n",
      "                                                                 \n",
      "=================================================================\n",
      "Total params: 133,171,649\n",
      "Trainable params: 133,171,649\n",
      "Non-trainable params: 0\n",
      "_________________________________________________________________\n"
     ]
    }
   ],
   "source": [
    "model = keras.models.load_model(PATH_MODELLO)\n",
    "model.summary()"
   ]
  },
  {
   "cell_type": "code",
   "execution_count": 54,
   "id": "f8f298d0-33dd-494e-9f85-22aa4d7601b5",
   "metadata": {},
   "outputs": [],
   "source": [
    "# model.fit(x=X_train, y=y_train, batch_size=1, epochs=20, validation_data=(X_cv, y_cv))"
   ]
  },
  {
   "cell_type": "code",
   "execution_count": 55,
   "id": "c29a54fb-9895-41e2-b6af-a9557d7f88c2",
   "metadata": {},
   "outputs": [],
   "source": [
    "# model.save(PATH_MODELLO_FINALE)"
   ]
  },
  {
   "cell_type": "markdown",
   "id": "f97435d4-7b12-4da5-9420-b943fab1d500",
   "metadata": {},
   "source": [
    "## Addestramento nuovo modello con Huber loss"
   ]
  },
  {
   "cell_type": "code",
   "execution_count": 56,
   "id": "4704e8a9-08fa-4b1a-b65b-e183a0eea772",
   "metadata": {},
   "outputs": [],
   "source": [
    "conv1_weights = model.layers[0].weights\n",
    "dense1_weights = model.layers[3].weights\n",
    "dense2_weights = model.layers[4].weights\n",
    "\n",
    "new_model = tf.keras.Sequential([\n",
    "    layers.Conv2D(32, (3, 3), activation='relu', input_shape=(HEIGHT, WIDTH, CHANNELS), weights=conv1_weights),\n",
    "    layers.MaxPooling2D((2, 2)),\n",
    "    layers.Flatten(),\n",
    "    layers.Dense(64, activation='relu', weights=dense1_weights),\n",
    "    layers.Dense(1, weights=dense2_weights)\n",
    "])"
   ]
  },
  {
   "cell_type": "code",
   "execution_count": 57,
   "id": "75607e0c-9bcf-4b7b-9dec-aead6a26ccbd",
   "metadata": {},
   "outputs": [],
   "source": [
    "new_model.compile(optimizer='adam', loss=tf.keras.losses.Huber(delta=HUBER_DELTA), metrics=['mae'])"
   ]
  },
  {
   "cell_type": "code",
   "execution_count": 58,
   "id": "8d673455-d95e-4640-8dfe-ac9c9df0eb8f",
   "metadata": {},
   "outputs": [
    {
     "name": "stdout",
     "output_type": "stream",
     "text": [
      "Epoch 1/10\n"
     ]
    },
    {
     "name": "stderr",
     "output_type": "stream",
     "text": [
      "2023-07-25 17:25:24.262114: I tensorflow/core/grappler/optimizers/custom_graph_optimizer_registry.cc:113] Plugin optimizer for device_type GPU is enabled.\n"
     ]
    },
    {
     "name": "stdout",
     "output_type": "stream",
     "text": [
      "574/574 [==============================] - 65s 111ms/step - loss: 16.9230 - mae: 17.4139\n",
      "Epoch 2/10\n",
      "574/574 [==============================] - 63s 110ms/step - loss: 14.8870 - mae: 15.3796\n",
      "Epoch 3/10\n",
      "574/574 [==============================] - 64s 111ms/step - loss: 12.6583 - mae: 13.1497\n",
      "Epoch 4/10\n",
      "574/574 [==============================] - 68s 118ms/step - loss: 9.2616 - mae: 9.7478\n",
      "Epoch 5/10\n",
      "574/574 [==============================] - 66s 115ms/step - loss: 7.0139 - mae: 7.5004\n",
      "Epoch 6/10\n",
      "574/574 [==============================] - 64s 112ms/step - loss: 5.1495 - mae: 5.6323\n",
      "Epoch 7/10\n",
      "574/574 [==============================] - 63s 110ms/step - loss: 4.1984 - mae: 4.6750\n",
      "Epoch 8/10\n",
      "574/574 [==============================] - 63s 110ms/step - loss: 3.6229 - mae: 4.0946\n",
      "Epoch 9/10\n",
      "574/574 [==============================] - 63s 109ms/step - loss: 3.7318 - mae: 4.2045\n",
      "Epoch 10/10\n",
      "574/574 [==============================] - 63s 110ms/step - loss: 3.5825 - mae: 4.0617\n"
     ]
    },
    {
     "data": {
      "text/plain": [
       "<keras.callbacks.History at 0x3e166f700>"
      ]
     },
     "execution_count": 58,
     "metadata": {},
     "output_type": "execute_result"
    }
   ],
   "source": [
    "new_model.fit(x=X_train, y=y_train, batch_size=1, epochs=10)"
   ]
  },
  {
   "cell_type": "code",
   "execution_count": 7,
   "id": "2c23710f-0d3a-409d-8a53-4ec22c82b6c1",
   "metadata": {},
   "outputs": [],
   "source": [
    "#new_model.predict(X)"
   ]
  },
  {
   "cell_type": "code",
   "execution_count": 6,
   "id": "aa8dc821-2c17-411d-8cc4-68bb32c7d43d",
   "metadata": {},
   "outputs": [],
   "source": [
    "#y"
   ]
  },
  {
   "cell_type": "code",
   "execution_count": 59,
   "id": "74c30b7a-74b8-43e2-9c7d-14a282e28ad1",
   "metadata": {},
   "outputs": [
    {
     "name": "stderr",
     "output_type": "stream",
     "text": [
      "WARNING:absl:Found untraced functions such as _jit_compiled_convolution_op while saving (showing 1 of 1). These functions will not be directly callable after loading.\n"
     ]
    },
    {
     "name": "stdout",
     "output_type": "stream",
     "text": [
      "INFO:tensorflow:Assets written to: ../../Modelli-v2/modello_finale_riaddestrato_speckle/assets\n"
     ]
    },
    {
     "name": "stderr",
     "output_type": "stream",
     "text": [
      "INFO:tensorflow:Assets written to: ../../Modelli-v2/modello_finale_riaddestrato_speckle/assets\n"
     ]
    }
   ],
   "source": [
    "new_model.save(PATH_MODELLO_FINALE_RIADDESTRATO)"
   ]
  },
  {
   "cell_type": "markdown",
   "id": "0fa89ff0-1e6d-420c-b047-f52fe21f92cd",
   "metadata": {},
   "source": [
    "### Import nuovo modello"
   ]
  },
  {
   "cell_type": "code",
   "execution_count": 60,
   "id": "9150d084-1519-4614-b278-14b2b8931047",
   "metadata": {},
   "outputs": [],
   "source": [
    "new_model = tf.keras.models.load_model(PATH_MODELLO_FINALE_RIADDESTRATO)"
   ]
  },
  {
   "cell_type": "code",
   "execution_count": 61,
   "id": "7c94750b-95bd-4682-8166-65de8c820e6f",
   "metadata": {},
   "outputs": [],
   "source": [
    "def avg(lst):\n",
    "    return sum(lst) / len(lst)"
   ]
  },
  {
   "cell_type": "code",
   "execution_count": 64,
   "id": "a3ac2f9d-af2f-4ce5-be80-21af80c13171",
   "metadata": {},
   "outputs": [
    {
     "name": "stdout",
     "output_type": "stream",
     "text": [
      "5/5 [==============================] - 1s 210ms/step\n"
     ]
    },
    {
     "data": {
      "text/plain": [
       "array([13.83410554])"
      ]
     },
     "execution_count": 64,
     "metadata": {},
     "output_type": "execute_result"
    }
   ],
   "source": [
    "avg(abs(new_model.predict(X_test) - y_test))"
   ]
  },
  {
   "cell_type": "code",
   "execution_count": 30,
   "id": "47b70238-8776-4b97-a801-c8ff6a56f7f7",
   "metadata": {},
   "outputs": [
    {
     "name": "stdout",
     "output_type": "stream",
     "text": [
      "23/23 [==============================] - 4s 157ms/step\n"
     ]
    }
   ],
   "source": [
    "previsioni_nuovo_modello = new_model.predict(X)"
   ]
  },
  {
   "cell_type": "code",
   "execution_count": 25,
   "id": "d63ca838-d3be-4288-b8c1-d21de4d8781c",
   "metadata": {},
   "outputs": [
    {
     "data": {
      "text/plain": [
       "array([[60.596878],\n",
       "       [61.717056],\n",
       "       [56.647217],\n",
       "       [61.091373],\n",
       "       [39.67559 ],\n",
       "       [55.025955],\n",
       "       [77.801384],\n",
       "       [66.342995],\n",
       "       [46.09707 ],\n",
       "       [67.43661 ]], dtype=float32)"
      ]
     },
     "execution_count": 25,
     "metadata": {},
     "output_type": "execute_result"
    }
   ],
   "source": [
    "previsioni_nuovo_modello[10:20]"
   ]
  },
  {
   "cell_type": "code",
   "execution_count": 26,
   "id": "b5b41652-67f3-4be4-a12c-88fb7599b2ef",
   "metadata": {},
   "outputs": [
    {
     "data": {
      "text/plain": [
       "array([[42.26044055],\n",
       "       [60.98299622],\n",
       "       [56.07490024],\n",
       "       [65.74218707],\n",
       "       [51.6002194 ],\n",
       "       [45.35021024],\n",
       "       [71.2017892 ],\n",
       "       [74.4499737 ],\n",
       "       [31.00339434],\n",
       "       [42.01341109]])"
      ]
     },
     "execution_count": 26,
     "metadata": {},
     "output_type": "execute_result"
    }
   ],
   "source": [
    "y_test[10:20]"
   ]
  }
 ],
 "metadata": {
  "kernelspec": {
   "display_name": "Python 3 (ipykernel)",
   "language": "python",
   "name": "python3"
  },
  "language_info": {
   "codemirror_mode": {
    "name": "ipython",
    "version": 3
   },
   "file_extension": ".py",
   "mimetype": "text/x-python",
   "name": "python",
   "nbconvert_exporter": "python",
   "pygments_lexer": "ipython3",
   "version": "3.9.12"
  }
 },
 "nbformat": 4,
 "nbformat_minor": 5
}
