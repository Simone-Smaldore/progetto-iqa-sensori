{
 "cells": [
  {
   "cell_type": "code",
   "execution_count": 1,
   "id": "94a7e2c6-c6e3-4d46-840b-dd7b87df1b6d",
   "metadata": {},
   "outputs": [],
   "source": [
    "import pandas as pd\n",
    "from PIL import Image\n",
    "import os\n",
    "import numpy as np\n",
    "import tensorflow as tf\n",
    "from tensorflow.keras import layers\n",
    "from tqdm import tqdm\n",
    "from sklearn.model_selection import train_test_split"
   ]
  },
  {
   "cell_type": "markdown",
   "id": "c6fa54c0-4c53-4458-ac8c-dd63b6b8317d",
   "metadata": {},
   "source": [
    "### Caricamento delle immagini in input in formato array numpy"
   ]
  },
  {
   "cell_type": "code",
   "execution_count": 2,
   "id": "f9d02f45-0edd-4297-a262-8994a930fa1e",
   "metadata": {},
   "outputs": [],
   "source": [
    "# IMAGE_PATH_FOLDER = './Dati Sensori/Dataset Sensori Lavorato/1_M/1_M_1'\n",
    "IMAGE_PATH_FOLDER = '../../Nuovi Dati/DatasetDistorti'\n",
    "\n",
    "# Specificare solamente una tipologia di speckle\n",
    "DISTORSIONI = ['DatasetBlur-s']\n",
    "GRADI_DISTORSIONE = 5\n",
    "\n",
    "HEIGHT = 512\n",
    "WIDTH = 512\n",
    "\n",
    "TARGET_SIZE = (WIDTH, HEIGHT)\n",
    "CHANNELS = 1 # Scala di grigi"
   ]
  },
  {
   "cell_type": "code",
   "execution_count": 3,
   "id": "5a8ea90d-12d4-44f8-81cf-509c8c8997ec",
   "metadata": {},
   "outputs": [],
   "source": [
    "def get_sotto_cartelle(path):\n",
    "    return [x[1] for x in os.walk(path)][0]\n",
    "\n",
    "def get_immagini_cartella(path_cartella):\n",
    "    immagini_cartella = []\n",
    "    cartelle_soggetti = get_sotto_cartelle(path_cartella)\n",
    "    for soggetto in tqdm(cartelle_soggetti):\n",
    "        path_soggetto = f'{path_cartella}/{soggetto}'\n",
    "        cartelle_acquisizioni = get_sotto_cartelle(path_soggetto)\n",
    "        for acquisizione in cartelle_acquisizioni:\n",
    "            path_acquisizione = f'{path_soggetto}/{acquisizione}'\n",
    "            for filename in os.listdir(path_acquisizione):\n",
    "                if (filename.endswith(\".jpg\")):    \n",
    "                    path_file = f'{path_acquisizione}/{filename}'\n",
    "                    immagine = get_immagine_da_path(path_file)\n",
    "                    immagini_cartella.append(immagine)\n",
    "    return immagini_cartella\n",
    "                    \n",
    "def get_immagine_da_path(path_file):\n",
    "    image = Image.open(path_file).convert('L')\n",
    "    resized_image = image.resize(TARGET_SIZE)\n",
    "    image_array = np.array(resized_image)\n",
    "    normalized_image_array = image_array / 255.0\n",
    "    return normalized_image_array\n"
   ]
  },
  {
   "cell_type": "code",
   "execution_count": 4,
   "id": "051017d7-98e9-4513-a85e-e03d8b78a736",
   "metadata": {},
   "outputs": [
    {
     "name": "stderr",
     "output_type": "stream",
     "text": [
      "100%|██████████| 719/719 [00:03<00:00, 215.38it/s]\n",
      "100%|██████████| 719/719 [00:03<00:00, 199.58it/s]\n",
      "100%|██████████| 719/719 [00:03<00:00, 207.65it/s]\n",
      "100%|██████████| 719/719 [00:03<00:00, 214.83it/s]\n",
      "100%|██████████| 719/719 [00:03<00:00, 216.95it/s]\n"
     ]
    }
   ],
   "source": [
    "image_list = []\n",
    "label_list = []\n",
    "\n",
    "for distorsione in DISTORSIONI:\n",
    "    path_distorsione = f'{IMAGE_PATH_FOLDER}/{distorsione}'\n",
    "    for grado_distorsione in range(GRADI_DISTORSIONE):\n",
    "        label = 100 - float(20 * (grado_distorsione))\n",
    "        path_cartella_grado = f'{path_distorsione}{grado_distorsione}'\n",
    "        immagini_grado = get_immagini_cartella(path_cartella_grado)\n",
    "        image_list.extend(immagini_grado)\n",
    "        label_to_append = [label for x in range(len(immagini_grado))] \n",
    "        label_list.extend(label_to_append)\n",
    "        "
   ]
  },
  {
   "cell_type": "code",
   "execution_count": 5,
   "id": "da019711-7c98-4447-8ffe-fee4224941d6",
   "metadata": {},
   "outputs": [],
   "source": [
    "train_images = np.array(image_list)\n",
    "train_weights = np.array(label_list)"
   ]
  },
  {
   "cell_type": "code",
   "execution_count": 6,
   "id": "397624e4-a422-4267-a1e2-464e3ac96447",
   "metadata": {},
   "outputs": [],
   "source": [
    "X = train_images\n",
    "y = train_weights"
   ]
  },
  {
   "cell_type": "code",
   "execution_count": 7,
   "id": "242a1cd5-0b87-4492-9787-5046bcafc62e",
   "metadata": {},
   "outputs": [],
   "source": [
    "X_train, X_test, y_train, y_test = train_test_split(X, y, test_size=0.2, random_state=42)"
   ]
  },
  {
   "cell_type": "code",
   "execution_count": 8,
   "id": "5ccfb58e-1668-443b-b646-756ab35ceaab",
   "metadata": {},
   "outputs": [
    {
     "name": "stderr",
     "output_type": "stream",
     "text": [
      "2023-07-25 10:40:20.440775: I tensorflow/core/common_runtime/pluggable_device/pluggable_device_factory.cc:305] Could not identify NUMA node of platform GPU ID 0, defaulting to 0. Your kernel may not have been built with NUMA support.\n",
      "2023-07-25 10:40:20.443013: I tensorflow/core/common_runtime/pluggable_device/pluggable_device_factory.cc:271] Created TensorFlow device (/job:localhost/replica:0/task:0/device:GPU:0 with 0 MB memory) -> physical PluggableDevice (device: 0, name: METAL, pci bus id: <undefined>)\n"
     ]
    },
    {
     "name": "stdout",
     "output_type": "stream",
     "text": [
      "Metal device set to: Apple M1 Pro\n"
     ]
    }
   ],
   "source": [
    "model = tf.keras.Sequential([\n",
    "    layers.Conv2D(32, (3, 3), activation='relu', input_shape=(HEIGHT, WIDTH, CHANNELS)),\n",
    "    layers.MaxPooling2D((2, 2)),\n",
    "    layers.Flatten(),\n",
    "    layers.Dense(64, activation='relu'),\n",
    "    layers.Dense(1)  \n",
    "])"
   ]
  },
  {
   "cell_type": "code",
   "execution_count": 9,
   "id": "923e71a8-396a-4892-b0f4-c3d46106f99b",
   "metadata": {},
   "outputs": [],
   "source": [
    "model.compile(optimizer='adam', loss='mae', metrics = ['mae'])"
   ]
  },
  {
   "cell_type": "code",
   "execution_count": null,
   "id": "1551ac73-dc4d-4f1f-98ef-849be8b51acc",
   "metadata": {},
   "outputs": [
    {
     "name": "stdout",
     "output_type": "stream",
     "text": [
      "Epoch 1/20\n"
     ]
    },
    {
     "name": "stderr",
     "output_type": "stream",
     "text": [
      "2023-07-25 10:40:49.400782: W tensorflow/core/platform/profile_utils/cpu_utils.cc:128] Failed to get CPU frequency: 0 Hz\n",
      "2023-07-25 10:40:49.868965: I tensorflow/core/grappler/optimizers/custom_graph_optimizer_registry.cc:113] Plugin optimizer for device_type GPU is enabled.\n"
     ]
    },
    {
     "name": "stdout",
     "output_type": "stream",
     "text": [
      "2876/2876 [==============================] - 312s 107ms/step - loss: 8.7189 - mae: 8.7189\n",
      "Epoch 2/20\n",
      "2876/2876 [==============================] - 304s 106ms/step - loss: 4.8370 - mae: 4.8370\n",
      "Epoch 3/20\n",
      "2876/2876 [==============================] - 304s 106ms/step - loss: 4.0810 - mae: 4.0810\n",
      "Epoch 4/20\n",
      "2876/2876 [==============================] - 304s 106ms/step - loss: 3.5230 - mae: 3.5230\n",
      "Epoch 5/20\n",
      "2876/2876 [==============================] - 303s 105ms/step - loss: 3.1360 - mae: 3.1360\n",
      "Epoch 6/20\n",
      "2876/2876 [==============================] - 305s 106ms/step - loss: 2.8571 - mae: 2.8571\n",
      "Epoch 7/20\n",
      "2876/2876 [==============================] - 302s 105ms/step - loss: 2.6876 - mae: 2.6876\n",
      "Epoch 8/20\n",
      "2876/2876 [==============================] - 302s 105ms/step - loss: 2.7805 - mae: 2.7805\n",
      "Epoch 9/20\n",
      "2876/2876 [==============================] - 302s 105ms/step - loss: 2.2885 - mae: 2.2885\n",
      "Epoch 10/20\n",
      "2876/2876 [==============================] - 302s 105ms/step - loss: 2.5029 - mae: 2.5029\n",
      "Epoch 11/20\n",
      "2876/2876 [==============================] - 303s 105ms/step - loss: 2.2214 - mae: 2.2214\n",
      "Epoch 12/20\n",
      "2876/2876 [==============================] - 305s 106ms/step - loss: 2.2015 - mae: 2.2015\n",
      "Epoch 13/20\n",
      "2876/2876 [==============================] - 305s 106ms/step - loss: 2.2076 - mae: 2.2076\n",
      "Epoch 14/20\n",
      "2876/2876 [==============================] - 305s 106ms/step - loss: 2.2799 - mae: 2.2799\n",
      "Epoch 15/20\n",
      "2876/2876 [==============================] - 332s 115ms/step - loss: 2.3174 - mae: 2.3174\n",
      "Epoch 16/20\n",
      "2876/2876 [==============================] - 335s 116ms/step - loss: 2.1851 - mae: 2.1851\n",
      "Epoch 17/20\n",
      "2876/2876 [==============================] - 324s 113ms/step - loss: 2.1574 - mae: 2.1574\n",
      "Epoch 18/20\n",
      "2876/2876 [==============================] - 308s 107ms/step - loss: 2.0184 - mae: 2.0184\n",
      "Epoch 19/20\n",
      "2876/2876 [==============================] - 306s 106ms/step - loss: 2.2181 - mae: 2.2181\n",
      "Epoch 20/20\n",
      " 291/2876 [==>...........................] - ETA: 4:46 - loss: 2.1413 - mae: 2.1413"
     ]
    }
   ],
   "source": [
    "model.fit(x=X_train, y=y_train, batch_size=1, epochs=20)"
   ]
  },
  {
   "cell_type": "code",
   "execution_count": null,
   "id": "3e9071f6-20f3-4c14-820e-779c0e2c0e15",
   "metadata": {},
   "outputs": [],
   "source": [
    "predictions = model.predict(X_test)"
   ]
  },
  {
   "cell_type": "code",
   "execution_count": null,
   "id": "fa461278-e8fa-43cb-85ef-b452d3d14e8d",
   "metadata": {},
   "outputs": [],
   "source": [
    "predictions_list = [i[0] for i in predictions] "
   ]
  },
  {
   "cell_type": "code",
   "execution_count": null,
   "id": "afff2ad8-a7e3-413a-b7c3-b7da31d0cd79",
   "metadata": {},
   "outputs": [],
   "source": [
    "clamp_pred = [min(100,i) for i in predictions_list]\n",
    "clamp_pred = [max(0,i) for i in clamp_pred]"
   ]
  },
  {
   "cell_type": "code",
   "execution_count": null,
   "id": "487290e7-05d3-4148-b8a2-5460e599c6bb",
   "metadata": {},
   "outputs": [],
   "source": [
    "max(abs(clamp_pred  - y_test))"
   ]
  },
  {
   "cell_type": "code",
   "execution_count": null,
   "id": "8047264e-1db6-49f4-b684-6d7711f8789b",
   "metadata": {},
   "outputs": [],
   "source": [
    "def avg(lst):\n",
    "    return sum(lst) / len(lst)\n",
    "\n",
    "avg(abs(clamp_pred - y_test))"
   ]
  },
  {
   "cell_type": "code",
   "execution_count": null,
   "id": "4bf774b8-6919-4531-acd3-1a9e92e15cf8",
   "metadata": {},
   "outputs": [],
   "source": [
    "model.save('../../Modelli-v2/modello_pesi_inizializzati_gaussian_blur')"
   ]
  }
 ],
 "metadata": {
  "kernelspec": {
   "display_name": "Python 3 (ipykernel)",
   "language": "python",
   "name": "python3"
  },
  "language_info": {
   "codemirror_mode": {
    "name": "ipython",
    "version": 3
   },
   "file_extension": ".py",
   "mimetype": "text/x-python",
   "name": "python",
   "nbconvert_exporter": "python",
   "pygments_lexer": "ipython3",
   "version": "3.9.12"
  }
 },
 "nbformat": 4,
 "nbformat_minor": 5
}
