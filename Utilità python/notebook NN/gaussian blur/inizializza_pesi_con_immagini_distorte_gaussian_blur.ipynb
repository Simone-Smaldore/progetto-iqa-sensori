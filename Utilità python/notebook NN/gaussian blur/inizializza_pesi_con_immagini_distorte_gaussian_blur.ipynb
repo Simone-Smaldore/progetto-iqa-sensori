{
 "cells": [
  {
   "cell_type": "code",
   "execution_count": 13,
   "id": "94a7e2c6-c6e3-4d46-840b-dd7b87df1b6d",
   "metadata": {},
   "outputs": [],
   "source": [
    "import pandas as pd\n",
    "from PIL import Image\n",
    "import os\n",
    "import numpy as np\n",
    "import tensorflow as tf\n",
    "from tensorflow.keras import layers\n",
    "from tqdm import tqdm\n",
    "from sklearn.model_selection import train_test_split"
   ]
  },
  {
   "cell_type": "markdown",
   "id": "c6fa54c0-4c53-4458-ac8c-dd63b6b8317d",
   "metadata": {},
   "source": [
    "### Caricamento delle immagini in input in formato array numpy"
   ]
  },
  {
   "cell_type": "code",
   "execution_count": 5,
   "id": "f9d02f45-0edd-4297-a262-8994a930fa1e",
   "metadata": {},
   "outputs": [],
   "source": [
    "# IMAGE_PATH_FOLDER = './Dati Sensori/Dataset Sensori Lavorato/1_M/1_M_1'\n",
    "IMAGE_PATH_FOLDER = '../Dati Sensori/Dataset Distorto'\n",
    "\n",
    "# Specificare solamente una tipologia di speckle\n",
    "DISTORSIONI = ['gaussian blur nome prima parte cartella']\n",
    "GRADI_DISTORSIONE = 5\n",
    "\n",
    "HEIGHT = 512\n",
    "WIDTH = 512\n",
    "\n",
    "TARGET_SIZE = (WIDTH, HEIGHT)\n",
    "CHANNELS = 1 # Scala di grigi"
   ]
  },
  {
   "cell_type": "code",
   "execution_count": 6,
   "id": "5a8ea90d-12d4-44f8-81cf-509c8c8997ec",
   "metadata": {},
   "outputs": [],
   "source": [
    "def get_sotto_cartelle(path):\n",
    "    return [x[1] for x in os.walk(path)][0]\n",
    "\n",
    "def get_immagini_cartella(path_cartella):\n",
    "    immagini_cartella = []\n",
    "    cartelle_soggetti = get_sotto_cartelle(path_cartella)\n",
    "    for soggetto in tqdm(cartelle_soggetti):\n",
    "        path_soggetto = f'{path_cartella}/{soggetto}'\n",
    "        cartelle_acquisizioni = get_sotto_cartelle(path_soggetto)\n",
    "        for acquisizione in cartelle_acquisizioni:\n",
    "            path_acquisizione = f'{path_soggetto}/{acquisizione}'\n",
    "            for filename in os.listdir(path_acquisizione):\n",
    "                # if (filename.endswith(\".jpg\") or filename.endswith(\".png\"):\n",
    "                if (filename.endswith(\"_1.jpg\")):    \n",
    "                    path_file = f'{path_acquisizione}/{filename}'\n",
    "                    immagine = get_immagine_da_path(path_file)\n",
    "                    immagini_cartella.append(immagine)\n",
    "    return immagini_cartella\n",
    "                    \n",
    "def get_immagine_da_path(path_file):\n",
    "    image = Image.open(path_file).convert('L')\n",
    "    resized_image = image.resize(TARGET_SIZE)\n",
    "    image_array = np.array(resized_image)\n",
    "    normalized_image_array = image_array / 255.0\n",
    "    return normalized_image_array\n"
   ]
  },
  {
   "cell_type": "code",
   "execution_count": 7,
   "id": "051017d7-98e9-4513-a85e-e03d8b78a736",
   "metadata": {},
   "outputs": [
    {
     "name": "stderr",
     "output_type": "stream",
     "text": [
      "100%|██████████| 14/14 [00:00<00:00, 14.48it/s]\n",
      "100%|██████████| 14/14 [00:01<00:00, 12.01it/s]\n",
      "100%|██████████| 14/14 [00:01<00:00, 10.79it/s]\n",
      "100%|██████████| 14/14 [00:01<00:00, 10.41it/s]\n",
      "100%|██████████| 14/14 [00:01<00:00, 10.82it/s]\n"
     ]
    }
   ],
   "source": [
    "image_list = []\n",
    "label_list = []\n",
    "\n",
    "for distorsione in DISTORSIONI:\n",
    "    path_distorsione = f'{IMAGE_PATH_FOLDER}/Dataset Sensori {distorsione}'\n",
    "    for grado_distorsione in range(GRADI_DISTORSIONE):\n",
    "        label = 100 - float(20 * (grado_distorsione))\n",
    "        path_cartella_grado = f'{path_distorsione}{grado_distorsione}'\n",
    "        immagini_grado = get_immagini_cartella(path_cartella_grado)\n",
    "        image_list.extend(immagini_grado)\n",
    "        label_to_append = [label for x in range(len(immagini_grado))] \n",
    "        label_list.extend(label_to_append)\n",
    "        "
   ]
  },
  {
   "cell_type": "code",
   "execution_count": 8,
   "id": "da019711-7c98-4447-8ffe-fee4224941d6",
   "metadata": {},
   "outputs": [],
   "source": [
    "train_images = np.array(image_list)\n",
    "train_weights = np.array(label_list)"
   ]
  },
  {
   "cell_type": "code",
   "execution_count": 12,
   "id": "397624e4-a422-4267-a1e2-464e3ac96447",
   "metadata": {},
   "outputs": [],
   "source": [
    "X = train_images\n",
    "y = train_weights"
   ]
  },
  {
   "cell_type": "code",
   "execution_count": 14,
   "id": "242a1cd5-0b87-4492-9787-5046bcafc62e",
   "metadata": {},
   "outputs": [],
   "source": [
    "X_train, X_test, y_train, y_test = train_test_split(X, y, test_size=0.2, random_state=42)"
   ]
  },
  {
   "cell_type": "code",
   "execution_count": 15,
   "id": "5ccfb58e-1668-443b-b646-756ab35ceaab",
   "metadata": {},
   "outputs": [],
   "source": [
    "model = tf.keras.Sequential([\n",
    "    layers.Conv2D(32, (3, 3), activation='relu', input_shape=(HEIGHT, WIDTH, CHANNELS)),\n",
    "    layers.MaxPooling2D((2, 2)),\n",
    "    layers.Flatten(),\n",
    "    layers.Dense(64, activation='relu'),\n",
    "    layers.Dense(1)  \n",
    "])"
   ]
  },
  {
   "cell_type": "code",
   "execution_count": 16,
   "id": "923e71a8-396a-4892-b0f4-c3d46106f99b",
   "metadata": {},
   "outputs": [],
   "source": [
    "model.compile(optimizer='adam', loss='mae', metrics = ['mae'])"
   ]
  },
  {
   "cell_type": "code",
   "execution_count": 28,
   "id": "1551ac73-dc4d-4f1f-98ef-849be8b51acc",
   "metadata": {},
   "outputs": [],
   "source": [
    "model.fit(x=X_train, y=y_train, batch_size=1, epochs=30)"
   ]
  },
  {
   "cell_type": "code",
   "execution_count": 18,
   "id": "3e9071f6-20f3-4c14-820e-779c0e2c0e15",
   "metadata": {},
   "outputs": [
    {
     "name": "stdout",
     "output_type": "stream",
     "text": [
      "1/7 [===>..........................] - ETA: 0s"
     ]
    },
    {
     "name": "stderr",
     "output_type": "stream",
     "text": [
      "2023-07-22 17:13:13.467098: I tensorflow/core/grappler/optimizers/custom_graph_optimizer_registry.cc:113] Plugin optimizer for device_type GPU is enabled.\n"
     ]
    },
    {
     "name": "stdout",
     "output_type": "stream",
     "text": [
      "7/7 [==============================] - 2s 315ms/step\n"
     ]
    }
   ],
   "source": [
    "predictions = model.predict(X_test)"
   ]
  },
  {
   "cell_type": "code",
   "execution_count": 19,
   "id": "fa461278-e8fa-43cb-85ef-b452d3d14e8d",
   "metadata": {},
   "outputs": [],
   "source": [
    "predictions_list = [i[0] for i in predictions] "
   ]
  },
  {
   "cell_type": "code",
   "execution_count": 26,
   "id": "487290e7-05d3-4148-b8a2-5460e599c6bb",
   "metadata": {},
   "outputs": [
    {
     "data": {
      "text/plain": [
       "41.08346176147461"
      ]
     },
     "execution_count": 26,
     "metadata": {},
     "output_type": "execute_result"
    }
   ],
   "source": [
    "max(abs(predictions_list  - y_test))"
   ]
  },
  {
   "cell_type": "code",
   "execution_count": 27,
   "id": "8047264e-1db6-49f4-b684-6d7711f8789b",
   "metadata": {},
   "outputs": [
    {
     "data": {
      "text/plain": [
       "41.08346176147461"
      ]
     },
     "execution_count": 27,
     "metadata": {},
     "output_type": "execute_result"
    }
   ],
   "source": [
    "def avg(lst):\n",
    "    return sum(lst) / len(lst)\n",
    "\n",
    "max(abs(predictions_list - y_test))"
   ]
  },
  {
   "cell_type": "code",
   "execution_count": 30,
   "id": "4bf774b8-6919-4531-acd3-1a9e92e15cf8",
   "metadata": {},
   "outputs": [
    {
     "name": "stderr",
     "output_type": "stream",
     "text": [
      "WARNING:absl:Found untraced functions such as _jit_compiled_convolution_op while saving (showing 1 of 1). These functions will not be directly callable after loading.\n"
     ]
    },
    {
     "name": "stdout",
     "output_type": "stream",
     "text": [
      "INFO:tensorflow:Assets written to: ../Modelli/modello_pesi_inizializzati_gaussian_blur/assets\n"
     ]
    },
    {
     "name": "stderr",
     "output_type": "stream",
     "text": [
      "INFO:tensorflow:Assets written to: ../Modelli/modello_pesi_inizializzati_gaussian_blur/assets\n"
     ]
    }
   ],
   "source": [
    "model.save('../../Modelli/modello_pesi_inizializzati_gaussian_blur')"
   ]
  }
 ],
 "metadata": {
  "kernelspec": {
   "display_name": "Python 3 (ipykernel)",
   "language": "python",
   "name": "python3"
  },
  "language_info": {
   "codemirror_mode": {
    "name": "ipython",
    "version": 3
   },
   "file_extension": ".py",
   "mimetype": "text/x-python",
   "name": "python",
   "nbconvert_exporter": "python",
   "pygments_lexer": "ipython3",
   "version": "3.9.12"
  }
 },
 "nbformat": 4,
 "nbformat_minor": 5
}
