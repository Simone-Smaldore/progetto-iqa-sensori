{
 "cells": [
  {
   "cell_type": "code",
   "execution_count": 12,
   "id": "9af4c3cc-95a0-4650-a43e-0823066843c4",
   "metadata": {},
   "outputs": [],
   "source": [
    "import os\n",
    "import pickle\n",
    "import numpy as np\n",
    "import pandas as pd\n",
    "import tensorflow as tf\n",
    "from tensorflow import keras\n",
    "from tensorflow.keras import layers\n",
    "from PIL import Image"
   ]
  },
  {
   "cell_type": "code",
   "execution_count": 44,
   "id": "445c1d7b-0037-4d83-8a93-ee8205f619fb",
   "metadata": {},
   "outputs": [],
   "source": [
    "PATH_CSV_LABELS = 'tabellaPseudoLabels.csv'\n",
    "PATH_DATASET_LAVORATO = './Dati Sensori/Dataset Sensori Lavorato'\n",
    "PATH_MODELLO = 'Modelli/modello_pesi_inizializzati_v1'\n",
    "PATH_MODELLO_FINALE = 'Modelli/modello_finale_v1'\n",
    "PATH_MODELLO_FINALE_RIADDESTRATO = 'Modelli/modello_finale_riaddestrato_v1'\n",
    "\n",
    "N_IMG = 1\n",
    "FORMATO_IMG = 'jpg'\n",
    "CHANNELS = 1\n",
    "HEIGHT = 512\n",
    "WIDTH = 512\n",
    "TARGET_SIZE = (WIDTH, HEIGHT)\n",
    "\n",
    "HUBER_DELTA = 1.0"
   ]
  },
  {
   "cell_type": "code",
   "execution_count": 3,
   "id": "ba7566c8-4967-463c-963b-b240579144dd",
   "metadata": {},
   "outputs": [
    {
     "data": {
      "text/html": [
       "<div>\n",
       "<style scoped>\n",
       "    .dataframe tbody tr th:only-of-type {\n",
       "        vertical-align: middle;\n",
       "    }\n",
       "\n",
       "    .dataframe tbody tr th {\n",
       "        vertical-align: top;\n",
       "    }\n",
       "\n",
       "    .dataframe thead th {\n",
       "        text-align: right;\n",
       "    }\n",
       "</style>\n",
       "<table border=\"1\" class=\"dataframe\">\n",
       "  <thead>\n",
       "    <tr style=\"text-align: right;\">\n",
       "      <th></th>\n",
       "      <th>Acquisizione</th>\n",
       "      <th>Label</th>\n",
       "      <th>Label_norm</th>\n",
       "    </tr>\n",
       "  </thead>\n",
       "  <tbody>\n",
       "    <tr>\n",
       "      <th>0</th>\n",
       "      <td>12_M_1</td>\n",
       "      <td>0.558931</td>\n",
       "      <td>14.387763</td>\n",
       "    </tr>\n",
       "    <tr>\n",
       "      <th>1</th>\n",
       "      <td>12_M_2</td>\n",
       "      <td>0.848155</td>\n",
       "      <td>90.057848</td>\n",
       "    </tr>\n",
       "    <tr>\n",
       "      <th>2</th>\n",
       "      <td>12_M_3</td>\n",
       "      <td>0.886156</td>\n",
       "      <td>100.000000</td>\n",
       "    </tr>\n",
       "    <tr>\n",
       "      <th>3</th>\n",
       "      <td>12_M_4</td>\n",
       "      <td>0.771945</td>\n",
       "      <td>70.119024</td>\n",
       "    </tr>\n",
       "    <tr>\n",
       "      <th>4</th>\n",
       "      <td>12_M_5</td>\n",
       "      <td>0.744003</td>\n",
       "      <td>62.808388</td>\n",
       "    </tr>\n",
       "  </tbody>\n",
       "</table>\n",
       "</div>"
      ],
      "text/plain": [
       "  Acquisizione     Label  Label_norm\n",
       "0       12_M_1  0.558931   14.387763\n",
       "1       12_M_2  0.848155   90.057848\n",
       "2       12_M_3  0.886156  100.000000\n",
       "3       12_M_4  0.771945   70.119024\n",
       "4       12_M_5  0.744003   62.808388"
      ]
     },
     "execution_count": 3,
     "metadata": {},
     "output_type": "execute_result"
    }
   ],
   "source": [
    "df_labels = pd.read_csv(PATH_CSV_LABELS)\n",
    "df_labels.head(5)"
   ]
  },
  {
   "cell_type": "code",
   "execution_count": 4,
   "id": "1ed55b97-be10-4e92-97c3-452f5a30e834",
   "metadata": {},
   "outputs": [],
   "source": [
    "def get_id_soggetto(id_acquisizione):\n",
    "    id_acquisizione = id_acquisizione.split('_')\n",
    "    n_soggetto = id_acquisizione[0]\n",
    "    sesso_soggetto = id_acquisizione[1]\n",
    "    return f\"{n_soggetto}_{sesso_soggetto}\""
   ]
  },
  {
   "cell_type": "code",
   "execution_count": 5,
   "id": "e5f632a9-53d2-424b-8d26-5c3518c73c0a",
   "metadata": {},
   "outputs": [],
   "source": [
    "X = []\n",
    "y = []\n",
    "\n",
    "for id_acquisizione in df_labels.Acquisizione:\n",
    "    nome_file = f\"{id_acquisizione}_img_{N_IMG}.{FORMATO_IMG}\"\n",
    "    path_img = os.path.join(PATH_DATASET_LAVORATO, get_id_soggetto(id_acquisizione), id_acquisizione, nome_file)\n",
    "    image = Image.open(path_img)\n",
    "    resized_image = image.resize(TARGET_SIZE)\n",
    "    image_array = np.array(resized_image)\n",
    "    normalized_image_array = image_array / 255.0\n",
    "    \n",
    "    pseudo_label = df_labels[df_labels.Acquisizione == id_acquisizione].Label_norm\n",
    "    \n",
    "    X.append(normalized_image_array)\n",
    "    y.append(pseudo_label)\n",
    "    \n",
    "X = np.array(X)\n",
    "y = np.array(y)"
   ]
  },
  {
   "cell_type": "code",
   "execution_count": 6,
   "id": "1388e1a1-c8ca-4703-8ccd-4e1028f667d3",
   "metadata": {},
   "outputs": [
    {
     "name": "stdout",
     "output_type": "stream",
     "text": [
      "Model: \"sequential\"\n",
      "_________________________________________________________________\n",
      " Layer (type)                Output Shape              Param #   \n",
      "=================================================================\n",
      " conv2d (Conv2D)             (None, 510, 510, 32)      320       \n",
      "                                                                 \n",
      " max_pooling2d (MaxPooling2D  (None, 255, 255, 32)     0         \n",
      " )                                                               \n",
      "                                                                 \n",
      " flatten (Flatten)           (None, 2080800)           0         \n",
      "                                                                 \n",
      " dense (Dense)               (None, 64)                133171264 \n",
      "                                                                 \n",
      " dense_1 (Dense)             (None, 1)                 65        \n",
      "                                                                 \n",
      "=================================================================\n",
      "Total params: 133,171,649\n",
      "Trainable params: 133,171,649\n",
      "Non-trainable params: 0\n",
      "_________________________________________________________________\n"
     ]
    }
   ],
   "source": [
    "model = keras.models.load_model(PATH_MODELLO)\n",
    "model.summary()"
   ]
  },
  {
   "cell_type": "code",
   "execution_count": 7,
   "id": "f8f298d0-33dd-494e-9f85-22aa4d7601b5",
   "metadata": {},
   "outputs": [
    {
     "name": "stdout",
     "output_type": "stream",
     "text": [
      "Epoch 1/20\n",
      "30/30 [==============================] - 15s 470ms/step - loss: 26.7575 - mae: 26.7575\n",
      "Epoch 2/20\n",
      "30/30 [==============================] - 14s 471ms/step - loss: 22.8952 - mae: 22.8952\n",
      "Epoch 3/20\n",
      "30/30 [==============================] - 14s 469ms/step - loss: 22.2681 - mae: 22.2681\n",
      "Epoch 4/20\n",
      "30/30 [==============================] - 14s 470ms/step - loss: 21.7695 - mae: 21.7695\n",
      "Epoch 5/20\n",
      "30/30 [==============================] - 14s 470ms/step - loss: 20.6866 - mae: 20.6866\n",
      "Epoch 6/20\n",
      "30/30 [==============================] - 14s 465ms/step - loss: 19.9276 - mae: 19.9276\n",
      "Epoch 7/20\n",
      "30/30 [==============================] - 14s 471ms/step - loss: 19.0098 - mae: 19.0098\n",
      "Epoch 8/20\n",
      "30/30 [==============================] - 14s 472ms/step - loss: 17.8099 - mae: 17.8099\n",
      "Epoch 9/20\n",
      "30/30 [==============================] - 14s 472ms/step - loss: 16.5673 - mae: 16.5673\n",
      "Epoch 10/20\n",
      "30/30 [==============================] - 14s 469ms/step - loss: 13.6656 - mae: 13.6656\n",
      "Epoch 11/20\n",
      "30/30 [==============================] - 14s 475ms/step - loss: 12.9813 - mae: 12.9813\n",
      "Epoch 12/20\n",
      "30/30 [==============================] - 14s 469ms/step - loss: 9.1610 - mae: 9.1610\n",
      "Epoch 13/20\n",
      "30/30 [==============================] - 14s 463ms/step - loss: 8.2789 - mae: 8.2789\n",
      "Epoch 14/20\n",
      "30/30 [==============================] - 14s 474ms/step - loss: 7.2747 - mae: 7.2747\n",
      "Epoch 15/20\n",
      "30/30 [==============================] - 14s 469ms/step - loss: 5.5555 - mae: 5.5555\n",
      "Epoch 16/20\n",
      "30/30 [==============================] - 14s 467ms/step - loss: 4.6678 - mae: 4.6678\n",
      "Epoch 17/20\n",
      "30/30 [==============================] - 14s 470ms/step - loss: 6.1483 - mae: 6.1483\n",
      "Epoch 18/20\n",
      "30/30 [==============================] - 14s 477ms/step - loss: 5.1601 - mae: 5.1601\n",
      "Epoch 19/20\n",
      "30/30 [==============================] - 14s 470ms/step - loss: 4.2638 - mae: 4.2638\n",
      "Epoch 20/20\n",
      "30/30 [==============================] - 14s 461ms/step - loss: 2.9684 - mae: 2.9684\n"
     ]
    },
    {
     "data": {
      "text/plain": [
       "<keras.callbacks.History at 0x7f9b90048670>"
      ]
     },
     "execution_count": 7,
     "metadata": {},
     "output_type": "execute_result"
    }
   ],
   "source": [
    "model.fit(x=X, y=y, batch_size=1, epochs=20)"
   ]
  },
  {
   "cell_type": "code",
   "execution_count": 8,
   "id": "31a6516a-696d-4d28-a9c2-3ebf7b74c5cf",
   "metadata": {},
   "outputs": [
    {
     "name": "stdout",
     "output_type": "stream",
     "text": [
      "1/1 [==============================] - 1s 569ms/step\n"
     ]
    },
    {
     "data": {
      "text/plain": [
       "array([[13.310622 ],\n",
       "       [86.78608  ],\n",
       "       [97.427986 ],\n",
       "       [67.046776 ],\n",
       "       [56.174347 ],\n",
       "       [ 5.7214327],\n",
       "       [67.83462  ],\n",
       "       [48.542877 ],\n",
       "       [70.3464   ],\n",
       "       [64.93754  ],\n",
       "       [29.97097  ],\n",
       "       [55.259003 ],\n",
       "       [73.60178  ],\n",
       "       [10.185326 ],\n",
       "       [54.465794 ],\n",
       "       [32.542233 ],\n",
       "       [33.75649  ],\n",
       "       [61.59501  ],\n",
       "       [65.85577  ],\n",
       "       [62.02124  ],\n",
       "       [29.181412 ],\n",
       "       [43.423046 ],\n",
       "       [40.91028  ],\n",
       "       [51.24464  ],\n",
       "       [72.74597  ],\n",
       "       [19.589087 ],\n",
       "       [18.941109 ],\n",
       "       [ 8.066226 ],\n",
       "       [39.02061  ],\n",
       "       [24.834421 ]], dtype=float32)"
      ]
     },
     "execution_count": 8,
     "metadata": {},
     "output_type": "execute_result"
    }
   ],
   "source": [
    "model.predict(X)"
   ]
  },
  {
   "cell_type": "code",
   "execution_count": 9,
   "id": "0bead794-7dc3-4fc8-afe2-1b43e34ff791",
   "metadata": {},
   "outputs": [
    {
     "data": {
      "text/plain": [
       "array([[ 14.38776324],\n",
       "       [ 90.05784833],\n",
       "       [100.        ],\n",
       "       [ 70.11902421],\n",
       "       [ 62.8083878 ],\n",
       "       [  0.        ],\n",
       "       [ 75.6853248 ],\n",
       "       [ 53.78656739],\n",
       "       [ 73.88803792],\n",
       "       [ 69.96671962],\n",
       "       [ 31.43078081],\n",
       "       [ 61.84041709],\n",
       "       [ 73.70590257],\n",
       "       [  1.90248829],\n",
       "       [ 61.10732865],\n",
       "       [ 31.94502288],\n",
       "       [ 36.98859557],\n",
       "       [ 64.10041713],\n",
       "       [ 71.95538621],\n",
       "       [ 62.96287593],\n",
       "       [ 33.46659409],\n",
       "       [ 45.18621211],\n",
       "       [ 48.7416397 ],\n",
       "       [ 54.43098089],\n",
       "       [ 75.04505273],\n",
       "       [ 21.64331626],\n",
       "       [ 25.37730258],\n",
       "       [  6.16541405],\n",
       "       [ 41.17895281],\n",
       "       [ 24.97404123]])"
      ]
     },
     "execution_count": 9,
     "metadata": {},
     "output_type": "execute_result"
    }
   ],
   "source": [
    "y"
   ]
  },
  {
   "cell_type": "code",
   "execution_count": 11,
   "id": "c29a54fb-9895-41e2-b6af-a9557d7f88c2",
   "metadata": {},
   "outputs": [
    {
     "name": "stderr",
     "output_type": "stream",
     "text": [
      "WARNING:absl:Found untraced functions such as _jit_compiled_convolution_op while saving (showing 1 of 1). These functions will not be directly callable after loading.\n"
     ]
    },
    {
     "name": "stdout",
     "output_type": "stream",
     "text": [
      "INFO:tensorflow:Assets written to: Modelli/modello_finale_v1/assets\n"
     ]
    },
    {
     "name": "stderr",
     "output_type": "stream",
     "text": [
      "INFO:tensorflow:Assets written to: Modelli/modello_finale_v1/assets\n"
     ]
    }
   ],
   "source": [
    "model.save(PATH_MODELLO_FINALE)"
   ]
  },
  {
   "cell_type": "markdown",
   "id": "f97435d4-7b12-4da5-9420-b943fab1d500",
   "metadata": {},
   "source": [
    "## Addestramento nuovo modello con Huber loss"
   ]
  },
  {
   "cell_type": "code",
   "execution_count": 36,
   "id": "4704e8a9-08fa-4b1a-b65b-e183a0eea772",
   "metadata": {},
   "outputs": [],
   "source": [
    "conv1_weights = model.layers[0].weights\n",
    "dense1_weights = model.layers[3].weights\n",
    "dense2_weights = model.layers[4].weights\n",
    "\n",
    "new_model = tf.keras.Sequential([\n",
    "    layers.Conv2D(32, (3, 3), activation='relu', input_shape=(HEIGHT, WIDTH, CHANNELS), weights=conv1_weights),\n",
    "    layers.MaxPooling2D((2, 2)),\n",
    "    layers.Flatten(),\n",
    "    layers.Dense(64, activation='relu', weights=dense1_weights),\n",
    "    layers.Dense(1, weights=dense2_weights)\n",
    "])"
   ]
  },
  {
   "cell_type": "code",
   "execution_count": 39,
   "id": "75607e0c-9bcf-4b7b-9dec-aead6a26ccbd",
   "metadata": {},
   "outputs": [],
   "source": [
    "new_model.compile(optimizer='adam', loss=tf.keras.losses.Huber(delta=HUBER_DELTA), metrics=['mae'])"
   ]
  },
  {
   "cell_type": "code",
   "execution_count": 40,
   "id": "8d673455-d95e-4640-8dfe-ac9c9df0eb8f",
   "metadata": {},
   "outputs": [
    {
     "name": "stdout",
     "output_type": "stream",
     "text": [
      "Epoch 1/20\n",
      "30/30 [==============================] - 36s 1s/step - loss: 2.5977 - mae: 3.0546\n",
      "Epoch 2/20\n",
      "30/30 [==============================] - 35s 1s/step - loss: 2.2721 - mae: 2.7003\n",
      "Epoch 3/20\n",
      "30/30 [==============================] - 35s 1s/step - loss: 2.4918 - mae: 2.9762\n",
      "Epoch 4/20\n",
      "30/30 [==============================] - 35s 1s/step - loss: 2.6903 - mae: 3.1549\n",
      "Epoch 5/20\n",
      "30/30 [==============================] - 35s 1s/step - loss: 0.7914 - mae: 1.2215\n",
      "Epoch 6/20\n",
      "30/30 [==============================] - 36s 1s/step - loss: 1.1671 - mae: 1.5990\n",
      "Epoch 7/20\n",
      "30/30 [==============================] - 36s 1s/step - loss: 0.8600 - mae: 1.2721\n",
      "Epoch 8/20\n",
      "30/30 [==============================] - 37s 1s/step - loss: 0.7616 - mae: 1.1599\n",
      "Epoch 9/20\n",
      "30/30 [==============================] - 36s 1s/step - loss: 1.1982 - mae: 1.6247\n",
      "Epoch 10/20\n",
      "30/30 [==============================] - 36s 1s/step - loss: 2.1240 - mae: 2.5760\n",
      "Epoch 11/20\n",
      "30/30 [==============================] - 37s 1s/step - loss: 1.0914 - mae: 1.5580\n",
      "Epoch 12/20\n",
      "30/30 [==============================] - 37s 1s/step - loss: 2.0726 - mae: 2.5540\n",
      "Epoch 13/20\n",
      "30/30 [==============================] - 38s 1s/step - loss: 1.5229 - mae: 1.9588\n",
      "Epoch 14/20\n",
      "30/30 [==============================] - 36s 1s/step - loss: 1.3800 - mae: 1.7950\n",
      "Epoch 15/20\n",
      "30/30 [==============================] - 36s 1s/step - loss: 1.0229 - mae: 1.4193\n",
      "Epoch 16/20\n",
      "30/30 [==============================] - 35s 1s/step - loss: 1.0202 - mae: 1.4488\n",
      "Epoch 17/20\n",
      "30/30 [==============================] - 36s 1s/step - loss: 0.9206 - mae: 1.3301\n",
      "Epoch 18/20\n",
      "30/30 [==============================] - 36s 1s/step - loss: 0.8840 - mae: 1.2847\n",
      "Epoch 19/20\n",
      "30/30 [==============================] - 36s 1s/step - loss: 1.3434 - mae: 1.8001\n",
      "Epoch 20/20\n",
      "30/30 [==============================] - 36s 1s/step - loss: 1.0125 - mae: 1.4341\n"
     ]
    },
    {
     "data": {
      "text/plain": [
       "<keras.callbacks.History at 0x7f9bc13390a0>"
      ]
     },
     "execution_count": 40,
     "metadata": {},
     "output_type": "execute_result"
    }
   ],
   "source": [
    "new_model.fit(x=X, y=y, batch_size=1, epochs=20)"
   ]
  },
  {
   "cell_type": "code",
   "execution_count": 41,
   "id": "2c23710f-0d3a-409d-8a53-4ec22c82b6c1",
   "metadata": {},
   "outputs": [
    {
     "name": "stdout",
     "output_type": "stream",
     "text": [
      "1/1 [==============================] - 1s 1s/step\n"
     ]
    },
    {
     "data": {
      "text/plain": [
       "array([[15.588796 ],\n",
       "       [86.49542  ],\n",
       "       [96.01784  ],\n",
       "       [69.962494 ],\n",
       "       [59.4548   ],\n",
       "       [ 2.271685 ],\n",
       "       [76.13985  ],\n",
       "       [51.673805 ],\n",
       "       [72.6875   ],\n",
       "       [66.72004  ],\n",
       "       [32.07514  ],\n",
       "       [61.118534 ],\n",
       "       [70.90638  ],\n",
       "       [ 2.271685 ],\n",
       "       [59.40814  ],\n",
       "       [30.268415 ],\n",
       "       [35.656864 ],\n",
       "       [62.4236   ],\n",
       "       [69.06589  ],\n",
       "       [60.893192 ],\n",
       "       [32.62777  ],\n",
       "       [44.50001  ],\n",
       "       [47.18455  ],\n",
       "       [54.385796 ],\n",
       "       [72.56381  ],\n",
       "       [19.149496 ],\n",
       "       [26.162617 ],\n",
       "       [ 4.6359863],\n",
       "       [37.129784 ],\n",
       "       [24.908323 ]], dtype=float32)"
      ]
     },
     "execution_count": 41,
     "metadata": {},
     "output_type": "execute_result"
    }
   ],
   "source": [
    "new_model.predict(X)"
   ]
  },
  {
   "cell_type": "code",
   "execution_count": 42,
   "id": "aa8dc821-2c17-411d-8cc4-68bb32c7d43d",
   "metadata": {},
   "outputs": [
    {
     "data": {
      "text/plain": [
       "array([[ 14.38776324],\n",
       "       [ 90.05784833],\n",
       "       [100.        ],\n",
       "       [ 70.11902421],\n",
       "       [ 62.8083878 ],\n",
       "       [  0.        ],\n",
       "       [ 75.6853248 ],\n",
       "       [ 53.78656739],\n",
       "       [ 73.88803792],\n",
       "       [ 69.96671962],\n",
       "       [ 31.43078081],\n",
       "       [ 61.84041709],\n",
       "       [ 73.70590257],\n",
       "       [  1.90248829],\n",
       "       [ 61.10732865],\n",
       "       [ 31.94502288],\n",
       "       [ 36.98859557],\n",
       "       [ 64.10041713],\n",
       "       [ 71.95538621],\n",
       "       [ 62.96287593],\n",
       "       [ 33.46659409],\n",
       "       [ 45.18621211],\n",
       "       [ 48.7416397 ],\n",
       "       [ 54.43098089],\n",
       "       [ 75.04505273],\n",
       "       [ 21.64331626],\n",
       "       [ 25.37730258],\n",
       "       [  6.16541405],\n",
       "       [ 41.17895281],\n",
       "       [ 24.97404123]])"
      ]
     },
     "execution_count": 42,
     "metadata": {},
     "output_type": "execute_result"
    }
   ],
   "source": [
    "y"
   ]
  },
  {
   "cell_type": "code",
   "execution_count": 45,
   "id": "74c30b7a-74b8-43e2-9c7d-14a282e28ad1",
   "metadata": {},
   "outputs": [
    {
     "name": "stderr",
     "output_type": "stream",
     "text": [
      "WARNING:absl:Found untraced functions such as _jit_compiled_convolution_op, _update_step_xla while saving (showing 2 of 2). These functions will not be directly callable after loading.\n"
     ]
    },
    {
     "name": "stdout",
     "output_type": "stream",
     "text": [
      "INFO:tensorflow:Assets written to: Modelli/modello_finale_riaddestrato_v1/assets\n"
     ]
    },
    {
     "name": "stderr",
     "output_type": "stream",
     "text": [
      "INFO:tensorflow:Assets written to: Modelli/modello_finale_riaddestrato_v1/assets\n"
     ]
    }
   ],
   "source": [
    "new_model.save(PATH_MODELLO_FINALE_RIADDESTRATO)"
   ]
  }
 ],
 "metadata": {
  "kernelspec": {
   "display_name": "Python 3 (ipykernel)",
   "language": "python",
   "name": "python3"
  },
  "language_info": {
   "codemirror_mode": {
    "name": "ipython",
    "version": 3
   },
   "file_extension": ".py",
   "mimetype": "text/x-python",
   "name": "python",
   "nbconvert_exporter": "python",
   "pygments_lexer": "ipython3",
   "version": "3.9.7"
  }
 },
 "nbformat": 4,
 "nbformat_minor": 5
}
