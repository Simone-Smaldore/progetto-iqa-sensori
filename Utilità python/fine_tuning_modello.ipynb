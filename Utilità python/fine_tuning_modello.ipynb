{
 "cells": [
  {
   "cell_type": "code",
   "execution_count": 1,
   "id": "9af4c3cc-95a0-4650-a43e-0823066843c4",
   "metadata": {},
   "outputs": [
    {
     "name": "stderr",
     "output_type": "stream",
     "text": [
      "2023-06-13 18:23:31.837997: I tensorflow/core/platform/cpu_feature_guard.cc:182] This TensorFlow binary is optimized to use available CPU instructions in performance-critical operations.\n",
      "To enable the following instructions: AVX2 FMA, in other operations, rebuild TensorFlow with the appropriate compiler flags.\n"
     ]
    }
   ],
   "source": [
    "import os\n",
    "import pickle\n",
    "import numpy as np\n",
    "import pandas as pd\n",
    "import tensorflow as tf\n",
    "from tensorflow import keras\n",
    "from PIL import Image"
   ]
  },
  {
   "cell_type": "code",
   "execution_count": 2,
   "id": "445c1d7b-0037-4d83-8a93-ee8205f619fb",
   "metadata": {},
   "outputs": [],
   "source": [
    "PATH_CSV_LABELS = 'tabellaPseudoLabels.csv'\n",
    "PATH_DATASET_LAVORATO = './Dati Sensori/Dataset Sensori Lavorato'\n",
    "PATH_MODELLO = 'Modelli/modello_pesi_inizializzati_v1'\n",
    "\n",
    "N_IMG = 1\n",
    "FORMATO_IMG = 'jpg'\n",
    "HEIGHT = 512\n",
    "WIDTH = 512\n",
    "TARGET_SIZE = (WIDTH, HEIGHT)"
   ]
  },
  {
   "cell_type": "code",
   "execution_count": 3,
   "id": "ba7566c8-4967-463c-963b-b240579144dd",
   "metadata": {},
   "outputs": [
    {
     "data": {
      "text/html": [
       "<div>\n",
       "<style scoped>\n",
       "    .dataframe tbody tr th:only-of-type {\n",
       "        vertical-align: middle;\n",
       "    }\n",
       "\n",
       "    .dataframe tbody tr th {\n",
       "        vertical-align: top;\n",
       "    }\n",
       "\n",
       "    .dataframe thead th {\n",
       "        text-align: right;\n",
       "    }\n",
       "</style>\n",
       "<table border=\"1\" class=\"dataframe\">\n",
       "  <thead>\n",
       "    <tr style=\"text-align: right;\">\n",
       "      <th></th>\n",
       "      <th>Acquisizione</th>\n",
       "      <th>Label</th>\n",
       "      <th>Label_norm</th>\n",
       "    </tr>\n",
       "  </thead>\n",
       "  <tbody>\n",
       "    <tr>\n",
       "      <th>0</th>\n",
       "      <td>12_M_1</td>\n",
       "      <td>0.558931</td>\n",
       "      <td>14.387763</td>\n",
       "    </tr>\n",
       "    <tr>\n",
       "      <th>1</th>\n",
       "      <td>12_M_2</td>\n",
       "      <td>0.848155</td>\n",
       "      <td>90.057848</td>\n",
       "    </tr>\n",
       "    <tr>\n",
       "      <th>2</th>\n",
       "      <td>12_M_3</td>\n",
       "      <td>0.886156</td>\n",
       "      <td>100.000000</td>\n",
       "    </tr>\n",
       "    <tr>\n",
       "      <th>3</th>\n",
       "      <td>12_M_4</td>\n",
       "      <td>0.771945</td>\n",
       "      <td>70.119024</td>\n",
       "    </tr>\n",
       "    <tr>\n",
       "      <th>4</th>\n",
       "      <td>12_M_5</td>\n",
       "      <td>0.744003</td>\n",
       "      <td>62.808388</td>\n",
       "    </tr>\n",
       "  </tbody>\n",
       "</table>\n",
       "</div>"
      ],
      "text/plain": [
       "  Acquisizione     Label  Label_norm\n",
       "0       12_M_1  0.558931   14.387763\n",
       "1       12_M_2  0.848155   90.057848\n",
       "2       12_M_3  0.886156  100.000000\n",
       "3       12_M_4  0.771945   70.119024\n",
       "4       12_M_5  0.744003   62.808388"
      ]
     },
     "execution_count": 3,
     "metadata": {},
     "output_type": "execute_result"
    }
   ],
   "source": [
    "df_labels = pd.read_csv(PATH_CSV_LABELS)\n",
    "df_labels.head(5)"
   ]
  },
  {
   "cell_type": "code",
   "execution_count": 4,
   "id": "1ed55b97-be10-4e92-97c3-452f5a30e834",
   "metadata": {},
   "outputs": [],
   "source": [
    "def get_id_soggetto(id_acquisizione):\n",
    "    id_acquisizione = id_acquisizione.split('_')\n",
    "    n_soggetto = id_acquisizione[0]\n",
    "    sesso_soggetto = id_acquisizione[1]\n",
    "    return f\"{n_soggetto}_{sesso_soggetto}\""
   ]
  },
  {
   "cell_type": "code",
   "execution_count": 5,
   "id": "e5f632a9-53d2-424b-8d26-5c3518c73c0a",
   "metadata": {},
   "outputs": [],
   "source": [
    "X = []\n",
    "y = []\n",
    "\n",
    "for id_acquisizione in df_labels.Acquisizione:\n",
    "    nome_file = f\"{id_acquisizione}_img_{N_IMG}.{FORMATO_IMG}\"\n",
    "    path_img = os.path.join(PATH_DATASET_LAVORATO, get_id_soggetto(id_acquisizione), id_acquisizione, nome_file)\n",
    "    image = Image.open(path_img)\n",
    "    resized_image = image.resize(TARGET_SIZE)\n",
    "    image_array = np.array(resized_image)\n",
    "    normalized_image_array = image_array / 255.0\n",
    "    \n",
    "    pseudo_label = df_labels[df_labels.Acquisizione == id_acquisizione].Label_norm\n",
    "    \n",
    "    X.append(normalized_image_array)\n",
    "    y.append(pseudo_label)\n",
    "    \n",
    "X = np.array(X)\n",
    "y = np.array(y)"
   ]
  },
  {
   "cell_type": "code",
   "execution_count": 6,
   "id": "1388e1a1-c8ca-4703-8ccd-4e1028f667d3",
   "metadata": {},
   "outputs": [
    {
     "name": "stdout",
     "output_type": "stream",
     "text": [
      "Model: \"sequential\"\n",
      "_________________________________________________________________\n",
      " Layer (type)                Output Shape              Param #   \n",
      "=================================================================\n",
      " conv2d (Conv2D)             (None, 510, 510, 32)      320       \n",
      "                                                                 \n",
      " max_pooling2d (MaxPooling2D  (None, 255, 255, 32)     0         \n",
      " )                                                               \n",
      "                                                                 \n",
      " flatten (Flatten)           (None, 2080800)           0         \n",
      "                                                                 \n",
      " dense (Dense)               (None, 64)                133171264 \n",
      "                                                                 \n",
      " dense_1 (Dense)             (None, 1)                 65        \n",
      "                                                                 \n",
      "=================================================================\n",
      "Total params: 133,171,649\n",
      "Trainable params: 133,171,649\n",
      "Non-trainable params: 0\n",
      "_________________________________________________________________\n"
     ]
    }
   ],
   "source": [
    "model = keras.models.load_model(PATH_MODELLO)\n",
    "model.summary()"
   ]
  },
  {
   "cell_type": "code",
   "execution_count": 7,
   "id": "f8f298d0-33dd-494e-9f85-22aa4d7601b5",
   "metadata": {},
   "outputs": [
    {
     "name": "stdout",
     "output_type": "stream",
     "text": [
      "Epoch 1/20\n",
      "30/30 [==============================] - 15s 493ms/step - loss: 25.2234 - mae: 25.2234\n",
      "Epoch 2/20\n",
      "30/30 [==============================] - 14s 483ms/step - loss: 24.2245 - mae: 24.2245\n",
      "Epoch 3/20\n",
      "30/30 [==============================] - 15s 483ms/step - loss: 22.6327 - mae: 22.6327\n",
      "Epoch 4/20\n",
      "30/30 [==============================] - 14s 483ms/step - loss: 22.1368 - mae: 22.1368\n",
      "Epoch 5/20\n",
      "30/30 [==============================] - 15s 485ms/step - loss: 20.9673 - mae: 20.9673\n",
      "Epoch 6/20\n",
      "30/30 [==============================] - 15s 489ms/step - loss: 19.6179 - mae: 19.6179\n",
      "Epoch 7/20\n",
      "30/30 [==============================] - 15s 486ms/step - loss: 18.9098 - mae: 18.9098\n",
      "Epoch 8/20\n",
      "30/30 [==============================] - 15s 487ms/step - loss: 17.3051 - mae: 17.3051\n",
      "Epoch 9/20\n",
      "30/30 [==============================] - 15s 490ms/step - loss: 15.5713 - mae: 15.5713\n",
      "Epoch 10/20\n",
      "30/30 [==============================] - 15s 484ms/step - loss: 13.1616 - mae: 13.1616\n",
      "Epoch 11/20\n",
      "30/30 [==============================] - 15s 491ms/step - loss: 10.6588 - mae: 10.6588\n",
      "Epoch 12/20\n",
      "30/30 [==============================] - 15s 490ms/step - loss: 9.4238 - mae: 9.4238\n",
      "Epoch 13/20\n",
      "30/30 [==============================] - 15s 493ms/step - loss: 7.8551 - mae: 7.8551\n",
      "Epoch 14/20\n",
      "30/30 [==============================] - 15s 492ms/step - loss: 5.9533 - mae: 5.9533\n",
      "Epoch 15/20\n",
      "30/30 [==============================] - 15s 484ms/step - loss: 5.0682 - mae: 5.0682\n",
      "Epoch 16/20\n",
      "30/30 [==============================] - 15s 495ms/step - loss: 6.4564 - mae: 6.4564\n",
      "Epoch 17/20\n",
      "30/30 [==============================] - 15s 491ms/step - loss: 5.2208 - mae: 5.2208\n",
      "Epoch 18/20\n",
      "30/30 [==============================] - 15s 491ms/step - loss: 3.4596 - mae: 3.4596\n",
      "Epoch 19/20\n",
      "30/30 [==============================] - 15s 495ms/step - loss: 3.0430 - mae: 3.0430\n",
      "Epoch 20/20\n",
      "30/30 [==============================] - 12s 410ms/step - loss: 2.8542 - mae: 2.8542\n"
     ]
    },
    {
     "data": {
      "text/plain": [
       "<keras.callbacks.History at 0x7f8935cbeee0>"
      ]
     },
     "execution_count": 7,
     "metadata": {},
     "output_type": "execute_result"
    }
   ],
   "source": [
    "model.fit(x=X, y=y, batch_size=1, epochs=20)"
   ]
  },
  {
   "cell_type": "code",
   "execution_count": 8,
   "id": "31a6516a-696d-4d28-a9c2-3ebf7b74c5cf",
   "metadata": {},
   "outputs": [
    {
     "name": "stdout",
     "output_type": "stream",
     "text": [
      "1/1 [==============================] - 1s 503ms/step\n"
     ]
    },
    {
     "data": {
      "text/plain": [
       "array([[ 19.064325],\n",
       "       [ 89.98518 ],\n",
       "       [101.65917 ],\n",
       "       [ 73.417816],\n",
       "       [ 67.47574 ],\n",
       "       [ 10.503828],\n",
       "       [ 80.16316 ],\n",
       "       [ 55.02753 ],\n",
       "       [ 80.8325  ],\n",
       "       [ 75.33259 ],\n",
       "       [ 36.09754 ],\n",
       "       [ 65.48462 ],\n",
       "       [ 75.72285 ],\n",
       "       [ 12.284901],\n",
       "       [ 60.757412],\n",
       "       [ 39.196198],\n",
       "       [ 39.354538],\n",
       "       [ 68.43273 ],\n",
       "       [ 71.47165 ],\n",
       "       [ 68.38305 ],\n",
       "       [ 36.6414  ],\n",
       "       [ 48.771973],\n",
       "       [ 52.153706],\n",
       "       [ 61.76799 ],\n",
       "       [ 78.03122 ],\n",
       "       [ 25.86473 ],\n",
       "       [ 25.844954],\n",
       "       [ 14.370479],\n",
       "       [ 43.98975 ],\n",
       "       [ 28.897617]], dtype=float32)"
      ]
     },
     "execution_count": 8,
     "metadata": {},
     "output_type": "execute_result"
    }
   ],
   "source": [
    "model.predict(X)"
   ]
  },
  {
   "cell_type": "code",
   "execution_count": 9,
   "id": "0bead794-7dc3-4fc8-afe2-1b43e34ff791",
   "metadata": {},
   "outputs": [
    {
     "data": {
      "text/plain": [
       "array([[ 14.38776324],\n",
       "       [ 90.05784833],\n",
       "       [100.        ],\n",
       "       [ 70.11902421],\n",
       "       [ 62.8083878 ],\n",
       "       [  0.        ],\n",
       "       [ 75.6853248 ],\n",
       "       [ 53.78656739],\n",
       "       [ 73.88803792],\n",
       "       [ 69.96671962],\n",
       "       [ 31.43078081],\n",
       "       [ 61.84041709],\n",
       "       [ 73.70590257],\n",
       "       [  1.90248829],\n",
       "       [ 61.10732865],\n",
       "       [ 31.94502288],\n",
       "       [ 36.98859557],\n",
       "       [ 64.10041713],\n",
       "       [ 71.95538621],\n",
       "       [ 62.96287593],\n",
       "       [ 33.46659409],\n",
       "       [ 45.18621211],\n",
       "       [ 48.7416397 ],\n",
       "       [ 54.43098089],\n",
       "       [ 75.04505273],\n",
       "       [ 21.64331626],\n",
       "       [ 25.37730258],\n",
       "       [  6.16541405],\n",
       "       [ 41.17895281],\n",
       "       [ 24.97404123]])"
      ]
     },
     "execution_count": 9,
     "metadata": {},
     "output_type": "execute_result"
    }
   ],
   "source": [
    "y"
   ]
  }
 ],
 "metadata": {
  "kernelspec": {
   "display_name": "Python 3 (ipykernel)",
   "language": "python",
   "name": "python3"
  },
  "language_info": {
   "codemirror_mode": {
    "name": "ipython",
    "version": 3
   },
   "file_extension": ".py",
   "mimetype": "text/x-python",
   "name": "python",
   "nbconvert_exporter": "python",
   "pygments_lexer": "ipython3",
   "version": "3.9.7"
  }
 },
 "nbformat": 4,
 "nbformat_minor": 5
}
