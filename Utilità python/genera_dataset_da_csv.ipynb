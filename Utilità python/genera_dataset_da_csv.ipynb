{
 "cells": [
  {
   "cell_type": "code",
   "execution_count": 1,
   "id": "437f748c-4cc8-4fd9-81b5-8f4afd6918df",
   "metadata": {},
   "outputs": [],
   "source": [
    "import pandas as pd\n",
    "import os \n",
    "from pathlib import Path\n",
    "from PIL import Image\n",
    "import numpy as np"
   ]
  },
  {
   "cell_type": "code",
   "execution_count": 2,
   "id": "a4bddf36-5b06-4635-9a8b-db11fbadb84a",
   "metadata": {},
   "outputs": [],
   "source": [
    "def get_sotto_cartelle(path):\n",
    "    return [x[1] for x in os.walk(path)][0]"
   ]
  },
  {
   "cell_type": "code",
   "execution_count": 3,
   "id": "742a3316-7e1f-4d45-93b2-a150b9a16abf",
   "metadata": {},
   "outputs": [],
   "source": [
    "PATH_DATASET_CSV = './Dati Sensori/Dataset Sensori Csv'\n",
    "PATH_DATASET_LAVORATO = './Dati Sensori/Dataset Sensori Lavorato'"
   ]
  },
  {
   "cell_type": "code",
   "execution_count": 4,
   "id": "d784d37b-21f8-448a-842d-904a84fd78b5",
   "metadata": {},
   "outputs": [],
   "source": [
    "def genera_immagini_da_path(path_file, soggetto_acquisizione, id_acquisizione, base_path_destinazione):\n",
    "    path_immagini = f'{PATH_DATASET_LAVORATO}/{soggetto_acquisizione}/{id_acquisizione}'\n",
    "    Path(path_immagini).mkdir(parents=True, exist_ok=True)\n",
    "    df_immagini = pd.read_csv(path_file)\n",
    "    for depth_image in list(range(1,14)):\n",
    "        img_array = df_immagini[df_immagini.P == depth_image]['Valore'].to_numpy()\n",
    "        img_array.resize((814,542))\n",
    "        img_array = img_array.T\n",
    "        img = Image.fromarray(img_array.astype(np.uint8))\n",
    "        img.save(f'{path_immagini}/{id_acquisizione}_img_{depth_image}.jpg')"
   ]
  },
  {
   "cell_type": "code",
   "execution_count": 5,
   "id": "a74dc198-7df6-41b1-a3d8-d2e25999fba9",
   "metadata": {},
   "outputs": [
    {
     "name": "stdout",
     "output_type": "stream",
     "text": [
      "Generando per il soggetto 7_M\n",
      "Generando per il soggetto 12_M\n",
      "Generando per il soggetto 15_M\n",
      "Generando per il soggetto 1_M\n",
      "Generando per il soggetto 8_M\n",
      "Generando per il soggetto 13_M\n"
     ]
    }
   ],
   "source": [
    "folder_csv = get_sotto_cartelle(PATH_DATASET_CSV)\n",
    "for folder in folder_csv:\n",
    "    print(f'Generando per il soggetto {folder}')\n",
    "    path_folder = f'{PATH_DATASET_CSV}/{folder}'\n",
    "    for file in os.listdir(path_folder):\n",
    "        if file.endswith('.csv'):\n",
    "            path_file = f'{path_folder}/{file}'\n",
    "            soggetto_acquisizione = folder\n",
    "            id_acquisizione = file.split('_matrix')[0]\n",
    "            genera_immagini_da_path(path_file, soggetto_acquisizione, id_acquisizione, PATH_DATASET_LAVORATO)\n",
    "            \n",
    "    "
   ]
  }
 ],
 "metadata": {
  "kernelspec": {
   "display_name": "Python 3 (ipykernel)",
   "language": "python",
   "name": "python3"
  },
  "language_info": {
   "codemirror_mode": {
    "name": "ipython",
    "version": 3
   },
   "file_extension": ".py",
   "mimetype": "text/x-python",
   "name": "python",
   "nbconvert_exporter": "python",
   "pygments_lexer": "ipython3",
   "version": "3.9.12"
  }
 },
 "nbformat": 4,
 "nbformat_minor": 5
}
